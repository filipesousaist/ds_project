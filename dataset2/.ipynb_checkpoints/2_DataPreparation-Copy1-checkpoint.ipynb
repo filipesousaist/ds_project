{
 "cells": [
  {
   "cell_type": "markdown",
   "metadata": {},
   "source": [
    "# 2. Data preparation\n",
    "\n",
    "---"
   ]
  },
  {
   "cell_type": "markdown",
   "metadata": {},
   "source": [
    "### Setup"
   ]
  },
  {
   "cell_type": "code",
   "execution_count": 1,
   "metadata": {},
   "outputs": [],
   "source": [
    "import sys\n",
    "sys.path.insert(1, '../utils')\n",
    "\n",
    "import pandas as pd\n",
    "\n",
    "original: pd.DataFrame = pd.read_csv('qsar_oral_toxicity_after_profiling.csv', sep=';')"
   ]
  },
  {
   "cell_type": "markdown",
   "metadata": {},
   "source": [
    "## 2.0. Data preparation\n",
    "\n",
    "---"
   ]
  },
  {
   "cell_type": "markdown",
   "metadata": {},
   "source": [
    "### Missing Values Imputation\n",
    "\n",
    "---"
   ]
  },
  {
   "cell_type": "markdown",
   "metadata": {},
   "source": [
    "In our dataset there are no missing values and therefore this step is not appliable."
   ]
  },
  {
   "cell_type": "markdown",
   "metadata": {},
   "source": [
    "### Outliers Imputation\n",
    "---"
   ]
  },
  {
   "cell_type": "code",
   "execution_count": 2,
   "metadata": {},
   "outputs": [],
   "source": [
    "#TODO"
   ]
  },
  {
   "cell_type": "markdown",
   "metadata": {},
   "source": [
    "### Scaling\n",
    "\n",
    "---"
   ]
  },
  {
   "cell_type": "markdown",
   "metadata": {
    "scrolled": false
   },
   "source": [
    "Since all variables are binary (0 or 1) they are already scaled. Therefore, no scaling is needed."
   ]
  },
  {
   "cell_type": "markdown",
   "metadata": {},
   "source": [
    "### Data balancing\n",
    "\n",
    "---"
   ]
  },
  {
   "cell_type": "code",
   "execution_count": 3,
   "metadata": {
    "scrolled": true
   },
   "outputs": [
    {
     "data": {
      "image/png": "[encoded data removed]",
      "text/plain": [
       "<Figure size 432x288 with 1 Axes>"
      ]
     },
     "metadata": {
      "needs_background": "light"
     },
     "output_type": "display_data"
    },
    {
     "name": "stdout",
     "output_type": "stream",
     "text": [
      "Minority class: 741\n",
      "Majority class: 8250\n",
      "Proportion: 0.09 : 1\n"
     ]
    }
   ],
   "source": [
    "import matplotlib.pyplot as plt\n",
    "\n",
    "unbal = original[:]\n",
    "target_count = unbal['exp'].value_counts()\n",
    "plt.figure()\n",
    "plt.title('Class balance')\n",
    "plt.bar(target_count.index, target_count.values)\n",
    "plt.show()\n",
    "\n",
    "min_class = target_count.idxmin()\n",
    "ind_min_class = target_count.index.get_loc(min_class)\n",
    "\n",
    "print('Minority class:', target_count[ind_min_class])\n",
    "print('Majority class:', target_count[1-ind_min_class])\n",
    "print('Proportion:', round(target_count[ind_min_class] / target_count[1-ind_min_class], 3), ': 1')"
   ]
  },
  {
   "cell_type": "code",
   "execution_count": 4,
   "metadata": {
    "scrolled": false
   },
   "outputs": [
    {
     "data": {
      "image/png": "[encoded data removed]",
      "text/plain": [
       "<Figure size 600x450 with 1 Axes>"
      ]
     },
     "metadata": {
      "needs_background": "dark"
     },
     "output_type": "display_data"
    }
   ],
   "source": [
    "import ds_functions as ds\n",
    "\n",
    "df_class_min = unbal[unbal['exp'] == min_class]\n",
    "df_class_max = unbal[unbal['exp'] != min_class]\n",
    "\n",
    "values = {'Original': [target_count.values[ind_min_class], target_count.values[1-ind_min_class]]}\n",
    "\n",
    "FINAL_SIZE = len(df_class_max) // 3\n",
    "\n",
    "# Oversampling\n",
    "df_class_min_sample = df_class_min.sample(FINAL_SIZE, replace=True)\n",
    "# Undersampling\n",
    "df_class_max_sample = df_class_max.sample(FINAL_SIZE)\n",
    "\n",
    "values['Balanced'] = [len(df_class_min_sample), len(df_class_max_sample)]\n",
    "\n",
    "fig = plt.figure()\n",
    "ds.multiple_bar_chart([target_count.index[ind_min_class], target_count.index[1-ind_min_class]], values,\n",
    "                      title='Target', xlabel='frequency', ylabel='Class balance', showXTickLabels=True)\n",
    "plt.show()\n",
    "\n",
    "balanced = pd.concat((df_class_min_sample, df_class_max_sample))"
   ]
  },
  {
   "cell_type": "code",
   "execution_count": 5,
   "metadata": {},
   "outputs": [],
   "source": [
    "original.to_csv('qsar_oral_toxicity_after_preparation.csv', sep=';', index=False)\n",
    "balanced.to_csv('qsar_oral_toxicity_after_preparation_balanced.csv', sep=';', index=False)"
   ]
  },
  {
   "cell_type": "markdown",
   "metadata": {},
   "source": [
    "### Feature Selection\n",
    "\n",
    "---"
   ]
  },
  {
   "cell_type": "markdown",
   "metadata": {},
   "source": [
    "#### Unsupervised Selection"
   ]
  },
  {
   "cell_type": "markdown",
   "metadata": {},
   "source": [
    "By definition, unsupervised selection only aims for eliminating redundancies among the\n",
    "variables, getting the smallest set possible."
   ]
  },
  {
   "cell_type": "code",
   "execution_count": 6,
   "metadata": {},
   "outputs": [],
   "source": [
    "import seaborn as sns\n",
    "import numpy as np\n",
    "\n",
    "copy = balanced.copy(deep=True)\n",
    "copy = copy.drop('exp', axis = 1)\n",
    "corrs = copy.corr()\n",
    "\n",
    "removed = []\n",
    "\n",
    "for x in corrs:\n",
    "    for y in corrs:\n",
    "        if x == y:\n",
    "            break\n",
    "        corr = corrs[x][y]\n",
    "        if abs(corr) >= 0.9 and x not in removed and y not in removed:\n",
    "            copy = copy.drop(x, axis=1)\n",
    "            removed.append(x)\n",
    "            break\n",
    "\n",
    "copy['exp'] = balanced['exp']"
   ]
  },
  {
   "cell_type": "markdown",
   "metadata": {},
   "source": [
    "#### Supervised Selection"
   ]
  },
  {
   "cell_type": "markdown",
   "metadata": {},
   "source": [
    "In the context of supervised selection, the goal is to identify the most relevant variables\n",
    "in relation to the target variable, and so we need criteria able to relate each variable\n",
    "with the target one."
   ]
  },
  {
   "cell_type": "code",
   "execution_count": 7,
   "metadata": {},
   "outputs": [
    {
     "name": "stdout",
     "output_type": "stream",
     "text": [
      "bmf1      -0.081274\n",
      "bmf2       0.029562\n",
      "bmf3       0.108283\n",
      "bmf4       0.111371\n",
      "bmf5      -0.012969\n",
      "             ...   \n",
      "bmf1020    0.043809\n",
      "bmf1021   -0.006248\n",
      "bmf1022   -0.019568\n",
      "bmf1023    0.004824\n",
      "bmf1024   -0.022930\n",
      "Length: 995, dtype: float64\n"
     ]
    }
   ],
   "source": [
    "importances = copy.drop('exp', axis=1).apply(lambda x: x.corr(copy.exp))\n",
    "print(importances)"
   ]
  },
  {
   "cell_type": "code",
   "execution_count": 8,
   "metadata": {},
   "outputs": [],
   "source": [
    "new_copy = copy.copy(deep=True)\n",
    "\n",
    "for i in range(0, len(importances)):\n",
    "    if np.abs(importances[i]) < 0.10:\n",
    "        new_copy = new_copy.drop(importances.index[i], axis=1)"
   ]
  },
  {
   "cell_type": "code",
   "execution_count": 9,
   "metadata": {},
   "outputs": [],
   "source": [
    "from sklearn.feature_selection import SelectKBest\n",
    "from sklearn.feature_selection import chi2\n",
    "import pandas as pd\n",
    "\n",
    "newest_copy = new_copy.copy(deep=True)\n",
    "\n",
    "X = pd.get_dummies(newest_copy.drop('exp', axis=1))\n",
    "y = pd.get_dummies(newest_copy['exp'])\n",
    "\n",
    "\n",
    "#feature selection using chi2\n",
    "bestfeatures = SelectKBest(score_func=chi2, k='all')\n",
    "fit = bestfeatures.fit(X, y)\n",
    "#create df for scores\n",
    "dfscores = pd.DataFrame(fit.scores_)\n",
    "#create df for column names\n",
    "dfcolumns = pd.DataFrame(X.columns)\n",
    "\n",
    "#concat two dataframes for better visualization \n",
    "featureScores = pd.concat([dfcolumns,dfscores],axis=1)\n",
    "#naming the dataframe columns\n",
    "featureScores.columns = ['Selected_columns','Score_chi2']\n",
    "\n",
    "for i in range(0, len(featureScores)):\n",
    "    if featureScores['Score_chi2'][i] <= 50:\n",
    "        newest_copy = newest_copy.drop(featureScores['Selected_columns'][i], axis=1)"
   ]
  },
  {
   "cell_type": "code",
   "execution_count": 10,
   "metadata": {},
   "outputs": [],
   "source": [
    "newest_copy.to_csv('qsar_oral_toxicity_after_preparation_selected.csv', sep=';', index=False)"
   ]
  },
  {
   "cell_type": "markdown",
   "metadata": {},
   "source": [
    "### Summary\n",
    "\n",
    "---\n",
    "\n",
    "***Are all variables in the same scale? If not, how does scaling impact the results?***\n",
    "\n",
    "Yes, they are all binary and, therefore, all in the same scale.\n",
    "\n",
    "***Is the dataset unbalanced? If yes, what is the best balancing technique to apply?***\n",
    "\n",
    "Yes, the dataset is way unbalanced. To balance it we used two techniques: oversampling for the minority class (positive) and undersampling for the majority class (negative)."
   ]
  }
 ],
 "metadata": {
  "kernelspec": {
   "display_name": "Python 3",
   "language": "python",
   "name": "python3"
  },
  "language_info": {
   "codemirror_mode": {
    "name": "ipython",
    "version": 3
   },
   "file_extension": ".py",
   "mimetype": "text/x-python",
   "name": "python",
   "nbconvert_exporter": "python",
   "pygments_lexer": "ipython3",
   "version": "3.8.5"
  }
 },
 "nbformat": 4,
 "nbformat_minor": 4
}
