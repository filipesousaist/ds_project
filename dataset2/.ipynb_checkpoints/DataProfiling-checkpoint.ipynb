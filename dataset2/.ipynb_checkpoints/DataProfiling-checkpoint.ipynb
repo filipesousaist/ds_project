{
 "cells": [
  {
   "cell_type": "markdown",
   "metadata": {},
   "source": [
    "# 1. Data profiling\n",
    "\n",
    "---"
   ]
  },
  {
   "cell_type": "markdown",
   "metadata": {},
   "source": [
    "### Setup\n",
    "\n",
    "---"
   ]
  },
  {
   "cell_type": "code",
   "execution_count": 2,
   "metadata": {
    "scrolled": true
   },
   "outputs": [
    {
     "data": {
      "text/plain": [
       "(8991, 1025)"
      ]
     },
     "execution_count": 2,
     "metadata": {},
     "output_type": "execute_result"
    }
   ],
   "source": [
    "import sys\n",
    "sys.path.insert(1, '../utils')\n",
    "\n",
    "import pandas as pd\n",
    "import matplotlib.pyplot as plt\n",
    "import ds_functions as ds\n",
    "\n",
    "from pandas.plotting import register_matplotlib_converters\n",
    "\n",
    "register_matplotlib_converters()\n",
    "\n",
    "# 1024 binary molecular fingerprints and 1 experimental class\n",
    "column_names = [\"bmf\" + str(i) for i in range(1, 1025)] + [\"exp\"]\n",
    "\n",
    "data = pd.read_csv('qsar_oral_toxicity.csv', sep=';', header=0, names = column_names)\n",
    "data.shape"
   ]
  },
  {
   "cell_type": "markdown",
   "metadata": {},
   "source": [
    "## 1.1. Data dimensionality\n",
    "\n",
    "---"
   ]
  },
  {
   "cell_type": "markdown",
   "metadata": {},
   "source": [
    "### Number of records/variables\n",
    "\n",
    "---"
   ]
  },
  {
   "cell_type": "code",
   "execution_count": 2,
   "metadata": {},
   "outputs": [
    {
     "data": {
      "image/png": "[encoded data removed]",
      "text/plain": [
       "<Figure size 600x300 with 1 Axes>"
      ]
     },
     "metadata": {
      "needs_background": "dark"
     },
     "output_type": "display_data"
    }
   ],
   "source": [
    "plt.figure(figsize=(4,2))\n",
    "values = {'nr records': data.shape[0], 'nr variables': data.shape[1]}\n",
    "ds.bar_chart(values.keys(), values.values(), title='Nr of records vs nr variables')"
   ]
  },
  {
   "cell_type": "markdown",
   "metadata": {},
   "source": [
    "### Data types\n",
    "\n",
    "---"
   ]
  },
  {
   "cell_type": "code",
   "execution_count": 3,
   "metadata": {},
   "outputs": [
    {
     "data": {
      "text/plain": [
       "bmf1        int64\n",
       "bmf2        int64\n",
       "bmf3        int64\n",
       "bmf4        int64\n",
       "bmf5        int64\n",
       "            ...  \n",
       "bmf1021     int64\n",
       "bmf1022     int64\n",
       "bmf1023     int64\n",
       "bmf1024     int64\n",
       "exp        object\n",
       "Length: 1025, dtype: object"
      ]
     },
     "execution_count": 3,
     "metadata": {},
     "output_type": "execute_result"
    }
   ],
   "source": [
    "data.dtypes"
   ]
  },
  {
   "cell_type": "code",
   "execution_count": 4,
   "metadata": {},
   "outputs": [
    {
     "data": {
      "text/plain": [
       "bmf1          int64\n",
       "bmf2          int64\n",
       "bmf3          int64\n",
       "bmf4          int64\n",
       "bmf5          int64\n",
       "             ...   \n",
       "bmf1021       int64\n",
       "bmf1022       int64\n",
       "bmf1023       int64\n",
       "bmf1024       int64\n",
       "exp        category\n",
       "Length: 1025, dtype: object"
      ]
     },
     "execution_count": 4,
     "metadata": {},
     "output_type": "execute_result"
    }
   ],
   "source": [
    "cat_vars = data.select_dtypes(include='object')\n",
    "data[cat_vars.columns] = data.select_dtypes(['object']).apply(lambda x: x.astype('category'))\n",
    "data.dtypes"
   ]
  },
  {
   "cell_type": "markdown",
   "metadata": {},
   "source": [
    "### Missing values\n",
    "\n",
    "---"
   ]
  },
  {
   "cell_type": "code",
   "execution_count": 5,
   "metadata": {
    "scrolled": true
   },
   "outputs": [
    {
     "data": {
      "text/plain": [
       "dict_values([0, 0, 0, 0, 0, 0, 0, 0, 0, 0, 0, 0, 0, 0, 0, 0, 0, 0, 0, 0, 0, 0, 0, 0, 0, 0, 0, 0, 0, 0, 0, 0, 0, 0, 0, 0, 0, 0, 0, 0, 0, 0, 0, 0, 0, 0, 0, 0, 0, 0, 0, 0, 0, 0, 0, 0, 0, 0, 0, 0, 0, 0, 0, 0, 0, 0, 0, 0, 0, 0, 0, 0, 0, 0, 0, 0, 0, 0, 0, 0, 0, 0, 0, 0, 0, 0, 0, 0, 0, 0, 0, 0, 0, 0, 0, 0, 0, 0, 0, 0, 0, 0, 0, 0, 0, 0, 0, 0, 0, 0, 0, 0, 0, 0, 0, 0, 0, 0, 0, 0, 0, 0, 0, 0, 0, 0, 0, 0, 0, 0, 0, 0, 0, 0, 0, 0, 0, 0, 0, 0, 0, 0, 0, 0, 0, 0, 0, 0, 0, 0, 0, 0, 0, 0, 0, 0, 0, 0, 0, 0, 0, 0, 0, 0, 0, 0, 0, 0, 0, 0, 0, 0, 0, 0, 0, 0, 0, 0, 0, 0, 0, 0, 0, 0, 0, 0, 0, 0, 0, 0, 0, 0, 0, 0, 0, 0, 0, 0, 0, 0, 0, 0, 0, 0, 0, 0, 0, 0, 0, 0, 0, 0, 0, 0, 0, 0, 0, 0, 0, 0, 0, 0, 0, 0, 0, 0, 0, 0, 0, 0, 0, 0, 0, 0, 0, 0, 0, 0, 0, 0, 0, 0, 0, 0, 0, 0, 0, 0, 0, 0, 0, 0, 0, 0, 0, 0, 0, 0, 0, 0, 0, 0, 0, 0, 0, 0, 0, 0, 0, 0, 0, 0, 0, 0, 0, 0, 0, 0, 0, 0, 0, 0, 0, 0, 0, 0, 0, 0, 0, 0, 0, 0, 0, 0, 0, 0, 0, 0, 0, 0, 0, 0, 0, 0, 0, 0, 0, 0, 0, 0, 0, 0, 0, 0, 0, 0, 0, 0, 0, 0, 0, 0, 0, 0, 0, 0, 0, 0, 0, 0, 0, 0, 0, 0, 0, 0, 0, 0, 0, 0, 0, 0, 0, 0, 0, 0, 0, 0, 0, 0, 0, 0, 0, 0, 0, 0, 0, 0, 0, 0, 0, 0, 0, 0, 0, 0, 0, 0, 0, 0, 0, 0, 0, 0, 0, 0, 0, 0, 0, 0, 0, 0, 0, 0, 0, 0, 0, 0, 0, 0, 0, 0, 0, 0, 0, 0, 0, 0, 0, 0, 0, 0, 0, 0, 0, 0, 0, 0, 0, 0, 0, 0, 0, 0, 0, 0, 0, 0, 0, 0, 0, 0, 0, 0, 0, 0, 0, 0, 0, 0, 0, 0, 0, 0, 0, 0, 0, 0, 0, 0, 0, 0, 0, 0, 0, 0, 0, 0, 0, 0, 0, 0, 0, 0, 0, 0, 0, 0, 0, 0, 0, 0, 0, 0, 0, 0, 0, 0, 0, 0, 0, 0, 0, 0, 0, 0, 0, 0, 0, 0, 0, 0, 0, 0, 0, 0, 0, 0, 0, 0, 0, 0, 0, 0, 0, 0, 0, 0, 0, 0, 0, 0, 0, 0, 0, 0, 0, 0, 0, 0, 0, 0, 0, 0, 0, 0, 0, 0, 0, 0, 0, 0, 0, 0, 0, 0, 0, 0, 0, 0, 0, 0, 0, 0, 0, 0, 0, 0, 0, 0, 0, 0, 0, 0, 0, 0, 0, 0, 0, 0, 0, 0, 0, 0, 0, 0, 0, 0, 0, 0, 0, 0, 0, 0, 0, 0, 0, 0, 0, 0, 0, 0, 0, 0, 0, 0, 0, 0, 0, 0, 0, 0, 0, 0, 0, 0, 0, 0, 0, 0, 0, 0, 0, 0, 0, 0, 0, 0, 0, 0, 0, 0, 0, 0, 0, 0, 0, 0, 0, 0, 0, 0, 0, 0, 0, 0, 0, 0, 0, 0, 0, 0, 0, 0, 0, 0, 0, 0, 0, 0, 0, 0, 0, 0, 0, 0, 0, 0, 0, 0, 0, 0, 0, 0, 0, 0, 0, 0, 0, 0, 0, 0, 0, 0, 0, 0, 0, 0, 0, 0, 0, 0, 0, 0, 0, 0, 0, 0, 0, 0, 0, 0, 0, 0, 0, 0, 0, 0, 0, 0, 0, 0, 0, 0, 0, 0, 0, 0, 0, 0, 0, 0, 0, 0, 0, 0, 0, 0, 0, 0, 0, 0, 0, 0, 0, 0, 0, 0, 0, 0, 0, 0, 0, 0, 0, 0, 0, 0, 0, 0, 0, 0, 0, 0, 0, 0, 0, 0, 0, 0, 0, 0, 0, 0, 0, 0, 0, 0, 0, 0, 0, 0, 0, 0, 0, 0, 0, 0, 0, 0, 0, 0, 0, 0, 0, 0, 0, 0, 0, 0, 0, 0, 0, 0, 0, 0, 0, 0, 0, 0, 0, 0, 0, 0, 0, 0, 0, 0, 0, 0, 0, 0, 0, 0, 0, 0, 0, 0, 0, 0, 0, 0, 0, 0, 0, 0, 0, 0, 0, 0, 0, 0, 0, 0, 0, 0, 0, 0, 0, 0, 0, 0, 0, 0, 0, 0, 0, 0, 0, 0, 0, 0, 0, 0, 0, 0, 0, 0, 0, 0, 0, 0, 0, 0, 0, 0, 0, 0, 0, 0, 0, 0, 0, 0, 0, 0, 0, 0, 0, 0, 0, 0, 0, 0, 0, 0, 0, 0, 0, 0, 0, 0, 0, 0, 0, 0, 0, 0, 0, 0, 0, 0, 0, 0, 0, 0, 0, 0, 0, 0, 0, 0, 0, 0, 0, 0, 0, 0, 0, 0, 0, 0, 0, 0, 0, 0, 0, 0, 0, 0, 0, 0, 0, 0, 0, 0, 0, 0, 0, 0, 0, 0, 0, 0, 0, 0, 0, 0, 0, 0, 0, 0, 0, 0, 0, 0, 0, 0, 0, 0, 0, 0, 0, 0, 0, 0, 0, 0, 0, 0, 0, 0, 0, 0, 0, 0, 0, 0, 0, 0, 0, 0, 0, 0, 0, 0, 0, 0, 0, 0, 0, 0, 0, 0, 0, 0, 0, 0, 0, 0, 0, 0, 0, 0, 0, 0, 0, 0, 0, 0, 0, 0, 0, 0, 0, 0, 0, 0, 0, 0, 0, 0, 0, 0, 0, 0, 0, 0, 0, 0, 0, 0, 0, 0, 0, 0, 0, 0, 0, 0, 0, 0, 0, 0, 0, 0, 0, 0, 0, 0, 0, 0, 0, 0, 0])"
      ]
     },
     "execution_count": 5,
     "metadata": {},
     "output_type": "execute_result"
    },
    {
     "data": {
      "image/png": "[encoded data removed]",
      "text/plain": [
       "<Figure size 600x450 with 1 Axes>"
      ]
     },
     "metadata": {
      "needs_background": "dark"
     },
     "output_type": "display_data"
    }
   ],
   "source": [
    "plt.figure()\n",
    "mv = {}\n",
    "for var in data:\n",
    "    mv[var] = data[var].isna().sum()\n",
    "ds.bar_chart(mv.keys(), mv.values(), title='Nr of missing values per variable',\n",
    "               xlabel='variables', ylabel='nr missing values')\n",
    "mv.values()"
   ]
  },
  {
   "cell_type": "markdown",
   "metadata": {},
   "source": [
    "### Summary\n",
    "***How many variables are there in the dataset?***\n",
    "\n",
    "***1025*** variables\n",
    "\n",
    "***And how many records?***\n",
    "\n",
    "***8991*** records\n",
    "\n",
    "***What is the ratio between the number of records and variables?***\n",
    "\n",
    "There is a ratio of approximately ***8.772*** records per variable.\n",
    "\n",
    "***What are the types for each variable?***\n",
    "\n",
    "* 1024 binary molecular fingerprints - boolean values (int64)\n",
    "* 1 experimental class - category\n",
    "\n",
    "***How many missing values are there per variable?***\n",
    "\n",
    "There are no missing values in the dataset"
   ]
  },
  {
   "cell_type": "markdown",
   "metadata": {},
   "source": [
    "## 1.2. Data Distribution\n",
    "\n",
    "---"
   ]
  },
  {
   "cell_type": "markdown",
   "metadata": {},
   "source": [
    "### Symbolic Variables\n",
    "Boxplots are not applicable to non-numeric variables. Lets identify their values and most frequent values (modes)."
   ]
  },
  {
   "cell_type": "code",
   "execution_count": 6,
   "metadata": {},
   "outputs": [
    {
     "data": {
      "text/html": [
       "<div>\n",
       "<style scoped>\n",
       "    .dataframe tbody tr th:only-of-type {\n",
       "        vertical-align: middle;\n",
       "    }\n",
       "\n",
       "    .dataframe tbody tr th {\n",
       "        vertical-align: top;\n",
       "    }\n",
       "\n",
       "    .dataframe thead th {\n",
       "        text-align: right;\n",
       "    }\n",
       "</style>\n",
       "<table border=\"1\" class=\"dataframe\">\n",
       "  <thead>\n",
       "    <tr style=\"text-align: right;\">\n",
       "      <th></th>\n",
       "      <th>bmf1</th>\n",
       "      <th>bmf2</th>\n",
       "      <th>bmf3</th>\n",
       "      <th>bmf4</th>\n",
       "      <th>bmf5</th>\n",
       "      <th>bmf6</th>\n",
       "      <th>bmf7</th>\n",
       "      <th>bmf8</th>\n",
       "      <th>bmf9</th>\n",
       "      <th>bmf10</th>\n",
       "      <th>...</th>\n",
       "      <th>bmf1015</th>\n",
       "      <th>bmf1016</th>\n",
       "      <th>bmf1017</th>\n",
       "      <th>bmf1018</th>\n",
       "      <th>bmf1019</th>\n",
       "      <th>bmf1020</th>\n",
       "      <th>bmf1021</th>\n",
       "      <th>bmf1022</th>\n",
       "      <th>bmf1023</th>\n",
       "      <th>bmf1024</th>\n",
       "    </tr>\n",
       "  </thead>\n",
       "  <tbody>\n",
       "    <tr>\n",
       "      <th>count</th>\n",
       "      <td>8991.000000</td>\n",
       "      <td>8991.000000</td>\n",
       "      <td>8991.000000</td>\n",
       "      <td>8991.000000</td>\n",
       "      <td>8991.000000</td>\n",
       "      <td>8991.000000</td>\n",
       "      <td>8991.000000</td>\n",
       "      <td>8991.000000</td>\n",
       "      <td>8991.000000</td>\n",
       "      <td>8991.000000</td>\n",
       "      <td>...</td>\n",
       "      <td>8991.000000</td>\n",
       "      <td>8991.000000</td>\n",
       "      <td>8991.000000</td>\n",
       "      <td>8991.000000</td>\n",
       "      <td>8991.000000</td>\n",
       "      <td>8991.000000</td>\n",
       "      <td>8991.000000</td>\n",
       "      <td>8991.000000</td>\n",
       "      <td>8991.000000</td>\n",
       "      <td>8991.000000</td>\n",
       "    </tr>\n",
       "    <tr>\n",
       "      <th>mean</th>\n",
       "      <td>0.212991</td>\n",
       "      <td>0.035702</td>\n",
       "      <td>0.068735</td>\n",
       "      <td>0.033367</td>\n",
       "      <td>0.018685</td>\n",
       "      <td>0.144811</td>\n",
       "      <td>0.123123</td>\n",
       "      <td>0.193749</td>\n",
       "      <td>0.013792</td>\n",
       "      <td>0.017351</td>\n",
       "      <td>...</td>\n",
       "      <td>0.038928</td>\n",
       "      <td>0.061284</td>\n",
       "      <td>0.016683</td>\n",
       "      <td>0.164387</td>\n",
       "      <td>0.239017</td>\n",
       "      <td>0.022467</td>\n",
       "      <td>0.022022</td>\n",
       "      <td>0.021800</td>\n",
       "      <td>0.022356</td>\n",
       "      <td>0.018463</td>\n",
       "    </tr>\n",
       "    <tr>\n",
       "      <th>std</th>\n",
       "      <td>0.409444</td>\n",
       "      <td>0.185557</td>\n",
       "      <td>0.253018</td>\n",
       "      <td>0.179602</td>\n",
       "      <td>0.135419</td>\n",
       "      <td>0.351930</td>\n",
       "      <td>0.328597</td>\n",
       "      <td>0.395257</td>\n",
       "      <td>0.116631</td>\n",
       "      <td>0.130582</td>\n",
       "      <td>...</td>\n",
       "      <td>0.193434</td>\n",
       "      <td>0.239863</td>\n",
       "      <td>0.128089</td>\n",
       "      <td>0.370647</td>\n",
       "      <td>0.426507</td>\n",
       "      <td>0.148205</td>\n",
       "      <td>0.146763</td>\n",
       "      <td>0.146037</td>\n",
       "      <td>0.147846</td>\n",
       "      <td>0.134626</td>\n",
       "    </tr>\n",
       "    <tr>\n",
       "      <th>min</th>\n",
       "      <td>0.000000</td>\n",
       "      <td>0.000000</td>\n",
       "      <td>0.000000</td>\n",
       "      <td>0.000000</td>\n",
       "      <td>0.000000</td>\n",
       "      <td>0.000000</td>\n",
       "      <td>0.000000</td>\n",
       "      <td>0.000000</td>\n",
       "      <td>0.000000</td>\n",
       "      <td>0.000000</td>\n",
       "      <td>...</td>\n",
       "      <td>0.000000</td>\n",
       "      <td>0.000000</td>\n",
       "      <td>0.000000</td>\n",
       "      <td>0.000000</td>\n",
       "      <td>0.000000</td>\n",
       "      <td>0.000000</td>\n",
       "      <td>0.000000</td>\n",
       "      <td>0.000000</td>\n",
       "      <td>0.000000</td>\n",
       "      <td>0.000000</td>\n",
       "    </tr>\n",
       "    <tr>\n",
       "      <th>25%</th>\n",
       "      <td>0.000000</td>\n",
       "      <td>0.000000</td>\n",
       "      <td>0.000000</td>\n",
       "      <td>0.000000</td>\n",
       "      <td>0.000000</td>\n",
       "      <td>0.000000</td>\n",
       "      <td>0.000000</td>\n",
       "      <td>0.000000</td>\n",
       "      <td>0.000000</td>\n",
       "      <td>0.000000</td>\n",
       "      <td>...</td>\n",
       "      <td>0.000000</td>\n",
       "      <td>0.000000</td>\n",
       "      <td>0.000000</td>\n",
       "      <td>0.000000</td>\n",
       "      <td>0.000000</td>\n",
       "      <td>0.000000</td>\n",
       "      <td>0.000000</td>\n",
       "      <td>0.000000</td>\n",
       "      <td>0.000000</td>\n",
       "      <td>0.000000</td>\n",
       "    </tr>\n",
       "    <tr>\n",
       "      <th>50%</th>\n",
       "      <td>0.000000</td>\n",
       "      <td>0.000000</td>\n",
       "      <td>0.000000</td>\n",
       "      <td>0.000000</td>\n",
       "      <td>0.000000</td>\n",
       "      <td>0.000000</td>\n",
       "      <td>0.000000</td>\n",
       "      <td>0.000000</td>\n",
       "      <td>0.000000</td>\n",
       "      <td>0.000000</td>\n",
       "      <td>...</td>\n",
       "      <td>0.000000</td>\n",
       "      <td>0.000000</td>\n",
       "      <td>0.000000</td>\n",
       "      <td>0.000000</td>\n",
       "      <td>0.000000</td>\n",
       "      <td>0.000000</td>\n",
       "      <td>0.000000</td>\n",
       "      <td>0.000000</td>\n",
       "      <td>0.000000</td>\n",
       "      <td>0.000000</td>\n",
       "    </tr>\n",
       "    <tr>\n",
       "      <th>75%</th>\n",
       "      <td>0.000000</td>\n",
       "      <td>0.000000</td>\n",
       "      <td>0.000000</td>\n",
       "      <td>0.000000</td>\n",
       "      <td>0.000000</td>\n",
       "      <td>0.000000</td>\n",
       "      <td>0.000000</td>\n",
       "      <td>0.000000</td>\n",
       "      <td>0.000000</td>\n",
       "      <td>0.000000</td>\n",
       "      <td>...</td>\n",
       "      <td>0.000000</td>\n",
       "      <td>0.000000</td>\n",
       "      <td>0.000000</td>\n",
       "      <td>0.000000</td>\n",
       "      <td>0.000000</td>\n",
       "      <td>0.000000</td>\n",
       "      <td>0.000000</td>\n",
       "      <td>0.000000</td>\n",
       "      <td>0.000000</td>\n",
       "      <td>0.000000</td>\n",
       "    </tr>\n",
       "    <tr>\n",
       "      <th>max</th>\n",
       "      <td>1.000000</td>\n",
       "      <td>1.000000</td>\n",
       "      <td>1.000000</td>\n",
       "      <td>1.000000</td>\n",
       "      <td>1.000000</td>\n",
       "      <td>1.000000</td>\n",
       "      <td>1.000000</td>\n",
       "      <td>1.000000</td>\n",
       "      <td>1.000000</td>\n",
       "      <td>1.000000</td>\n",
       "      <td>...</td>\n",
       "      <td>1.000000</td>\n",
       "      <td>1.000000</td>\n",
       "      <td>1.000000</td>\n",
       "      <td>1.000000</td>\n",
       "      <td>1.000000</td>\n",
       "      <td>1.000000</td>\n",
       "      <td>1.000000</td>\n",
       "      <td>1.000000</td>\n",
       "      <td>1.000000</td>\n",
       "      <td>1.000000</td>\n",
       "    </tr>\n",
       "  </tbody>\n",
       "</table>\n",
       "<p>8 rows × 1024 columns</p>\n",
       "</div>"
      ],
      "text/plain": [
       "              bmf1         bmf2         bmf3         bmf4         bmf5  \\\n",
       "count  8991.000000  8991.000000  8991.000000  8991.000000  8991.000000   \n",
       "mean      0.212991     0.035702     0.068735     0.033367     0.018685   \n",
       "std       0.409444     0.185557     0.253018     0.179602     0.135419   \n",
       "min       0.000000     0.000000     0.000000     0.000000     0.000000   \n",
       "25%       0.000000     0.000000     0.000000     0.000000     0.000000   \n",
       "50%       0.000000     0.000000     0.000000     0.000000     0.000000   \n",
       "75%       0.000000     0.000000     0.000000     0.000000     0.000000   \n",
       "max       1.000000     1.000000     1.000000     1.000000     1.000000   \n",
       "\n",
       "              bmf6         bmf7         bmf8         bmf9        bmf10  ...  \\\n",
       "count  8991.000000  8991.000000  8991.000000  8991.000000  8991.000000  ...   \n",
       "mean      0.144811     0.123123     0.193749     0.013792     0.017351  ...   \n",
       "std       0.351930     0.328597     0.395257     0.116631     0.130582  ...   \n",
       "min       0.000000     0.000000     0.000000     0.000000     0.000000  ...   \n",
       "25%       0.000000     0.000000     0.000000     0.000000     0.000000  ...   \n",
       "50%       0.000000     0.000000     0.000000     0.000000     0.000000  ...   \n",
       "75%       0.000000     0.000000     0.000000     0.000000     0.000000  ...   \n",
       "max       1.000000     1.000000     1.000000     1.000000     1.000000  ...   \n",
       "\n",
       "           bmf1015      bmf1016      bmf1017      bmf1018      bmf1019  \\\n",
       "count  8991.000000  8991.000000  8991.000000  8991.000000  8991.000000   \n",
       "mean      0.038928     0.061284     0.016683     0.164387     0.239017   \n",
       "std       0.193434     0.239863     0.128089     0.370647     0.426507   \n",
       "min       0.000000     0.000000     0.000000     0.000000     0.000000   \n",
       "25%       0.000000     0.000000     0.000000     0.000000     0.000000   \n",
       "50%       0.000000     0.000000     0.000000     0.000000     0.000000   \n",
       "75%       0.000000     0.000000     0.000000     0.000000     0.000000   \n",
       "max       1.000000     1.000000     1.000000     1.000000     1.000000   \n",
       "\n",
       "           bmf1020      bmf1021      bmf1022      bmf1023      bmf1024  \n",
       "count  8991.000000  8991.000000  8991.000000  8991.000000  8991.000000  \n",
       "mean      0.022467     0.022022     0.021800     0.022356     0.018463  \n",
       "std       0.148205     0.146763     0.146037     0.147846     0.134626  \n",
       "min       0.000000     0.000000     0.000000     0.000000     0.000000  \n",
       "25%       0.000000     0.000000     0.000000     0.000000     0.000000  \n",
       "50%       0.000000     0.000000     0.000000     0.000000     0.000000  \n",
       "75%       0.000000     0.000000     0.000000     0.000000     0.000000  \n",
       "max       1.000000     1.000000     1.000000     1.000000     1.000000  \n",
       "\n",
       "[8 rows x 1024 columns]"
      ]
     },
     "execution_count": 6,
     "metadata": {},
     "output_type": "execute_result"
    }
   ],
   "source": [
    "data.describe().rename({'top': 'mode'}, axis='index')"
   ]
  },
  {
   "cell_type": "markdown",
   "metadata": {},
   "source": [
    "Since we can't see the modes of each variable from the table we counted the number of variables with 1 or 0 as its mode. We can see that there are 41 binary molecular fingerprint variables with 1 as its mode and 983 with 0."
   ]
  },
  {
   "cell_type": "code",
   "execution_count": 7,
   "metadata": {},
   "outputs": [
    {
     "name": "stdout",
     "output_type": "stream",
     "text": [
      "41\n",
      "983\n"
     ]
    }
   ],
   "source": [
    "print(data.mode().values.tolist()[0].count(1))\n",
    "print(data.mode().values.tolist()[0].count(0))"
   ]
  },
  {
   "cell_type": "markdown",
   "metadata": {},
   "source": [
    "In order to explore these 1025 variables, in terms of their distribution we will use histograms. But since there are too many variables we will only display the histograms of the first and last 5 variables."
   ]
  },
  {
   "cell_type": "code",
   "execution_count": 8,
   "metadata": {},
   "outputs": [
    {
     "data": {
      "image/png": "[encoded data removed]",
      "text/plain": [
       "<Figure size 1800x2400 with 12 Axes>"
      ]
     },
     "metadata": {
      "needs_background": "dark"
     },
     "output_type": "display_data"
    }
   ],
   "source": [
    "symbolic_vars = data.columns\n",
    "\n",
    "rows, cols = ds.choose_grid(10)\n",
    "fig, axs = plt.subplots(rows, cols, figsize=(cols*ds.HEIGHT, rows*ds.HEIGHT), squeeze=False)\n",
    "i, j = 0, 0\n",
    "\n",
    "m = 0\n",
    "for n in list(range(0, 5)) + list(range(len(symbolic_vars) - 5, len(symbolic_vars))):\n",
    "    counts = data[symbolic_vars[n]].value_counts()\n",
    "    ds.bar_chart(counts.index.to_list(), counts.values, ax=axs[i, j], title='Histogram for %s'%symbolic_vars[n],\n",
    "                 xlabel=symbolic_vars[n], ylabel='nr records')\n",
    "    i, j = (i + 1, 0) if (m+1) % cols == 0 else (i, j + 1)\n",
    "    m += 1\n",
    "plt.show()"
   ]
  },
  {
   "cell_type": "markdown",
   "metadata": {},
   "source": [
    "### Summary\n",
    "\n",
    "***What is the type and range for each variable?***\n",
    "\n",
    "- **binary molecular fingerprint variables**:\n",
    "    - type: Symbolic\n",
    "    - range: [0, 1]\n",
    "        \n",
    "        \n",
    "- **experimental class**:\n",
    "    - type: Symbolic\n",
    "    - range: [negative, positive]\n",
    "        \n",
    "        \n",
    "***And its mean value, mode, standard deviation, and quartiles?***\n",
    "\n",
    "- **binary molecular fingerprint variables**:\n",
    "    - mode: Since we can't see the modes of each variable from the table we counted the number of variables with 1 or 0 as its mode. We can see that there are 41 binary molecular fingerprint variables with 1 as its mode and 983 with 0.\n",
    "        \n",
    "        \n",
    "- **experimental class**:\n",
    "    - mode: negative\n",
    "\n",
    "***Are there outliers?***\n",
    "\n",
    "**No**, there are no outliers.\n",
    "\n",
    "***Is it possible to identify each variable distribution?***\n",
    "\n",
    "Yes, it is possible, except for time.\n",
    "- **binary molecular fingerprint variables**:\n",
    "    - distribution: Bernoulli since they're binary variables\n",
    "        \n",
    "        \n",
    "- **experimental class**:\n",
    "    - distribution: Bernoulli since it's a binary variable"
   ]
  },
  {
   "cell_type": "markdown",
   "metadata": {},
   "source": [
    "## 1.3. Data Granularity\n",
    "\n",
    "---"
   ]
  },
  {
   "cell_type": "markdown",
   "metadata": {},
   "source": [
    "### Summary\n",
    "\n",
    "***What is the most atomic granularity for each variable?***\n",
    "\n",
    "It will be equal to the number of different values the each variable takes :"
   ]
  },
  {
   "cell_type": "code",
   "execution_count": 9,
   "metadata": {},
   "outputs": [
    {
     "name": "stdout",
     "output_type": "stream",
     "text": [
      "bmf1       2\n",
      "bmf2       2\n",
      "bmf3       2\n",
      "bmf4       2\n",
      "bmf5       2\n",
      "          ..\n",
      "bmf1021    2\n",
      "bmf1022    2\n",
      "bmf1023    2\n",
      "bmf1024    2\n",
      "exp        2\n",
      "Length: 1025, dtype: int64\n"
     ]
    }
   ],
   "source": [
    "print(data.nunique())"
   ]
  },
  {
   "cell_type": "markdown",
   "metadata": {},
   "source": [
    "Because all variables are binary, it will be 2 to all of them."
   ]
  },
  {
   "cell_type": "markdown",
   "metadata": {},
   "source": [
    "***What is the best granularity to discretize each numeric variable?***\n",
    "\n",
    "Since, like we said above, all variables are binary, they're already discretized."
   ]
  },
  {
   "cell_type": "markdown",
   "metadata": {},
   "source": [
    "***Are there any hierarchy of concepts for symbolic variables, either from data or domain knowledge?***\n",
    "    \n",
    "**No**, there isn't any hierarchy of concepts for those symbolic variables."
   ]
  },
  {
   "cell_type": "markdown",
   "metadata": {},
   "source": [
    "## 1.4. Data Sparsity\n",
    "\n",
    "---"
   ]
  },
  {
   "cell_type": "markdown",
   "metadata": {},
   "source": [
    "We consider it is not useful to generate scatterplots for this dataset, since all variables have a very limited range of different values (1024 boolean and 1 categoric). "
   ]
  },
  {
   "cell_type": "code",
   "execution_count": 8,
   "metadata": {},
   "outputs": [],
   "source": [
    "import numpy as np\n",
    "\n",
    "np_data = data.to_numpy()\n",
    "\n",
    "# Convert target variable to binary\n",
    "for line in np_data:\n",
    "    line[len(line) - 1] = int(line[len(line) - 1] == \"positive\")\n",
    "\n",
    "np_data = np_data.astype(\"float64\")\n",
    "conjugate = 1-np_data"
   ]
  },
  {
   "cell_type": "code",
   "execution_count": 23,
   "metadata": {},
   "outputs": [
    {
     "name": "stdout",
     "output_type": "stream",
     "text": [
      "0.183117% of the pairs are missing at least one combination ((0, 0), (0, 1), (1, 0) or (1, 1))\n"
     ]
    }
   ],
   "source": [
    "count = np_data.T.dot(np_data) * \\\n",
    "        conjugate.T.dot(np_data) * \\\n",
    "        np_data.T.dot(conjugate) * \\\n",
    "        conjugate.T.dot(conjugate)\n",
    "\n",
    "numAllCombs = 0\n",
    "for y in range(0, len(count) - 1):\n",
    "    for x in range(y + 1, len(count)):\n",
    "         numAllCombs += int(bool(count[y, x]))\n",
    "         \n",
    "print(\"%f%% of the pairs are missing at least one combination ((0, 0), (0, 1), (1, 0) or (1, 1))\" % \\\n",
    "      ((1 - 2 * numAllCombs / (len(count) ** 2 - len(count))) * 100))\n",
    "\n"
   ]
  },
  {
   "cell_type": "markdown",
   "metadata": {},
   "source": [
    "### Correlation analysis\n",
    "\n",
    "---"
   ]
  },
  {
   "cell_type": "code",
   "execution_count": null,
   "metadata": {},
   "outputs": [],
   "source": [
    "import seaborn as sns\n",
    "\n",
    "corr_mtx = data.corr()"
   ]
  },
  {
   "cell_type": "code",
   "execution_count": null,
   "metadata": {},
   "outputs": [],
   "source": [
    "high_corrs = []\n",
    "\n",
    "for x in corr_mtx:\n",
    "    for y in corr_mtx:\n",
    "        if x == y:\n",
    "            break\n",
    "        corr = corr_mtx[x][y]\n",
    "        if abs(corr) >= 0.5:\n",
    "            high_corrs.append((x, y, corr))\n",
    "\n",
    "high_corrs.sort(key = lambda t: t[2], reverse = True)\n",
    "for t in high_corrs:\n",
    "    print(\"(%s, %s): %f\" % t)"
   ]
  },
  {
   "cell_type": "markdown",
   "metadata": {},
   "source": [
    "### Summary\n",
    "\n",
    "---\n",
    "\n",
    "***Is the dataset enough to cover the entire domain?***\n",
    "Yes, although there are some, but few (about 0.18%), combinations of variables that are not totally covered by the records.\n",
    "\n",
    "***Are there clusters of records?***\n",
    "\n",
    "As we explained above, it does not make sense to draw scatterplots for symbolic variables, and therefore, we cannot identify clusters.\n",
    "\n",
    "***Is it possible to identify any anomalies?***\n",
    "As each pair of variables can only have 4 possible combinations of values, there will not exist any isolated records.\n",
    "\n",
    "***Are there dependent variables?***\n",
    "\n",
    "**Yes**, there are many pairs of dependent variables, as we can see in the output above. Some of the most noticeable correlations (above 95%) are:\n",
    "\n",
    "- (bmf760, bmf415): 0.981484\n",
    "\n",
    "- (bmf872, bmf686): 0.975299\n",
    "\n",
    "- (bmf684, bmf261): 0.972491\n",
    "\n",
    "- (bmf872, bmf759): 0.971217\n",
    "\n",
    "- (bmf820, bmf457): 0.970802\n",
    "\n",
    "- (bmf961, bmf289): 0.970225\n",
    "\n",
    "- (bmf759, bmf647): 0.969674\n",
    "\n",
    "- (bmf406, bmf179): 0.969385\n",
    "\n",
    "- (bmf409, bmf117): 0.967022\n",
    "\n",
    "- (bmf425, bmf350): 0.964961\n",
    "\n",
    "- (bmf759, bmf686): 0.964154\n",
    "\n",
    "- (bmf872, bmf647): 0.962569\n",
    "\n",
    "- (bmf474, bmf468): 0.960604\n",
    "\n",
    "- (bmf759, bmf79): 0.959786\n",
    "\n",
    "- (bmf657, bmf466): 0.957167\n",
    "\n",
    "- (bmf872, bmf79): 0.956570\n",
    "\n",
    "- (bmf647, bmf79): 0.955328\n",
    "\n",
    "- (bmf54, bmf47): 0.955249\n",
    "\n",
    "- (bmf686, bmf647): 0.954458\n",
    "\n",
    "- (bmf686, bmf79): 0.951767\n",
    "\n",
    "- (bmf658, bmf384): 0.950914\n",
    "\n",
    "We noticed that, for instance, \"bmf79\", \"bmf686\" and \"bmf759\" appear in more than 3 pairs, so they are almost redundant. "
   ]
  }
 ],
 "metadata": {
  "kernelspec": {
   "display_name": "Python 3",
   "language": "python",
   "name": "python3"
  },
  "language_info": {
   "codemirror_mode": {
    "name": "ipython",
    "version": 3
   },
   "file_extension": ".py",
   "mimetype": "text/x-python",
   "name": "python",
   "nbconvert_exporter": "python",
   "pygments_lexer": "ipython3",
   "version": "3.6.9"
  }
 },
 "nbformat": 4,
 "nbformat_minor": 4
}
