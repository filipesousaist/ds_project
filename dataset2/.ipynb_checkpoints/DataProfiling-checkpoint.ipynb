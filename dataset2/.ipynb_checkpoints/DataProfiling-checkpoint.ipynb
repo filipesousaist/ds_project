{
 "cells": [
  {
   "cell_type": "markdown",
   "metadata": {},
   "source": [
    "# 1. Data profiling\n",
    "\n",
    "---"
   ]
  },
  {
   "cell_type": "markdown",
   "metadata": {},
   "source": [
    "### Setup\n",
    "\n",
    "---"
   ]
  },
  {
   "cell_type": "code",
   "execution_count": 2,
   "metadata": {
    "scrolled": true
   },
   "outputs": [
    {
     "data": {
      "text/plain": [
       "(8991, 1025)"
      ]
     },
     "execution_count": 2,
     "metadata": {},
     "output_type": "execute_result"
    }
   ],
   "source": [
    "import sys\n",
    "sys.path.insert(1, '../utils')\n",
    "\n",
    "import pandas as pd\n",
    "import matplotlib.pyplot as plt\n",
    "import ds_functions as ds\n",
    "\n",
    "from pandas.plotting import register_matplotlib_converters\n",
    "\n",
    "register_matplotlib_converters()\n",
    "\n",
    "# 1024 binary molecular fingerprints and 1 experimental class\n",
    "column_names = [\"bmf\" + str(i) for i in range(1, 1025)] + [\"exp\"]\n",
    "\n",
    "data = pd.read_csv('qsar_oral_toxicity.csv', sep=';', header=0, names = column_names)\n",
    "data.shape"
   ]
  },
  {
   "cell_type": "code",
   "execution_count": 3,
   "metadata": {},
   "outputs": [
    {
     "data": {
      "image/png": "[encoded data removed]",
      "text/plain": [
       "<Figure size 600x300 with 1 Axes>"
      ]
     },
     "metadata": {
      "needs_background": "dark"
     },
     "output_type": "display_data"
    }
   ],
   "source": [
    "plt.figure(figsize=(4,2))\n",
    "values = {'nr records': data.shape[0], 'nr variables': data.shape[1]}\n",
    "ds.bar_chart(values.keys(), values.values(), title='Nr of records vs nr variables')"
   ]
  },
  {
   "cell_type": "code",
   "execution_count": 4,
   "metadata": {},
   "outputs": [
    {
     "data": {
      "text/plain": [
       "bmf1        int64\n",
       "bmf2        int64\n",
       "bmf3        int64\n",
       "bmf4        int64\n",
       "bmf5        int64\n",
       "            ...  \n",
       "bmf1021     int64\n",
       "bmf1022     int64\n",
       "bmf1023     int64\n",
       "bmf1024     int64\n",
       "exp        object\n",
       "Length: 1025, dtype: object"
      ]
     },
     "execution_count": 4,
     "metadata": {},
     "output_type": "execute_result"
    }
   ],
   "source": [
    "data.dtypes"
   ]
  },
  {
   "cell_type": "code",
   "execution_count": null,
   "metadata": {},
   "outputs": [],
   "source": [
    "cat_vars = data.select_dtypes(include='object')\n",
    "data[cat_vars.columns] = data.select_dtypes(['object']).apply(lambda x: x.astype('category'))\n",
    "cat_vars = data.select_dtypes(include='int64')\n",
    "data[cat_vars.columns] = data.select_dtypes(['int64']).apply(lambda x: x.astype('boolean'))\n",
    "data.dtypes"
   ]
  },
  {
   "cell_type": "code",
   "execution_count": null,
   "metadata": {
    "scrolled": true
   },
   "outputs": [],
   "source": [
    "plt.figure()\n",
    "mv = {}\n",
    "for var in data:\n",
    "    mv[var] = data[var].isna().sum()\n",
    "ds.bar_chart(mv.keys(), mv.values(), title='Nr of missing values per variable',\n",
    "               xlabel='variables', ylabel='nr missing values')\n",
    "mv.values()"
   ]
  },
  {
   "cell_type": "markdown",
   "metadata": {},
   "source": [
    "## Summary\n",
    "\n",
    "* There are 8991 records and 1025 variables\n",
    "    * This implies a ratio of approximately 8.772 records per variable\n",
    "* Variable information:\n",
    "    * 1024 binary molecular fingerprints - boolean values\n",
    "    * 1 experimental class - category\n",
    "* There are no missing values in the dataset"
   ]
  },
  {
   "cell_type": "code",
   "execution_count": null,
   "metadata": {},
   "outputs": [],
   "source": []
  }
 ],
 "metadata": {
  "kernelspec": {
   "display_name": "Python 3",
   "language": "python",
   "name": "python3"
  },
  "language_info": {
   "codemirror_mode": {
    "name": "ipython",
    "version": 3
   },
   "file_extension": ".py",
   "mimetype": "text/x-python",
   "name": "python",
   "nbconvert_exporter": "python",
   "pygments_lexer": "ipython3",
   "version": "3.6.9"
  }
 },
 "nbformat": 4,
 "nbformat_minor": 4
}
