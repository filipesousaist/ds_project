{
 "cells": [
  {
   "cell_type": "markdown",
   "metadata": {},
   "source": [
    "## 1.2. Data Granularity\n"
   ]
  },
  {
   "cell_type": "code",
   "execution_count": 4,
   "metadata": {},
   "outputs": [],
   "source": [
    "import sys\n",
    "sys.path.insert(1, '../utils')\n",
    "import pandas as pd\n",
    "import matplotlib.pyplot as plt\n",
    "import ds_functions as ds \n",
    "\n",
    "data = pd.read_csv('qsar_oral_toxicity.csv', sep=';', parse_dates=True, infer_datetime_format=True)\n",
    "\n",
    "values = {'nr records': data.shape[0], 'nr variables': data.shape[1]}"
   ]
  },
  {
   "cell_type": "code",
   "execution_count": null,
   "metadata": {},
   "outputs": [],
   "source": [
    "columns = data.select_dtypes(include='number').columns\n",
    "rows = len(columns)\n",
    "bins = (2, 10, 20, 100)\n",
    "cols = len(bins)\n",
    "fig, axs = plt.subplots(rows, cols, figsize=(cols*ds.HEIGHT, rows*ds.HEIGHT))\n",
    "for i in range(rows):\n",
    "    for j in range(cols):\n",
    "        axs[i, j].set_title('Histogram for %s %d bins'%(columns[i], bins[j]))\n",
    "        axs[i, j].set_xlabel(columns[i])\n",
    "        axs[i, j].set_ylabel('Nr records')\n",
    "        axs[i, j].hist(data[columns[i]].values, bins=bins[j])\n",
    "plt.show()"
   ]
  },
  {
   "cell_type": "markdown",
   "metadata": {},
   "source": [
    "### Summary\n",
    "\n",
    "\n",
    "- What is the most atomic granularity for each variable?\n",
    " \n",
    " **//TODO**\n",
    " \n",
    "   \n",
    "- What is the best granularity to discretize each numeric variable?\n",
    " \n",
    " **//REVIEW**\n",
    " \n",
    " Since they're all boolean variables the ideal granularity is 2.\n",
    " \n",
    " \n",
    "- Are there any hierarchy of concepts for symbolic variables, either from data or domain knowledge?\n",
    "    \n",
    "  **//TODO**"
   ]
  },
  {
   "cell_type": "code",
   "execution_count": null,
   "metadata": {},
   "outputs": [],
   "source": []
  }
 ],
 "metadata": {
  "kernelspec": {
   "display_name": "Python 3",
   "language": "python",
   "name": "python3"
  },
  "language_info": {
   "codemirror_mode": {
    "name": "ipython",
    "version": 3
   },
   "file_extension": ".py",
   "mimetype": "text/x-python",
   "name": "python",
   "nbconvert_exporter": "python",
   "pygments_lexer": "ipython3",
   "version": "3.8.5"
  }
 },
 "nbformat": 4,
 "nbformat_minor": 4
}
