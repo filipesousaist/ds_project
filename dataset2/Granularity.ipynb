{
 "cells": [
  {
   "cell_type": "markdown",
   "metadata": {},
   "source": [
    "## 1.2. Data Granularity\n"
   ]
  },
  {
   "cell_type": "code",
   "execution_count": 19,
   "metadata": {},
   "outputs": [],
   "source": [
    "import sys\n",
    "sys.path.insert(1, '../utils')\n",
    "import pandas as pd\n",
    "import matplotlib.pyplot as plt\n",
    "import ds_functions as ds \n",
    "\n",
    "data = pd.read_csv('qsar_oral_toxicity.csv', sep=';', parse_dates=True, infer_datetime_format=True)\n",
    "\n",
    "values = {'nr records': data.shape[0], 'nr variables': data.shape[1]}"
   ]
  },
  {
   "cell_type": "markdown",
   "metadata": {},
   "source": [
    "### Summary\n",
    "\n",
    "***What is the most atomic granularity for each variable?***\n",
    "\n",
    "It will be equal to the number of different values the each variable takes :"
   ]
  },
  {
   "cell_type": "code",
   "execution_count": 20,
   "metadata": {},
   "outputs": [
    {
     "name": "stdout",
     "output_type": "stream",
     "text": [
      "0           2\n",
      "0.1         2\n",
      "0.2         2\n",
      "0.3         2\n",
      "0.4         2\n",
      "           ..\n",
      "0.967       2\n",
      "0.968       2\n",
      "0.969       2\n",
      "0.970       2\n",
      "negative    2\n",
      "Length: 1025, dtype: int64\n"
     ]
    }
   ],
   "source": [
    "print(data.nunique())"
   ]
  },
  {
   "cell_type": "markdown",
   "metadata": {},
   "source": [
    "Because all variables are boolean, it will be 2 to all of them."
   ]
  },
  {
   "cell_type": "markdown",
   "metadata": {},
   "source": [
    "***What is the best granularity to discretize each numeric variable?***\n",
    "\n",
    "Since, like we said above, all variables are of type boolean, they're already discretized."
   ]
  },
  {
   "cell_type": "markdown",
   "metadata": {},
   "source": [
    "***Are there any hierarchy of concepts for symbolic variables, either from data or domain knowledge?***\n",
    "    \n",
    "**No**, there isn't any hierarchy of concepts for those symbolic variables."
   ]
  }
 ],
 "metadata": {
  "kernelspec": {
   "display_name": "Python 3",
   "language": "python",
   "name": "python3"
  },
  "language_info": {
   "codemirror_mode": {
    "name": "ipython",
    "version": 3
   },
   "file_extension": ".py",
   "mimetype": "text/x-python",
   "name": "python",
   "nbconvert_exporter": "python",
   "pygments_lexer": "ipython3",
   "version": "3.8.5"
  }
 },
 "nbformat": 4,
 "nbformat_minor": 4
}
