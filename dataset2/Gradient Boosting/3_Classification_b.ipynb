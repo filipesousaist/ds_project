{
 "cells": [
  {
   "cell_type": "markdown",
   "metadata": {},
   "source": [
    "## 3.5. Gradient Boosting\n",
    "\n",
    "---"
   ]
  },
  {
   "cell_type": "code",
   "execution_count": 1,
   "metadata": {},
   "outputs": [],
   "source": [
    "import sys\n",
    "sys.path.insert(1, '../../utils')\n",
    "\n",
    "import numpy as np\n",
    "import pandas as pd\n",
    "import matplotlib.pyplot as plt\n",
    "import ds_functions as ds\n",
    "from sklearn.model_selection import train_test_split\n",
    "\n",
    "dataTrain: pd.DataFrame = pd.read_csv('data/prepared_b/data.csv', sep=';')\n",
    "dataTest: pd.DataFrame = pd.read_csv('data/prepared_test/data.csv', sep=';')"
   ]
  },
  {
   "cell_type": "code",
   "execution_count": null,
   "metadata": {},
   "outputs": [],
   "source": [
    "import numpy as np\n",
    "import pandas as pd\n",
    "import matplotlib.pyplot as plt\n",
    "from sklearn.model_selection import train_test_split\n",
    "import sklearn.metrics as metrics\n",
    "from sklearn.ensemble import GradientBoostingClassifier\n",
    "import ds_functions as ds\n",
    "\n",
    "trnY: np.ndarray = dataTrain.pop('exp').values\n",
    "trnX: np.ndarray = dataTrain.values\n",
    "tstY: np.ndarray = dataTest.pop('exp').values\n",
    "tstX: np.ndarray = dataTest.values\n",
    "    \n",
    "labels = pd.unique(trnY)\n",
    "\n",
    "n_estimators = [5, 10, 25, 50, 75, 100, 150, 200, 250, 300]\n",
    "max_depths = [5, 10, 25]\n",
    "learning_rate = [.1, .3, .5, .7, .9]\n",
    "best = ('', 0, 0)\n",
    "last_best = 0\n",
    "best_tree = None\n",
    "\n",
    "cols = len(max_depths)\n",
    "plt.figure()\n",
    "fig, axs = plt.subplots(1, cols, figsize=(cols*ds.HEIGHT, ds.HEIGHT), squeeze=False)\n",
    "for k in range(len(max_depths)):\n",
    "    d = max_depths[k]\n",
    "    values = {}\n",
    "    for lr in learning_rate:\n",
    "        yvalues = []\n",
    "        for n in n_estimators:\n",
    "            gb = GradientBoostingClassifier(n_estimators=n, max_depth=d, learning_rate=lr)\n",
    "            gb.fit(trnX, trnY)\n",
    "            prdY = gb.predict(tstX)\n",
    "            yvalues.append(metrics.accuracy_score(tstY, prdY))\n",
    "            if yvalues[-1] > last_best:\n",
    "                best = (d, lr, n)\n",
    "                last_best = yvalues[-1]\n",
    "                best_tree = gb\n",
    "        values[lr] = yvalues\n",
    "    ds.multiple_line_chart(n_estimators, values, ax=axs[0, k], title='Gradient Boorsting with max_depth=%d'%d,\n",
    "                           xlabel='nr estimators', ylabel='accuracy', percentage=True, yrange=(0.8, 1))\n",
    "\n",
    "plt.show()\n",
    "print('Best results with depth=%d, learning rate=%1.2f and %d estimators, with accuracy=%1.3f'%(best[0], best[1], best[2], last_best))"
   ]
  },
  {
   "cell_type": "code",
   "execution_count": null,
   "metadata": {},
   "outputs": [],
   "source": [
    "prd_trn = best_tree.predict(trnX)\n",
    "prd_tst = best_tree.predict(tstX)\n",
    "ds.plot_evaluation_results(labels, trnY, prd_trn, tstY, prd_tst, showXTickLabels = True)"
   ]
  },
  {
   "cell_type": "code",
   "execution_count": null,
   "metadata": {},
   "outputs": [],
   "source": [
    "learning_rate = [best[1]]\n",
    "\n",
    "plt.figure()\n",
    "fig, axs = plt.subplots(1, len(max_depths), figsize=(16, 4), squeeze=False)\n",
    "for k in range(len(max_depths)):\n",
    "    d = max_depths[k]\n",
    "    values = {}\n",
    "    for lr in learning_rate:\n",
    "        yvalues = []\n",
    "        yvalues_train = []\n",
    "        for n in n_estimators:\n",
    "            gb = GradientBoostingClassifier(n_estimators=n, max_depth=d, learning_rate=lr)\n",
    "            forest.fit(trnX, trnY)\n",
    "            prdY = forest.predict(tstX)\n",
    "            prdY_train = forest.predict(trnX)\n",
    "            yvalues.append(metrics.accuracy_score(tstY, prdY))\n",
    "            yvalues_train.append(metrics.accuracy_score(trnY, prdY_train))\n",
    "        values['test'] = yvalues\n",
    "        values['train'] = yvalues_train\n",
    "    ds.multiple_line_chart(n_estimators, values, ax=axs[0, k], title='Gradient Boosting with max_depth=%d'%d,\n",
    "                           xlabel='nr estimators', ylabel='accuracy', percentage=True, yrange=(0.8, 1))\n",
    "\n",
    "plt.show()\n",
    "print('Best results achieved with max_depth=%d, learning_rate=%d and nr_estimators=%f ==> accuracy=%f'%(best[0], best[1], best[2], last_best))"
   ]
  },
  {
   "cell_type": "markdown",
   "metadata": {},
   "source": [
    "### Summary\n",
    "\n",
    "---\n",
    "\n",
    "***How does performance changes with the number of estimators?***\n",
    "\n",
    "\n",
    "***How does performance changes of learning rate?***\n",
    "\n",
    "\n",
    "***How do models improve with the increase of max_depth?***\n",
    "\n",
    "\n",
    "***What is the best parametrisation (max_depth, number of estimators and learning rate)?***\n",
    "\n",
    "\n",
    "***Is the accuracy achieved good enough?***\n",
    "\n",
    "\n",
    "***What is the largest kind of errors?***\n",
    "\n",
    "\n",
    "***Is it possible to identify overfitting?***"
   ]
  },
  {
   "cell_type": "code",
   "execution_count": null,
   "metadata": {},
   "outputs": [],
   "source": []
  }
 ],
 "metadata": {
  "kernelspec": {
   "display_name": "Python 3",
   "language": "python",
   "name": "python3"
  },
  "language_info": {
   "codemirror_mode": {
    "name": "ipython",
    "version": 3
   },
   "file_extension": ".py",
   "mimetype": "text/x-python",
   "name": "python",
   "nbconvert_exporter": "python",
   "pygments_lexer": "ipython3",
   "version": "3.6.9"
  }
 },
 "nbformat": 4,
 "nbformat_minor": 4
}
