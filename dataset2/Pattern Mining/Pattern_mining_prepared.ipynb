{
 "cells": [
  {
   "cell_type": "markdown",
   "metadata": {},
   "source": [
    "# 5. Pattern mining\n",
    "---"
   ]
  },
  {
   "cell_type": "markdown",
   "metadata": {},
   "source": [
    "### Setup\n",
    "---"
   ]
  },
  {
   "cell_type": "code",
   "execution_count": 1,
   "metadata": {},
   "outputs": [
    {
     "data": {
      "text/plain": [
       "(8991, 175)"
      ]
     },
     "execution_count": 1,
     "metadata": {},
     "output_type": "execute_result"
    }
   ],
   "source": [
    "import sys\n",
    "sys.path.insert(1, '../../utils')\n",
    "\n",
    "import pandas as pd\n",
    "import matplotlib.pyplot as plt\n",
    "import ds_functions as ds\n",
    "import mlxtend.frequent_patterns as pm\n",
    "\n",
    "data: pd.DataFrame = pd.read_csv('data/prepared.csv', sep=';')\n",
    "data.shape"
   ]
  },
  {
   "cell_type": "markdown",
   "metadata": {},
   "source": [
    "### Patterns\n",
    "---"
   ]
  },
  {
   "cell_type": "code",
   "execution_count": 2,
   "metadata": {},
   "outputs": [
    {
     "name": "stdout",
     "output_type": "stream",
     "text": [
      "Processing 16 combinations | Sampling itemset size 1654320\n",
      "219658 patterns\n"
     ]
    },
    {
     "data": {
      "image/png": "[encoded data removed]",
      "text/plain": [
       "<Figure size 900x600 with 1 Axes>"
      ]
     },
     "metadata": {
      "needs_background": "dark"
     },
     "output_type": "display_data"
    }
   ],
   "source": [
    "MIN_SUP: float = 0.001\n",
    "var_min_sup =[0.2, 0.1] + [i*MIN_SUP for i  in range(100, 0, -10)]\n",
    "\n",
    "patterns: pd.DataFrame = pm.apriori(data, min_support=MIN_SUP, use_colnames=True, verbose=True)\n",
    "print(len(patterns),'patterns')\n",
    "nr_patterns = []\n",
    "for sup in var_min_sup:\n",
    "    pat = patterns[patterns['support']>=sup]\n",
    "    nr_patterns.append(len(pat))\n",
    "\n",
    "plt.figure(figsize=(6, 4))\n",
    "ds.plot_line(var_min_sup, nr_patterns, title='Nr Patterns x Support', xlabel='support', ylabel='Nr Patterns')\n",
    "plt.show()"
   ]
  },
  {
   "cell_type": "markdown",
   "metadata": {},
   "source": [
    "### Association Rules\n",
    "---"
   ]
  },
  {
   "cell_type": "code",
   "execution_count": null,
   "metadata": {},
   "outputs": [],
   "source": [
    "MIN_CONF: float = 0.1\n",
    "rules = pm.association_rules(patterns, metric='confidence', min_threshold=MIN_CONF*5, support_only=False)\n",
    "print(f'\\tfound {len(rules)} rules')"
   ]
  },
  {
   "cell_type": "code",
   "execution_count": null,
   "metadata": {},
   "outputs": [],
   "source": [
    "def plot_top_rules(rules: pd.DataFrame, metric: str, per_metric: str) -> None:\n",
    "    _, ax = plt.subplots(figsize=(6, 3))\n",
    "    ax.grid(False)\n",
    "    ax.set_axis_off()\n",
    "    ax.set_title(f'TOP 10 per Min {per_metric} - {metric}', fontweight=\"bold\")\n",
    "    text = ''\n",
    "    cols = ['antecedents', 'consequents']\n",
    "    rules[cols] = rules[cols].applymap(lambda x: tuple(x))\n",
    "    for i in range(len(rules)):\n",
    "        rule = rules.iloc[i]\n",
    "        text += f\"{rule['antecedents']} ==> {rule['consequents']}\"\n",
    "        text += f\"(s: {rule['support']:.2f}, c: {rule['confidence']:.2f}, lift: {rule['lift']:.2f})\\n\"\n",
    "    ax.text(0, 0, text)\n",
    "    plt.show()\n",
    "\n",
    "def analyse_per_metric(rules: pd.DataFrame, metric: str, metric_values: list) -> list:\n",
    "    print(f'Analyse per {metric}...')\n",
    "    conf = {'avg': [], 'top25%': [], 'top10': []}\n",
    "    lift = {'avg': [], 'top25%': [], 'top10': []}\n",
    "    top_conf = []\n",
    "    top_lift = []\n",
    "    nr_rules = []\n",
    "    for m in metric_values:\n",
    "        rs = rules[rules[metric] >= m]\n",
    "        nr_rules.append(len(rs))\n",
    "        conf['avg'].append(rs['confidence'].mean(axis=0))\n",
    "        lift['avg'].append(rs['lift'].mean(axis=0))\n",
    "\n",
    "        top_conf = rs.nlargest(int(0.25*len(rs)), 'confidence')\n",
    "        conf['top25%'].append(top_conf['confidence'].mean(axis=0))\n",
    "        top_lift = rs.nlargest(int(0.25*len(rs)), 'lift')\n",
    "        lift['top25%'].append(top_lift['lift'].mean(axis=0))\n",
    "\n",
    "        top_conf = rs.nlargest(10, 'confidence')\n",
    "        conf['top10'].append(top_conf['confidence'].mean(axis=0))\n",
    "        top_lift = rs.nlargest(10, 'lift')\n",
    "        lift['top10'].append(top_lift['lift'].mean(axis=0))\n",
    "\n",
    "    _, axs = plt.subplots(1, 2, figsize=(10, 5), squeeze=False)\n",
    "    ds.multiple_line_chart(metric_values, conf, ax=axs[0, 0], title=f'Avg Confidence x {metric}',\n",
    "                           xlabel=metric, ylabel='Avg confidence')\n",
    "    ds.multiple_line_chart(metric_values, lift, ax=axs[0, 1], title=f'Avg Lift x {metric}',\n",
    "                           xlabel=metric, ylabel='Avg lift')\n",
    "    plt.show()\n",
    "\n",
    "    plot_top_rules(top_conf, 'confidence', metric)\n",
    "    plot_top_rules(top_lift, 'lift', metric)\n",
    "\n",
    "    return nr_rules"
   ]
  },
  {
   "cell_type": "markdown",
   "metadata": {},
   "source": [
    "### Quality evaluation per support\n",
    "---"
   ]
  },
  {
   "cell_type": "code",
   "execution_count": null,
   "metadata": {},
   "outputs": [],
   "source": [
    "nr_rules_sp = analyse_per_metric(rules, 'support', var_min_sup)\n",
    "ds.plot_line(var_min_sup, nr_rules_sp, title='Nr rules x Support', xlabel='support', ylabel='Nr. rules', percentage=False)"
   ]
  },
  {
   "cell_type": "markdown",
   "metadata": {},
   "source": [
    "### Quality evaluation per confidence\n",
    "---"
   ]
  },
  {
   "cell_type": "code",
   "execution_count": null,
   "metadata": {},
   "outputs": [],
   "source": [
    "var_min_conf = [i * MIN_CONF for i in range(10, 5, -1)]\n",
    "nr_rules_cf = analyse_per_metric(rules, 'confidence', var_min_conf)\n",
    "ds.plot_line(var_min_conf, nr_rules_cf, title='Nr Rules x Confidence', xlabel='confidence', ylabel='Nr Rules', percentage=False)"
   ]
  },
  {
   "cell_type": "code",
   "execution_count": null,
   "metadata": {},
   "outputs": [],
   "source": []
  }
 ],
 "metadata": {
  "kernelspec": {
   "display_name": "Python 3",
   "language": "python",
   "name": "python3"
  },
  "language_info": {
   "codemirror_mode": {
    "name": "ipython",
    "version": 3
   },
   "file_extension": ".py",
   "mimetype": "text/x-python",
   "name": "python",
   "nbconvert_exporter": "python",
   "pygments_lexer": "ipython3",
   "version": "3.8.6"
  }
 },
 "nbformat": 4,
 "nbformat_minor": 4
}
