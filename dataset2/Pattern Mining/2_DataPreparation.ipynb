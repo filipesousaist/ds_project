{
 "cells": [
  {
   "cell_type": "markdown",
   "metadata": {},
   "source": [
    "# 2. Data preparation\n",
    "\n",
    "---"
   ]
  },
  {
   "cell_type": "markdown",
   "metadata": {},
   "source": [
    "### Setup"
   ]
  },
  {
   "cell_type": "code",
   "execution_count": 2,
   "metadata": {},
   "outputs": [],
   "source": [
    "import sys\n",
    "sys.path.insert(1, '../../utils')\n",
    "\n",
    "import pandas as pd\n",
    "\n",
    "original: pd.DataFrame = pd.read_csv('../qsar_oral_toxicity_after_profiling.csv', sep=';')"
   ]
  },
  {
   "cell_type": "markdown",
   "metadata": {},
   "source": [
    "## 2.0. Data preparation\n",
    "\n",
    "---"
   ]
  },
  {
   "cell_type": "code",
   "execution_count": 4,
   "metadata": {},
   "outputs": [],
   "source": [
    "# Export n_prepared data to csv\n",
    "original.to_csv('data/n_prepared.csv', sep=';', index=False)"
   ]
  },
  {
   "cell_type": "markdown",
   "metadata": {},
   "source": [
    "### Feature Selection\n",
    "\n",
    "---"
   ]
  },
  {
   "cell_type": "markdown",
   "metadata": {},
   "source": [
    "#### Unsupervised Selection"
   ]
  },
  {
   "cell_type": "markdown",
   "metadata": {},
   "source": [
    "By definition, unsupervised selection only aims for eliminating redundancies among the\n",
    "variables, getting the smallest set possible."
   ]
  },
  {
   "cell_type": "code",
   "execution_count": 5,
   "metadata": {},
   "outputs": [],
   "source": [
    "import seaborn as sns\n",
    "import numpy as np\n",
    "\n",
    "df = original\n",
    "    \n",
    "copy = df.copy(deep=True)\n",
    "copy = copy.drop('exp', axis = 1)\n",
    "corrs = copy.corr()\n",
    "\n",
    "removed = []\n",
    "\n",
    "for x in corrs:\n",
    "    for y in corrs:\n",
    "        if x == y:\n",
    "            break\n",
    "        corr = corrs[x][y]\n",
    "        if abs(corr) >= 0.13 and x not in removed and y not in removed:\n",
    "            copy = copy.drop(x, axis=1)\n",
    "            removed.append(x)\n",
    "            break\n",
    "\n",
    "copy['exp'] = df['exp']\n",
    "\n",
    "data_dict_unsupervised = copy.copy(deep=True)"
   ]
  },
  {
   "cell_type": "code",
   "execution_count": 6,
   "metadata": {},
   "outputs": [],
   "source": [
    "data_dict_unsupervised.to_csv('data/prepared.csv', sep=';', index=False)"
   ]
  },
  {
   "cell_type": "code",
   "execution_count": 7,
   "metadata": {},
   "outputs": [],
   "source": [
    "df = original\n",
    "    \n",
    "copy = df.copy(deep=True)\n",
    "copy = copy.drop('exp', axis = 1)\n",
    "corrs = copy.corr()\n",
    "\n",
    "removed = []\n",
    "\n",
    "for x in corrs:\n",
    "    for y in corrs:\n",
    "        if x == y:\n",
    "            break\n",
    "        corr = corrs[x][y]\n",
    "        if abs(corr) >= 0.8 and x not in removed and y not in removed:\n",
    "            removed.append(x)\n",
    "            break\n",
    "\n",
    "for x in copy.columns:\n",
    "    if x not in removed:\n",
    "        copy = copy.drop(x, axis=1)\n",
    "\n",
    "\n",
    "copy['exp'] = df['exp']\n",
    "\n",
    "data_dict_high_corr = copy.copy(deep=True)"
   ]
  },
  {
   "cell_type": "code",
   "execution_count": 8,
   "metadata": {},
   "outputs": [],
   "source": [
    "data_dict_high_corr.to_csv('data/prepared_high_corr.csv', sep=';', index=False)"
   ]
  },
  {
   "cell_type": "markdown",
   "metadata": {},
   "source": [
    "### Summary\n",
    "\n",
    "---\n",
    "\n",
    "***Are all variables in the same scale? If not, how does scaling impact the results?***\n",
    "\n",
    "\n",
    "\n",
    "***Is the dataset unbalanced? If yes, what is the best balancing technique to apply?***\n",
    "\n"
   ]
  }
 ],
 "metadata": {
  "kernelspec": {
   "display_name": "Python 3",
   "language": "python",
   "name": "python3"
  },
  "language_info": {
   "codemirror_mode": {
    "name": "ipython",
    "version": 3
   },
   "file_extension": ".py",
   "mimetype": "text/x-python",
   "name": "python",
   "nbconvert_exporter": "python",
   "pygments_lexer": "ipython3",
   "version": "3.6.9"
  }
 },
 "nbformat": 4,
 "nbformat_minor": 4
}
