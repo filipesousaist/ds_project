{
 "cells": [
  {
   "cell_type": "markdown",
   "metadata": {},
   "source": [
    "## 3.4. Random Forests\n",
    "\n",
    "---"
   ]
  },
  {
   "cell_type": "code",
   "execution_count": 1,
   "metadata": {},
   "outputs": [],
   "source": [
    "import sys\n",
    "sys.path.insert(1, '../../utils')\n",
    "\n",
    "import numpy as np\n",
    "import pandas as pd\n",
    "import matplotlib.pyplot as plt\n",
    "import ds_functions as ds\n",
    "from sklearn.model_selection import train_test_split\n",
    "\n",
    "dataTrain: pd.DataFrame = pd.read_csv('data/prepared_b_fe/data.csv', sep=';')\n",
    "dataTest: pd.DataFrame = pd.read_csv('data/prepared_test_fe/data.csv', sep=';')\n",
    "    \n",
    "dataTest_copy = dataTest.copy(deep=True)\n",
    "\n",
    "for feature in dataTest_copy.columns:\n",
    "    if feature not in dataTrain.columns:\n",
    "        dataTest = dataTest.drop(feature, axis=1)"
   ]
  },
  {
   "cell_type": "code",
   "execution_count": 2,
   "metadata": {},
   "outputs": [],
   "source": [
    "import numpy as np\n",
    "import pandas as pd\n",
    "import matplotlib.pyplot as plt\n",
    "from sklearn.model_selection import train_test_split\n",
    "import sklearn.metrics as metrics\n",
    "from sklearn.ensemble import GradientBoostingClassifier\n",
    "import ds_functions as ds\n",
    "\n",
    "trnY: np.ndarray = dataTrain.pop('exp').values\n",
    "trnX: np.ndarray = dataTrain.values\n",
    "tstY: np.ndarray = dataTest.pop('exp').values\n",
    "tstX: np.ndarray = dataTest.values\n",
    "    \n",
    "labels = pd.unique(trnY)"
   ]
  },
  {
   "cell_type": "code",
   "execution_count": null,
   "metadata": {},
   "outputs": [],
   "source": [
    "from sklearn.ensemble import RandomForestClassifier\n",
    "\n",
    "n_estimators = [10, 25, 50, 75, 150, 250, 300]\n",
    "max_depths = [5, 10, 25]\n",
    "max_features = [.1, .3, .5] #, .7, .9, 1]\n",
    "best = (0, 0, 0) #(depth, feature, estimators)\n",
    "last_best = 0\n",
    "best_tree = None\n",
    "\n",
    "cols = len(max_depths)\n",
    "plt.figure()\n",
    "fig, axs = plt.subplots(1, cols, figsize=(cols*ds.HEIGHT, ds.HEIGHT), squeeze=False)\n",
    "for k in range(len(max_depths)):\n",
    "    d = max_depths[k]\n",
    "    values = {}\n",
    "    for f in max_features:\n",
    "        yvalues = []\n",
    "        for n in n_estimators:\n",
    "            rf = RandomForestClassifier(n_estimators=n, max_depth=d, max_features=f)\n",
    "            rf.fit(trnX, trnY)\n",
    "            prdY = rf.predict(tstX)\n",
    "            yvalues.append(metrics.accuracy_score(tstY, prdY))\n",
    "            if yvalues[-1] > last_best:\n",
    "                best = (d, f, n)\n",
    "                last_best = yvalues[-1]\n",
    "                best_tree = rf\n",
    "\n",
    "        values[f] = yvalues\n",
    "    ds.multiple_line_chart(n_estimators, values, ax=axs[0, k], title='Random Forests with max_depth=%d'%d,\n",
    "                           xlabel='nr estimators', ylabel='accuracy', percentage=True)\n",
    "\n",
    "plt.show()\n",
    "print('Best results with depth=%d, %f features and %d estimators, with accuracy=%f'%(best[0], best[1], best[2], last_best))"
   ]
  },
  {
   "cell_type": "code",
   "execution_count": null,
   "metadata": {},
   "outputs": [],
   "source": [
    "prd_trn = best_tree.predict(trnX)\n",
    "prd_tst = best_tree.predict(tstX)\n",
    "ds.plot_evaluation_results(labels, trnY, prd_trn, tstY, prd_tst, showXTickLabels = True)"
   ]
  },
  {
   "cell_type": "code",
   "execution_count": null,
   "metadata": {},
   "outputs": [],
   "source": [
    "max_features = [best[1]]\n",
    "\n",
    "plt.figure()\n",
    "fig, axs = plt.subplots(1, len(max_depths), figsize=(16, 4), squeeze=False)\n",
    "for k in range(len(max_depths)):\n",
    "    d = max_depths[k]\n",
    "    values = {}\n",
    "    for f in max_features:\n",
    "        yvalues = []\n",
    "        yvalues_train = []\n",
    "        for n in n_estimators:\n",
    "            forest = RandomForestClassifier(n_estimators=n, max_depth=d, max_features=f)\n",
    "            forest.fit(trnX, trnY)\n",
    "            prdY = forest.predict(tstX)\n",
    "            prdY_train = forest.predict(trnX)\n",
    "            yvalues.append(metrics.accuracy_score(tstY, prdY))\n",
    "            yvalues_train.append(metrics.accuracy_score(trnY, prdY_train))\n",
    "        values['test'] = yvalues\n",
    "        values['train'] = yvalues_train\n",
    "    ds.multiple_line_chart(n_estimators, values, ax=axs[0, k], title='Random Forests with max_depth=%d'%d,\n",
    "                           xlabel='nr estimators', ylabel='accuracy', percentage=True)\n",
    "\n",
    "plt.show()\n",
    "print('Best results achieved with %s criteria, depth=%d and min_impurity_decrease=%f ==> accuracy=%f'%(best[0], best[1], best[2], last_best))"
   ]
  },
  {
   "cell_type": "markdown",
   "metadata": {},
   "source": [
    "### Summary\n",
    "---\n",
    "\n",
    "***How does performance changes with the number of estimators?***\n",
    "\n",
    "\n",
    "***How does performance changes with the number of features?***\n",
    "\n",
    "\n",
    "***How do models improve with the increase of max_depth?***\n",
    "\n",
    "\n",
    "***What is the best parametrisation (max_depth, number of estimators and features)?***\n",
    "\n",
    "\n",
    "***Is the accuracy achieved good enough?***\n",
    "\n",
    "\n",
    "***What is the largest kind of errors?***\n",
    "\n",
    "\n",
    "***Is it possible to identify overfitting?***\n"
   ]
  },
  {
   "cell_type": "code",
   "execution_count": null,
   "metadata": {},
   "outputs": [],
   "source": []
  }
 ],
 "metadata": {
  "kernelspec": {
   "display_name": "Python 3",
   "language": "python",
   "name": "python3"
  },
  "language_info": {
   "codemirror_mode": {
    "name": "ipython",
    "version": 3
   },
   "file_extension": ".py",
   "mimetype": "text/x-python",
   "name": "python",
   "nbconvert_exporter": "python",
   "pygments_lexer": "ipython3",
   "version": "3.6.9"
  }
 },
 "nbformat": 4,
 "nbformat_minor": 4
}
