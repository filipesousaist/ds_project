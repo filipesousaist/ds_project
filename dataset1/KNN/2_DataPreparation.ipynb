{
 "cells": [
  {
   "cell_type": "markdown",
   "metadata": {},
   "source": [
    "# 2. Data preparation\n",
    "\n",
    "---"
   ]
  },
  {
   "cell_type": "markdown",
   "metadata": {},
   "source": [
    "### Setup"
   ]
  },
  {
   "cell_type": "code",
   "execution_count": 2,
   "metadata": {},
   "outputs": [
    {
     "data": {
      "text/html": [
       "<div>\n",
       "<style scoped>\n",
       "    .dataframe tbody tr th:only-of-type {\n",
       "        vertical-align: middle;\n",
       "    }\n",
       "\n",
       "    .dataframe tbody tr th {\n",
       "        vertical-align: top;\n",
       "    }\n",
       "\n",
       "    .dataframe thead th {\n",
       "        text-align: right;\n",
       "    }\n",
       "</style>\n",
       "<table border=\"1\" class=\"dataframe\">\n",
       "  <thead>\n",
       "    <tr style=\"text-align: right;\">\n",
       "      <th></th>\n",
       "      <th>age</th>\n",
       "      <th>creatinine_phosphokinase</th>\n",
       "      <th>ejection_fraction</th>\n",
       "      <th>platelets</th>\n",
       "      <th>serum_creatinine</th>\n",
       "      <th>serum_sodium</th>\n",
       "      <th>time</th>\n",
       "    </tr>\n",
       "  </thead>\n",
       "  <tbody>\n",
       "    <tr>\n",
       "      <th>count</th>\n",
       "      <td>299.000000</td>\n",
       "      <td>299.000000</td>\n",
       "      <td>299.000000</td>\n",
       "      <td>299.000000</td>\n",
       "      <td>299.00000</td>\n",
       "      <td>299.000000</td>\n",
       "      <td>299.000000</td>\n",
       "    </tr>\n",
       "    <tr>\n",
       "      <th>mean</th>\n",
       "      <td>60.833893</td>\n",
       "      <td>581.839465</td>\n",
       "      <td>38.083612</td>\n",
       "      <td>263358.029264</td>\n",
       "      <td>1.39388</td>\n",
       "      <td>136.625418</td>\n",
       "      <td>130.260870</td>\n",
       "    </tr>\n",
       "    <tr>\n",
       "      <th>std</th>\n",
       "      <td>11.894809</td>\n",
       "      <td>970.287881</td>\n",
       "      <td>11.834841</td>\n",
       "      <td>97804.236869</td>\n",
       "      <td>1.03451</td>\n",
       "      <td>4.412477</td>\n",
       "      <td>77.614208</td>\n",
       "    </tr>\n",
       "    <tr>\n",
       "      <th>min</th>\n",
       "      <td>40.000000</td>\n",
       "      <td>23.000000</td>\n",
       "      <td>14.000000</td>\n",
       "      <td>25100.000000</td>\n",
       "      <td>0.50000</td>\n",
       "      <td>113.000000</td>\n",
       "      <td>4.000000</td>\n",
       "    </tr>\n",
       "    <tr>\n",
       "      <th>25%</th>\n",
       "      <td>51.000000</td>\n",
       "      <td>116.500000</td>\n",
       "      <td>30.000000</td>\n",
       "      <td>212500.000000</td>\n",
       "      <td>0.90000</td>\n",
       "      <td>134.000000</td>\n",
       "      <td>73.000000</td>\n",
       "    </tr>\n",
       "    <tr>\n",
       "      <th>50%</th>\n",
       "      <td>60.000000</td>\n",
       "      <td>250.000000</td>\n",
       "      <td>38.000000</td>\n",
       "      <td>262000.000000</td>\n",
       "      <td>1.10000</td>\n",
       "      <td>137.000000</td>\n",
       "      <td>115.000000</td>\n",
       "    </tr>\n",
       "    <tr>\n",
       "      <th>75%</th>\n",
       "      <td>70.000000</td>\n",
       "      <td>582.000000</td>\n",
       "      <td>45.000000</td>\n",
       "      <td>303500.000000</td>\n",
       "      <td>1.40000</td>\n",
       "      <td>140.000000</td>\n",
       "      <td>203.000000</td>\n",
       "    </tr>\n",
       "    <tr>\n",
       "      <th>max</th>\n",
       "      <td>95.000000</td>\n",
       "      <td>7861.000000</td>\n",
       "      <td>80.000000</td>\n",
       "      <td>850000.000000</td>\n",
       "      <td>9.40000</td>\n",
       "      <td>148.000000</td>\n",
       "      <td>285.000000</td>\n",
       "    </tr>\n",
       "  </tbody>\n",
       "</table>\n",
       "</div>"
      ],
      "text/plain": [
       "              age  creatinine_phosphokinase  ejection_fraction      platelets  \\\n",
       "count  299.000000                299.000000         299.000000     299.000000   \n",
       "mean    60.833893                581.839465          38.083612  263358.029264   \n",
       "std     11.894809                970.287881          11.834841   97804.236869   \n",
       "min     40.000000                 23.000000          14.000000   25100.000000   \n",
       "25%     51.000000                116.500000          30.000000  212500.000000   \n",
       "50%     60.000000                250.000000          38.000000  262000.000000   \n",
       "75%     70.000000                582.000000          45.000000  303500.000000   \n",
       "max     95.000000               7861.000000          80.000000  850000.000000   \n",
       "\n",
       "       serum_creatinine  serum_sodium        time  \n",
       "count         299.00000    299.000000  299.000000  \n",
       "mean            1.39388    136.625418  130.260870  \n",
       "std             1.03451      4.412477   77.614208  \n",
       "min             0.50000    113.000000    4.000000  \n",
       "25%             0.90000    134.000000   73.000000  \n",
       "50%             1.10000    137.000000  115.000000  \n",
       "75%             1.40000    140.000000  203.000000  \n",
       "max             9.40000    148.000000  285.000000  "
      ]
     },
     "execution_count": 2,
     "metadata": {},
     "output_type": "execute_result"
    }
   ],
   "source": [
    "import sys\n",
    "sys.path.insert(1, '../../utils')\n",
    "\n",
    "import pandas as pd\n",
    "\n",
    "original: pd.DataFrame = pd.read_csv('../heart_failure_clinical_records_dataset_after_profiling.csv', sep=';')\n",
    "original.to_csv('original.csv', sep=';', index=False)\n",
    "\n",
    "cols_nr = original.select_dtypes(include='number')\n",
    "cols_sb = original.select_dtypes(include='bool')\n",
    "\n",
    "original.describe()"
   ]
  },
  {
   "cell_type": "markdown",
   "metadata": {},
   "source": [
    "## 2.0. Data preparation\n",
    "\n",
    "---"
   ]
  },
  {
   "cell_type": "markdown",
   "metadata": {},
   "source": [
    "### Missing Values Imputation\n",
    "\n",
    "---"
   ]
  },
  {
   "cell_type": "markdown",
   "metadata": {},
   "source": [
    "In our dataset there are no missing values and therefore this step is not appliable."
   ]
  },
  {
   "cell_type": "code",
   "execution_count": 3,
   "metadata": {},
   "outputs": [],
   "source": [
    "df_nr = cols_nr\n",
    "df_sb = cols_sb"
   ]
  },
  {
   "cell_type": "markdown",
   "metadata": {},
   "source": [
    "### Outliers Removal\n",
    "\n",
    "---"
   ]
  },
  {
   "cell_type": "code",
   "execution_count": 4,
   "metadata": {
    "scrolled": true
   },
   "outputs": [
    {
     "name": "stdout",
     "output_type": "stream",
     "text": [
      "      age  creatinine_phosphokinase  ejection_fraction  platelets  \\\n",
      "0    75.0                     582.0               20.0   265000.0   \n",
      "2    65.0                     146.0               20.0   162000.0   \n",
      "3    50.0                     111.0               20.0   210000.0   \n",
      "5    90.0                      47.0               40.0   204000.0   \n",
      "6    75.0                     246.0               15.0   127000.0   \n",
      "..    ...                       ...                ...        ...   \n",
      "291  60.0                     320.0               35.0   133000.0   \n",
      "292  52.0                     190.0               38.0   382000.0   \n",
      "293  63.0                     103.0               35.0   179000.0   \n",
      "294  62.0                      61.0               38.0   155000.0   \n",
      "298  50.0                     196.0               45.0   395000.0   \n",
      "\n",
      "     serum_creatinine  serum_sodium   time  anaemia  diabetes  \\\n",
      "0                 1.9         130.0    4.0    False     False   \n",
      "2                 1.3         129.0    7.0    False     False   \n",
      "3                 1.9         137.0    7.0     True     False   \n",
      "5                 2.1         132.0    8.0     True     False   \n",
      "6                 1.2         137.0   10.0     True     False   \n",
      "..                ...           ...    ...      ...       ...   \n",
      "291               1.4         139.0  258.0    False     False   \n",
      "292               1.0         140.0  258.0    False      True   \n",
      "293               0.9         136.0  270.0     True      True   \n",
      "294               1.1         143.0  270.0    False      True   \n",
      "298               1.6         136.0  285.0    False     False   \n",
      "\n",
      "     high_blood_pressure   sex  smoking  DEATH_EVENT  \n",
      "0                   True  True    False         True  \n",
      "2                  False  True     True         True  \n",
      "3                  False  True    False         True  \n",
      "5                   True  True     True         True  \n",
      "6                  False  True    False         True  \n",
      "..                   ...   ...      ...          ...  \n",
      "291                False  True    False        False  \n",
      "292                False  True     True        False  \n",
      "293                False  True     True        False  \n",
      "294                 True  True     True        False  \n",
      "298                False  True     True        False  \n",
      "\n",
      "[224 rows x 13 columns]\n"
     ]
    }
   ],
   "source": [
    "# TODO\n",
    "\n",
    "Q1 = df_nr.quantile(0.25)\n",
    "Q3 = df_nr.quantile(0.75)\n",
    "IQR = Q3 - Q1\n",
    "\n",
    "df_nr_no = df_nr[~((df_nr < (Q1 - 1.5 * IQR)) |(df_nr > (Q3 + 1.5 * IQR))).any(axis=1)]\n",
    "\n",
    "df_no = pd.concat((df_nr_no, df_sb), axis=1).dropna()\n",
    "print(df_no)"
   ]
  },
  {
   "cell_type": "code",
   "execution_count": 10,
   "metadata": {},
   "outputs": [],
   "source": [
    "df_no.to_csv('prepared_no.csv', sep=';', index=False)"
   ]
  },
  {
   "cell_type": "markdown",
   "metadata": {},
   "source": [
    "prepared_no was better"
   ]
  },
  {
   "cell_type": "markdown",
   "metadata": {},
   "source": [
    "### Scaling\n",
    "\n",
    "---"
   ]
  },
  {
   "cell_type": "code",
   "execution_count": 5,
   "metadata": {
    "scrolled": false
   },
   "outputs": [
    {
     "data": {
      "image/png": "[encoded data removed]",
      "text/plain": [
       "<Figure size 1440x720 with 3 Axes>"
      ]
     },
     "metadata": {
      "needs_background": "light"
     },
     "output_type": "display_data"
    }
   ],
   "source": [
    "from sklearn.preprocessing import StandardScaler, MinMaxScaler\n",
    "\n",
    "data_no_nr = df_no.select_dtypes(include='number')\n",
    "data_no_sb = df_no.select_dtypes(include='bool').reset_index().drop(columns='index')\n",
    "\n",
    "transf = StandardScaler(with_mean=True, with_std=True, copy=True).fit(data_no_nr)\n",
    "norm_data_zscore = pd.DataFrame(transf.transform(data_no_nr), columns= data_no_nr.columns)\n",
    "\n",
    "transf = MinMaxScaler(feature_range=(0, 1), copy=True).fit(data_no_nr)\n",
    "norm_data_minmax = pd.DataFrame(transf.transform(data_no_nr), columns= data_no_nr.columns)\n",
    "\n",
    "import matplotlib.pyplot as plt\n",
    "fig, axs = plt.subplots(nrows = 1, ncols=3, figsize=(20, 10),squeeze=False)\n",
    "axs[0, 0].set_title('Original data')\n",
    "data_no_nr.boxplot(ax=axs[0, 0], rot=90, patch_artist=True, whiskerprops=dict(color='red'), medianprops=dict(color='yellow'), flierprops=dict(color='green', markeredgecolor='green'))\n",
    "axs[0, 1].set_title('Z-score normalization')\n",
    "norm_data_zscore.boxplot(ax=axs[0, 1], rot=90, patch_artist=True, whiskerprops=dict(color='red'), medianprops=dict(color='yellow'), flierprops=dict(color='green', markeredgecolor='green'))\n",
    "axs[0, 2].set_title('MinMax normalization')\n",
    "norm_data_minmax.boxplot(ax=axs[0, 2], rot=90, patch_artist=True, whiskerprops=dict(color='red'), medianprops=dict(color='yellow'), flierprops=dict(color='green', markeredgecolor='green'))\n",
    "plt.show()"
   ]
  },
  {
   "cell_type": "code",
   "execution_count": 6,
   "metadata": {},
   "outputs": [],
   "source": [
    "# Rejoin numeric with symbolic variables\n",
    "norm_data_zscore = norm_data_zscore.join(data_no_sb, how='right')\n",
    "norm_data_minmax = norm_data_minmax.join(data_no_sb, how='right')\n",
    "\n",
    "\n",
    "norm_data_zscore.to_csv('prepared_zs.csv', sep=';', index=False)\n",
    "norm_data_minmax.to_csv('prepared_mm.csv', sep=';', index=False)"
   ]
  },
  {
   "cell_type": "markdown",
   "metadata": {},
   "source": [
    "prepared_no was best"
   ]
  },
  {
   "cell_type": "markdown",
   "metadata": {},
   "source": [
    "### Data balancing\n",
    "\n",
    "---"
   ]
  },
  {
   "cell_type": "code",
   "execution_count": 7,
   "metadata": {
    "scrolled": true
   },
   "outputs": [
    {
     "data": {
      "image/png": "[encoded data removed]",
      "text/plain": [
       "<Figure size 432x288 with 1 Axes>"
      ]
     },
     "metadata": {
      "needs_background": "light"
     },
     "output_type": "display_data"
    },
    {
     "name": "stdout",
     "output_type": "stream",
     "text": [
      "Minority class: 61\n",
      "Majority class: 163\n",
      "Proportion: 0.374 : 1\n"
     ]
    }
   ],
   "source": [
    "import matplotlib.pyplot as plt\n",
    "\n",
    "unbal = norm_data_zscore[:]\n",
    "target_count = unbal['DEATH_EVENT'].value_counts()\n",
    "plt.figure()\n",
    "plt.title('Class balance')\n",
    "plt.bar(target_count.index, target_count.values)\n",
    "plt.show()\n",
    "\n",
    "min_class = target_count.idxmin()\n",
    "ind_min_class = target_count.index.get_loc(min_class)\n",
    "\n",
    "print('Minority class:', target_count[ind_min_class])\n",
    "print('Majority class:', target_count[1-ind_min_class])\n",
    "print('Proportion:', round(target_count[ind_min_class] / target_count[1-ind_min_class], 3), ': 1')"
   ]
  },
  {
   "cell_type": "code",
   "execution_count": 8,
   "metadata": {},
   "outputs": [
    {
     "data": {
      "image/png": "[encoded data removed]",
      "text/plain": [
       "<Figure size 600x450 with 1 Axes>"
      ]
     },
     "metadata": {
      "needs_background": "dark"
     },
     "output_type": "display_data"
    }
   ],
   "source": [
    "import ds_functions as ds\n",
    "from imblearn.over_sampling import SMOTE\n",
    "\n",
    "RANDOM_STATE = 42\n",
    "values = {'Original': [target_count.values[ind_min_class], target_count.values[1-ind_min_class]]}\n",
    "\n",
    "smote = SMOTE(sampling_strategy='minority', random_state=RANDOM_STATE)\n",
    "y = unbal.pop('DEATH_EVENT').values\n",
    "X = unbal.values\n",
    "smote_X, smote_y = smote.fit_sample(X, y)\n",
    "smote_target_count = pd.Series(smote_y).value_counts()\n",
    "values['SMOTE'] = [smote_target_count.values[ind_min_class], smote_target_count.values[1-ind_min_class]]\n",
    "\n",
    "fig = plt.figure()\n",
    "ds.multiple_bar_chart([target_count.index[ind_min_class], target_count.index[1-ind_min_class]], values,\n",
    "                      title='Target', xlabel='frequency', ylabel='Class balance', showXTickLabels=True)\n",
    "plt.show()"
   ]
  },
  {
   "cell_type": "code",
   "execution_count": 9,
   "metadata": {},
   "outputs": [],
   "source": [
    "import numpy as np\n",
    "smote_data = pd.DataFrame(np.concatenate([smote_X, smote_y[:,None]], axis=1), columns=df_no.columns)\n",
    "\n",
    "bool_names = ('anaemia', 'diabetes', 'high_blood_pressure', 'sex', 'smoking', 'DEATH_EVENT')\n",
    "for name in bool_names:\n",
    "    for i in range(len(smote_data[name])):\n",
    "        smote_data[name][i] = (smote_data[name][i] >= 0.5)\n",
    "smote_data = smote_data.astype({\n",
    "    'anaemia': bool, \n",
    "    'diabetes': bool, \n",
    "    'high_blood_pressure': bool, \n",
    "    'sex': bool,\n",
    "    'smoking': bool,\n",
    "    'DEATH_EVENT': bool\n",
    "})\n",
    "# Finally, export prepared data to csv\n",
    "smote_data.to_csv('prepared_zs_b.csv', sep=';', index=False)"
   ]
  },
  {
   "cell_type": "markdown",
   "metadata": {},
   "source": [
    "not sure between prepared_b and prepared_no"
   ]
  },
  {
   "cell_type": "markdown",
   "metadata": {},
   "source": [
    "### Feature Generation\n",
    "\n",
    "---"
   ]
  },
  {
   "cell_type": "code",
   "execution_count": 10,
   "metadata": {},
   "outputs": [
    {
     "name": "stdout",
     "output_type": "stream",
     "text": [
      "     sum(creatinine_phosphokinase,age)  sum(ejection_fraction,age)  \\\n",
      "0                             2.069207                   -0.365231   \n",
      "1                            -0.333066                   -1.204200   \n",
      "2                            -1.717014                   -2.462654   \n",
      "3                             1.409386                    2.604873   \n",
      "4                             0.864459                   -0.793143   \n",
      "..                                 ...                         ...   \n",
      "321                           2.778235                    1.504159   \n",
      "322                           0.783684                   -0.701330   \n",
      "323                          -0.644959                   -0.990827   \n",
      "324                          -0.157475                   -0.989708   \n",
      "325                           2.164063                    0.655823   \n",
      "\n",
      "     sum(ejection_fraction,creatinine_phosphokinase)  sum(platelets,age)  \\\n",
      "0                                          -0.677097            1.326870   \n",
      "1                                          -2.240402           -1.049328   \n",
      "2                                          -2.365896           -1.591403   \n",
      "3                                          -0.883722            1.674926   \n",
      "4                                          -2.309758           -0.732718   \n",
      "..                                               ...                 ...   \n",
      "321                                         0.483264            1.693553   \n",
      "322                                        -1.173233            0.686909   \n",
      "323                                        -1.702859           -0.336951   \n",
      "324                                        -1.503157            0.136615   \n",
      "325                                         0.249100            1.397220   \n",
      "\n",
      "     sum(platelets,creatinine_phosphokinase)  \\\n",
      "0                                   1.015003   \n",
      "1                                  -2.085530   \n",
      "2                                  -1.494646   \n",
      "3                                  -1.813669   \n",
      "4                                  -2.249333   \n",
      "..                                       ...   \n",
      "321                                 0.672658   \n",
      "322                                 0.215006   \n",
      "323                                -1.048984   \n",
      "324                                -0.376835   \n",
      "325                                 0.990498   \n",
      "\n",
      "     sum(platelets,ejection_fraction)  sum(serum_creatinine,age)  \\\n",
      "0                           -1.419435                   3.549200   \n",
      "1                           -2.956664                   0.875715   \n",
      "2                           -2.240285                   1.451777   \n",
      "3                           -0.618182                   5.419159   \n",
      "4                           -3.906935                   1.408932   \n",
      "..                                ...                        ...   \n",
      "321                         -0.601418                   4.044202   \n",
      "322                         -1.270008                   0.989999   \n",
      "323                         -1.394851                   1.706748   \n",
      "324                         -1.209067                  -0.407010   \n",
      "325                         -0.517743                   3.430029   \n",
      "\n",
      "     sum(serum_creatinine,creatinine_phosphokinase)  \\\n",
      "0                                          3.237334   \n",
      "1                                         -0.160486   \n",
      "2                                          1.548535   \n",
      "3                                          1.930564   \n",
      "4                                         -0.107683   \n",
      "..                                              ...   \n",
      "321                                        3.023307   \n",
      "322                                        0.518095   \n",
      "323                                        0.994715   \n",
      "324                                       -0.920460   \n",
      "325                                        3.023307   \n",
      "\n",
      "     sum(serum_creatinine,ejection_fraction)  sum(serum_creatinine,platelets)  \\\n",
      "0                                   0.802896                         2.494996   \n",
      "1                                  -1.031620                        -0.876749   \n",
      "2                                   0.802896                         1.674146   \n",
      "3                                   3.126051                         2.196104   \n",
      "4                                  -1.765285                        -1.704861   \n",
      "..                                       ...                              ...   \n",
      "321                                 1.749230                         1.938624   \n",
      "322                                -0.966918                         0.421321   \n",
      "323                                 0.648848                         1.302723   \n",
      "324                                -1.752693                        -0.626370   \n",
      "325                                 1.515066                         2.256464   \n",
      "\n",
      "     ...  platelets  serum_creatinine  serum_sodium      time  anaemia  \\\n",
      "0    ...   0.136333          2.358663     -1.854716 -1.683733    False   \n",
      "1    ...  -1.400896          0.524147     -2.117996 -1.644471    False   \n",
      "2    ...  -0.684517          2.358663     -0.011754 -1.644471     True   \n",
      "3    ...  -0.774065          2.970169     -1.328155 -1.631383     True   \n",
      "4    ...  -1.923255          0.218395     -0.011754 -1.605208     True   \n",
      "..   ...        ...               ...           ...       ...      ...   \n",
      "321  ...  -0.206012          2.144637     -0.801594 -0.757827     True   \n",
      "322  ...   0.059116          0.362205     -0.275034 -0.305397    False   \n",
      "323  ...  -0.370488          1.673211     -0.474639 -0.859152     True   \n",
      "324  ...  -0.041372         -0.584998      0.680039 -1.545503    False   \n",
      "325  ...   0.111827          2.144637     -0.801594 -1.338217    False   \n",
      "\n",
      "     diabetes  high_blood_pressure    sex  smoking  DEATH_EVENT  \n",
      "0       False                 True   True    False         True  \n",
      "1       False                False   True     True         True  \n",
      "2       False                False   True    False         True  \n",
      "3       False                 True   True     True         True  \n",
      "4       False                False   True    False         True  \n",
      "..        ...                  ...    ...      ...          ...  \n",
      "321     False                False   True    False         True  \n",
      "322      True                False   True     True         True  \n",
      "323     False                False   True    False         True  \n",
      "324     False                 True   True     True         True  \n",
      "325      True                 True  False    False         True  \n",
      "\n",
      "[326 rows x 76 columns]\n"
     ]
    }
   ],
   "source": [
    "df_gen = smote_data\n",
    "\n",
    "df_gen_nr = df_gen.select_dtypes(include='number')\n",
    "\n",
    "op_names = ('sum', 'diff', 'prod')\n",
    "ops = (lambda x,y: x+y, lambda x,y: x-y, lambda x,y: x*y)\n",
    "\n",
    "new_df_gen_nr = pd.DataFrame()\n",
    "\n",
    "index = 0\n",
    "for o in range(len(ops)):\n",
    "    for col1 in df_gen_nr.columns:\n",
    "        for col2 in df_gen_nr.columns:\n",
    "            if col1 == col2:\n",
    "                break\n",
    "            new_col = ops[o](df_gen_nr[col1], df_gen_nr[col2])\n",
    "            name = op_names[o] + '(' + col1 + ',' + col2 + ')'\n",
    "            new_df_gen_nr.insert(index, name, new_col)\n",
    "            index += 1\n",
    "\n",
    "new_df_gen = new_df_gen_nr.join(df_gen, how='right')\n",
    "print(new_df_gen)"
   ]
  },
  {
   "cell_type": "markdown",
   "metadata": {},
   "source": [
    "### Feature Selection\n",
    "\n",
    "---"
   ]
  },
  {
   "cell_type": "markdown",
   "metadata": {},
   "source": [
    "#### Unsupervised Selection"
   ]
  },
  {
   "cell_type": "markdown",
   "metadata": {},
   "source": [
    "By definition, unsupervised selection only aims for eliminating redundancies among the\n",
    "variables, getting the smallest set possible."
   ]
  },
  {
   "cell_type": "code",
   "execution_count": 11,
   "metadata": {},
   "outputs": [],
   "source": [
    "import seaborn as sns\n",
    "import numpy as np\n",
    "\n",
    "copy = new_df_gen.copy(deep=True)\n",
    "copy = copy.drop('DEATH_EVENT', axis = 1)\n",
    "corr_mtx_copy = copy.corr()\n",
    "\n",
    "removed = []\n",
    "\n",
    "for x in corr_mtx_copy:\n",
    "    for y in corr_mtx_copy:\n",
    "        if x == y:\n",
    "            break\n",
    "        corr = corr_mtx_copy[x][y]\n",
    "        if abs(corr) >= 0.9 and x not in removed and y not in removed:\n",
    "            copy = copy.drop(x, axis=1)\n",
    "            removed.append(x)\n",
    "            break\n",
    "\n",
    "copy['DEATH_EVENT'] = new_df_gen['DEATH_EVENT']\n",
    "y: np.ndarray = copy['DEATH_EVENT'].values\n",
    "X: np.ndarray = copy.drop('DEATH_EVENT', axis=1).values"
   ]
  },
  {
   "cell_type": "code",
   "execution_count": 129,
   "metadata": {},
   "outputs": [
    {
     "name": "stdout",
     "output_type": "stream",
     "text": [
      "     sum(creatinine_phosphokinase,age)  sum(ejection_fraction,age)  \\\n",
      "0                             1.107353                    0.754011   \n",
      "1                             0.553522                    0.572193   \n",
      "2                             0.250931                    0.299465   \n",
      "3                             0.923596                    1.418895   \n",
      "4                             0.820664                    0.655971   \n",
      "..                                 ...                         ...   \n",
      "321                           1.403386                    1.311083   \n",
      "322                           0.941089                    0.939838   \n",
      "323                           0.598671                    0.748921   \n",
      "324                           0.611234                    0.618408   \n",
      "325                           0.639425                    1.439375   \n",
      "\n",
      "     sum(ejection_fraction,creatinine_phosphokinase)  sum(platelets,age)  \\\n",
      "0                                           0.588637            1.105216   \n",
      "1                                           0.216623            0.585693   \n",
      "2                                           0.186760            0.470343   \n",
      "3                                           0.524309            1.177943   \n",
      "4                                           0.203908            0.652757   \n",
      "..                                               ...                 ...   \n",
      "321                                         1.033480            1.174068   \n",
      "322                                         0.755810            0.875522   \n",
      "323                                         0.470811            0.737224   \n",
      "324                                         0.405943            0.845326   \n",
      "325                                         1.091219            0.957259   \n",
      "\n",
      "     sum(platelets,creatinine_phosphokinase)  \\\n",
      "0                                   0.939842   \n",
      "1                                   0.230124   \n",
      "2                                   0.357637   \n",
      "3                                   0.283358   \n",
      "4                                   0.200694   \n",
      "..                                       ...   \n",
      "321                                 0.896465   \n",
      "322                                 0.691495   \n",
      "323                                 0.459114   \n",
      "324                                 0.632861   \n",
      "325                                 0.609103   \n",
      "\n",
      "     sum(platelets,ejection_fraction)  sum(serum_creatinine,age)  \\\n",
      "0                            0.586500                   1.503030   \n",
      "1                            0.248795                   0.921212   \n",
      "2                            0.406172                   1.048485   \n",
      "3                            0.778656                   1.909091   \n",
      "4                            0.036001                   1.036364   \n",
      "..                                ...                        ...   \n",
      "321                          0.804162                   1.464323   \n",
      "322                          0.690244                   0.993915   \n",
      "323                          0.609363                   1.187848   \n",
      "324                          0.640035                   0.630470   \n",
      "325                          1.409054                   1.116403   \n",
      "\n",
      "     sum(serum_creatinine,creatinine_phosphokinase)  \\\n",
      "0                                          1.337656   \n",
      "1                                          0.565643   \n",
      "2                                          0.935779   \n",
      "3                                          1.014505   \n",
      "4                                          0.584300   \n",
      "..                                              ...   \n",
      "321                                        1.186721   \n",
      "322                                        0.809887   \n",
      "323                                        0.909738   \n",
      "324                                        0.418005   \n",
      "325                                        0.768247   \n",
      "\n",
      "     sum(serum_creatinine,ejection_fraction)  sum(serum_creatinine,platelets)  \\\n",
      "0                                   0.984314                         1.335519   \n",
      "1                                   0.584314                         0.597814   \n",
      "2                                   0.984314                         1.155191   \n",
      "3                                   1.509804                         1.268852   \n",
      "4                                   0.419608                         0.416393   \n",
      "..                                       ...                              ...   \n",
      "321                                 1.094417                         0.957403   \n",
      "322                                 0.808636                         0.744321   \n",
      "323                                 1.059987                         1.048290   \n",
      "324                                 0.425179                         0.652097   \n",
      "325                                 1.568197                         1.086081   \n",
      "\n",
      "     ...  platelets  serum_creatinine  serum_sodium      time  anaemia  \\\n",
      "0    ...   0.468852          0.866667      0.217391  0.000000    False   \n",
      "1    ...   0.131148          0.466667      0.173913  0.010676    False   \n",
      "2    ...   0.288525          0.866667      0.521739  0.010676     True   \n",
      "3    ...   0.268852          1.000000      0.304348  0.014235     True   \n",
      "4    ...   0.016393          0.400000      0.521739  0.021352     True   \n",
      "..   ...        ...               ...           ...       ...      ...   \n",
      "321  ...   0.333574          0.623829      0.415444  0.285358    False   \n",
      "322  ...   0.312964          0.431357      0.547346  0.146723    False   \n",
      "323  ...   0.298833          0.749457      0.539936  0.361927     True   \n",
      "324  ...   0.433477          0.218621      0.627886  0.042226    False   \n",
      "325  ...   0.463469          0.622613      0.547342  0.052444    False   \n",
      "\n",
      "     diabetes  high_blood_pressure    sex  smoking  DEATH_EVENT  \n",
      "0       False                 True   True    False         True  \n",
      "1       False                False   True     True         True  \n",
      "2       False                False   True    False         True  \n",
      "3       False                 True   True     True         True  \n",
      "4       False                False   True    False         True  \n",
      "..        ...                  ...    ...      ...          ...  \n",
      "321      True                 True  False    False         True  \n",
      "322      True                 True   True     True         True  \n",
      "323     False                False   True    False         True  \n",
      "324     False                 True   True     True         True  \n",
      "325     False                False  False    False         True  \n",
      "\n",
      "[326 rows x 59 columns]\n"
     ]
    }
   ],
   "source": [
    "print(copy)"
   ]
  },
  {
   "cell_type": "markdown",
   "metadata": {},
   "source": [
    "#### Supervised Selection\n"
   ]
  },
  {
   "cell_type": "markdown",
   "metadata": {},
   "source": [
    "In the context of supervised selection, the goal is to identify the most relevant variables\n",
    "in relation to the target variable, and so we need criteria able to relate each variable\n",
    "with the target one.\n",
    "We will use sequential backward selection to select our sets of variables."
   ]
  },
  {
   "cell_type": "code",
   "execution_count": 12,
   "metadata": {},
   "outputs": [
    {
     "name": "stdout",
     "output_type": "stream",
     "text": [
      "Best Set: ('sum(time,serum_creatinine)', 'diff(ejection_fraction,age)', 'diff(serum_sodium,platelets)', 'diff(time,serum_creatinine)', 'prod(platelets,ejection_fraction)', 'prod(serum_creatinine,creatinine_phosphokinase)', 'prod(time,platelets)', 'serum_creatinine', 'time')\n",
      "Accuracy: 0.9423295454545455\n",
      "Nº neighbors: 1\n"
     ]
    }
   ],
   "source": [
    "from mlxtend.feature_selection import SequentialFeatureSelector as SFS\n",
    "from sklearn.neighbors import KNeighborsClassifier\n",
    "\n",
    "bestAvgScore = 0\n",
    "bestSet = None\n",
    "bestNeighbors = -1\n",
    "\n",
    "for n_neighbors in range(1, 9):\n",
    "    knn = KNeighborsClassifier(n_neighbors=n_neighbors)\n",
    "    \n",
    "    sbfs = SFS(knn,\n",
    "               k_features=12,\n",
    "               forward=True,\n",
    "               floating=False,\n",
    "               scoring='accuracy',\n",
    "               cv=10,\n",
    "               n_jobs=-1)\n",
    "    sbfs = sbfs.fit(X, y, custom_feature_names=copy.drop('DEATH_EVENT', axis=1).columns)\n",
    "\n",
    "    for subset in sbfs.subsets_:\n",
    "        if (sbfs.subsets_[subset]['avg_score'] > bestAvgScore):\n",
    "            bestAvgScore = sbfs.subsets_[subset]['avg_score']\n",
    "            bestSet = sbfs.subsets_[subset]['feature_names']\n",
    "            bestNeighbors = n_neighbors\n",
    "        \n",
    "print('Best Set:', bestSet)\n",
    "print('Accuracy:', bestAvgScore)\n",
    "print('Nº neighbors:', bestNeighbors)"
   ]
  },
  {
   "cell_type": "code",
   "execution_count": 13,
   "metadata": {},
   "outputs": [],
   "source": [
    "for feature in copy.columns:\n",
    "    if feature not in bestSet and feature != 'DEATH_EVENT':\n",
    "        copy = copy.drop(feature, axis=1)"
   ]
  },
  {
   "cell_type": "code",
   "execution_count": 14,
   "metadata": {},
   "outputs": [],
   "source": [
    "copy.to_csv('prepared_zs_b_gs.csv', sep=';', index=False)"
   ]
  },
  {
   "cell_type": "markdown",
   "metadata": {},
   "source": [
    "### Summary\n",
    "\n",
    "---\n",
    "\n",
    "***Are all variables in the same scale? If not, how does scaling impact the results?***\n",
    "\n",
    "No, the numeric variables have different scales. After applying scaling, the results (with Naive Bayes algorithm) were similar, but slightly worse. After removing the outliers, the results were slightly better.\n",
    "\n",
    "***Is the dataset unbalanced? If yes, what is the best balancing technique to apply?***\n",
    "\n",
    "Yes, the dataset is unbalanced. To balance it we used SMOTE, an oversampling technique."
   ]
  },
  {
   "cell_type": "markdown",
   "metadata": {},
   "source": [
    "### Feature Extraction\n",
    "\n",
    "---"
   ]
  },
  {
   "cell_type": "markdown",
   "metadata": {},
   "source": [
    "#### Principal component analysis\n"
   ]
  },
  {
   "cell_type": "code",
   "execution_count": 17,
   "metadata": {},
   "outputs": [
    {
     "data": {
      "image/png": "[encoded data removed]",
      "text/plain": [
       "<Figure size 600x600 with 1 Axes>"
      ]
     },
     "metadata": {
      "needs_background": "dark"
     },
     "output_type": "display_data"
    }
   ],
   "source": [
    "target_data = smote_data.pop('DEATH_EVENT')\n",
    "data = smote_data\n",
    "\n",
    "from sklearn.decomposition import PCA\n",
    "\n",
    "mean = (data.mean(axis=0)).tolist()\n",
    "centered_data = data - mean\n",
    "cov_mtx = centered_data.cov()\n",
    "eigvals, eigvecs = np.linalg.eig(cov_mtx)\n",
    "\n",
    "pca = PCA()\n",
    "pca.fit(centered_data)\n",
    "PC = pca.components_\n",
    "var = pca.explained_variance_\n",
    "\n",
    "# PLOT EXPLAINED VARIANCE RATIO\n",
    "fig = plt.figure(figsize=(4, 4))\n",
    "plt.title('Explained variance ratio')\n",
    "plt.xlabel('PC')\n",
    "plt.ylabel('ratio')\n",
    "x_values = [str(i) for i in range(1, len(pca.components_) + 1)]\n",
    "bwidth = 0.5\n",
    "ax = plt.gca()\n",
    "ax.set_xticklabels(x_values)\n",
    "ax.set_ylim(0.0, 1.0)\n",
    "ax.bar(x_values, pca.explained_variance_ratio_, width=bwidth)\n",
    "ax.plot(pca.explained_variance_ratio_)\n",
    "for i, v in enumerate(pca.explained_variance_ratio_):\n",
    "    ax.text(i, v+0.05, f'{v*100:.1f}', ha='center', fontweight='bold')\n",
    "plt.show()"
   ]
  },
  {
   "cell_type": "code",
   "execution_count": 18,
   "metadata": {},
   "outputs": [
    {
     "name": "stdout",
     "output_type": "stream",
     "text": [
      "          PC1       PC2       PC3       PC4       PC5       PC6       PC7  \\\n",
      "0    4.033492 -0.214008  0.339120  0.775288 -0.030280  0.438730 -0.135198   \n",
      "1    2.685804 -0.393127 -1.673627 -0.122292 -1.627084  0.340844  0.439031   \n",
      "2    2.369708 -0.246682 -1.837349  0.311681  0.252490 -0.798177 -1.892441   \n",
      "3    3.495159 -2.352105  0.717934  0.299004 -1.073892 -1.446850 -0.507777   \n",
      "4    2.257648 -1.276990 -1.858209 -1.373779 -0.036434 -0.041643  0.575194   \n",
      "..        ...       ...       ...       ...       ...       ...       ...   \n",
      "321  2.864242 -0.701396  1.212934 -0.161407  0.130472 -0.563215 -0.019546   \n",
      "322  1.366937  0.078211 -0.497587  0.001755  0.353699 -0.140321  0.776810   \n",
      "323  1.918907 -0.290829 -0.905151  0.348098 -0.156122 -0.909853 -0.748790   \n",
      "324  0.599654 -1.140313 -1.545068  0.014332  0.910664  0.689570  0.451795   \n",
      "325  2.866842 -0.675165  0.947407  0.431630  0.247802  0.360779 -0.553631   \n",
      "\n",
      "     DEATH_EVENT  \n",
      "0           True  \n",
      "1           True  \n",
      "2           True  \n",
      "3           True  \n",
      "4           True  \n",
      "..           ...  \n",
      "321         True  \n",
      "322         True  \n",
      "323         True  \n",
      "324         True  \n",
      "325         True  \n",
      "\n",
      "[326 rows x 8 columns]\n"
     ]
    }
   ],
   "source": [
    "transf = pca.transform(data)\n",
    "data = pd.DataFrame(transf[:,:7], columns=['PC1', 'PC2', 'PC3', 'PC4', 'PC5', 'PC6', 'PC7'])\n",
    "\n",
    "data = data.join(target_data, how='right')\n",
    "\n",
    "print(data)\n",
    "\n",
    "data.to_csv('prepared_zs_b_fe.csv', sep=';', index=False)"
   ]
  },
  {
   "cell_type": "code",
   "execution_count": null,
   "metadata": {},
   "outputs": [],
   "source": []
  }
 ],
 "metadata": {
  "kernelspec": {
   "display_name": "Python 3",
   "language": "python",
   "name": "python3"
  },
  "language_info": {
   "codemirror_mode": {
    "name": "ipython",
    "version": 3
   },
   "file_extension": ".py",
   "mimetype": "text/x-python",
   "name": "python",
   "nbconvert_exporter": "python",
   "pygments_lexer": "ipython3",
   "version": "3.6.9"
  }
 },
 "nbformat": 4,
 "nbformat_minor": 4
}
