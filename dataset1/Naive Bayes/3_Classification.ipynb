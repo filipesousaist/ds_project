{
 "cells": [
  {
   "cell_type": "markdown",
   "metadata": {},
   "source": [
    "# 3. Classification\n",
    "\n",
    "---"
   ]
  },
  {
   "cell_type": "markdown",
   "metadata": {},
   "source": [
    "### Setup"
   ]
  },
  {
   "cell_type": "code",
   "execution_count": 1,
   "metadata": {},
   "outputs": [
    {
     "data": {
      "text/html": [
       "<div>\n",
       "<style scoped>\n",
       "    .dataframe tbody tr th:only-of-type {\n",
       "        vertical-align: middle;\n",
       "    }\n",
       "\n",
       "    .dataframe tbody tr th {\n",
       "        vertical-align: top;\n",
       "    }\n",
       "\n",
       "    .dataframe thead th {\n",
       "        text-align: right;\n",
       "    }\n",
       "</style>\n",
       "<table border=\"1\" class=\"dataframe\">\n",
       "  <thead>\n",
       "    <tr style=\"text-align: right;\">\n",
       "      <th></th>\n",
       "      <th>age</th>\n",
       "      <th>anaemia</th>\n",
       "      <th>creatinine_phosphokinase</th>\n",
       "      <th>diabetes</th>\n",
       "      <th>ejection_fraction</th>\n",
       "      <th>high_blood_pressure</th>\n",
       "      <th>platelets</th>\n",
       "      <th>serum_creatinine</th>\n",
       "      <th>serum_sodium</th>\n",
       "      <th>sex</th>\n",
       "      <th>smoking</th>\n",
       "      <th>time</th>\n",
       "      <th>DEATH_EVENT</th>\n",
       "    </tr>\n",
       "  </thead>\n",
       "  <tbody>\n",
       "    <tr>\n",
       "      <th>0</th>\n",
       "      <td>75.0</td>\n",
       "      <td>False</td>\n",
       "      <td>582</td>\n",
       "      <td>False</td>\n",
       "      <td>20</td>\n",
       "      <td>True</td>\n",
       "      <td>265000.00</td>\n",
       "      <td>1.9</td>\n",
       "      <td>130</td>\n",
       "      <td>True</td>\n",
       "      <td>False</td>\n",
       "      <td>4</td>\n",
       "      <td>True</td>\n",
       "    </tr>\n",
       "    <tr>\n",
       "      <th>1</th>\n",
       "      <td>55.0</td>\n",
       "      <td>False</td>\n",
       "      <td>7861</td>\n",
       "      <td>False</td>\n",
       "      <td>38</td>\n",
       "      <td>False</td>\n",
       "      <td>263358.03</td>\n",
       "      <td>1.1</td>\n",
       "      <td>136</td>\n",
       "      <td>True</td>\n",
       "      <td>False</td>\n",
       "      <td>6</td>\n",
       "      <td>True</td>\n",
       "    </tr>\n",
       "    <tr>\n",
       "      <th>2</th>\n",
       "      <td>65.0</td>\n",
       "      <td>False</td>\n",
       "      <td>146</td>\n",
       "      <td>False</td>\n",
       "      <td>20</td>\n",
       "      <td>False</td>\n",
       "      <td>162000.00</td>\n",
       "      <td>1.3</td>\n",
       "      <td>129</td>\n",
       "      <td>True</td>\n",
       "      <td>True</td>\n",
       "      <td>7</td>\n",
       "      <td>True</td>\n",
       "    </tr>\n",
       "    <tr>\n",
       "      <th>3</th>\n",
       "      <td>50.0</td>\n",
       "      <td>True</td>\n",
       "      <td>111</td>\n",
       "      <td>False</td>\n",
       "      <td>20</td>\n",
       "      <td>False</td>\n",
       "      <td>210000.00</td>\n",
       "      <td>1.9</td>\n",
       "      <td>137</td>\n",
       "      <td>True</td>\n",
       "      <td>False</td>\n",
       "      <td>7</td>\n",
       "      <td>True</td>\n",
       "    </tr>\n",
       "    <tr>\n",
       "      <th>4</th>\n",
       "      <td>65.0</td>\n",
       "      <td>True</td>\n",
       "      <td>160</td>\n",
       "      <td>True</td>\n",
       "      <td>20</td>\n",
       "      <td>False</td>\n",
       "      <td>327000.00</td>\n",
       "      <td>2.7</td>\n",
       "      <td>116</td>\n",
       "      <td>False</td>\n",
       "      <td>False</td>\n",
       "      <td>8</td>\n",
       "      <td>True</td>\n",
       "    </tr>\n",
       "    <tr>\n",
       "      <th>...</th>\n",
       "      <td>...</td>\n",
       "      <td>...</td>\n",
       "      <td>...</td>\n",
       "      <td>...</td>\n",
       "      <td>...</td>\n",
       "      <td>...</td>\n",
       "      <td>...</td>\n",
       "      <td>...</td>\n",
       "      <td>...</td>\n",
       "      <td>...</td>\n",
       "      <td>...</td>\n",
       "      <td>...</td>\n",
       "      <td>...</td>\n",
       "    </tr>\n",
       "    <tr>\n",
       "      <th>294</th>\n",
       "      <td>62.0</td>\n",
       "      <td>False</td>\n",
       "      <td>61</td>\n",
       "      <td>True</td>\n",
       "      <td>38</td>\n",
       "      <td>True</td>\n",
       "      <td>155000.00</td>\n",
       "      <td>1.1</td>\n",
       "      <td>143</td>\n",
       "      <td>True</td>\n",
       "      <td>True</td>\n",
       "      <td>270</td>\n",
       "      <td>False</td>\n",
       "    </tr>\n",
       "    <tr>\n",
       "      <th>295</th>\n",
       "      <td>55.0</td>\n",
       "      <td>False</td>\n",
       "      <td>1820</td>\n",
       "      <td>False</td>\n",
       "      <td>38</td>\n",
       "      <td>False</td>\n",
       "      <td>270000.00</td>\n",
       "      <td>1.2</td>\n",
       "      <td>139</td>\n",
       "      <td>False</td>\n",
       "      <td>False</td>\n",
       "      <td>271</td>\n",
       "      <td>False</td>\n",
       "    </tr>\n",
       "    <tr>\n",
       "      <th>296</th>\n",
       "      <td>45.0</td>\n",
       "      <td>False</td>\n",
       "      <td>2060</td>\n",
       "      <td>True</td>\n",
       "      <td>60</td>\n",
       "      <td>False</td>\n",
       "      <td>742000.00</td>\n",
       "      <td>0.8</td>\n",
       "      <td>138</td>\n",
       "      <td>False</td>\n",
       "      <td>False</td>\n",
       "      <td>278</td>\n",
       "      <td>False</td>\n",
       "    </tr>\n",
       "    <tr>\n",
       "      <th>297</th>\n",
       "      <td>45.0</td>\n",
       "      <td>False</td>\n",
       "      <td>2413</td>\n",
       "      <td>False</td>\n",
       "      <td>38</td>\n",
       "      <td>False</td>\n",
       "      <td>140000.00</td>\n",
       "      <td>1.4</td>\n",
       "      <td>140</td>\n",
       "      <td>True</td>\n",
       "      <td>True</td>\n",
       "      <td>280</td>\n",
       "      <td>False</td>\n",
       "    </tr>\n",
       "    <tr>\n",
       "      <th>298</th>\n",
       "      <td>50.0</td>\n",
       "      <td>False</td>\n",
       "      <td>196</td>\n",
       "      <td>False</td>\n",
       "      <td>45</td>\n",
       "      <td>False</td>\n",
       "      <td>395000.00</td>\n",
       "      <td>1.6</td>\n",
       "      <td>136</td>\n",
       "      <td>True</td>\n",
       "      <td>True</td>\n",
       "      <td>285</td>\n",
       "      <td>False</td>\n",
       "    </tr>\n",
       "  </tbody>\n",
       "</table>\n",
       "<p>299 rows × 13 columns</p>\n",
       "</div>"
      ],
      "text/plain": [
       "      age  anaemia  creatinine_phosphokinase  diabetes  ejection_fraction  \\\n",
       "0    75.0    False                       582     False                 20   \n",
       "1    55.0    False                      7861     False                 38   \n",
       "2    65.0    False                       146     False                 20   \n",
       "3    50.0     True                       111     False                 20   \n",
       "4    65.0     True                       160      True                 20   \n",
       "..    ...      ...                       ...       ...                ...   \n",
       "294  62.0    False                        61      True                 38   \n",
       "295  55.0    False                      1820     False                 38   \n",
       "296  45.0    False                      2060      True                 60   \n",
       "297  45.0    False                      2413     False                 38   \n",
       "298  50.0    False                       196     False                 45   \n",
       "\n",
       "     high_blood_pressure  platelets  serum_creatinine  serum_sodium    sex  \\\n",
       "0                   True  265000.00               1.9           130   True   \n",
       "1                  False  263358.03               1.1           136   True   \n",
       "2                  False  162000.00               1.3           129   True   \n",
       "3                  False  210000.00               1.9           137   True   \n",
       "4                  False  327000.00               2.7           116  False   \n",
       "..                   ...        ...               ...           ...    ...   \n",
       "294                 True  155000.00               1.1           143   True   \n",
       "295                False  270000.00               1.2           139  False   \n",
       "296                False  742000.00               0.8           138  False   \n",
       "297                False  140000.00               1.4           140   True   \n",
       "298                False  395000.00               1.6           136   True   \n",
       "\n",
       "     smoking  time  DEATH_EVENT  \n",
       "0      False     4         True  \n",
       "1      False     6         True  \n",
       "2       True     7         True  \n",
       "3      False     7         True  \n",
       "4      False     8         True  \n",
       "..       ...   ...          ...  \n",
       "294     True   270        False  \n",
       "295    False   271        False  \n",
       "296    False   278        False  \n",
       "297     True   280        False  \n",
       "298     True   285        False  \n",
       "\n",
       "[299 rows x 13 columns]"
      ]
     },
     "execution_count": 1,
     "metadata": {},
     "output_type": "execute_result"
    }
   ],
   "source": [
    "import sys\n",
    "sys.path.insert(1, '../../utils')\n",
    "\n",
    "import numpy as np\n",
    "import pandas as pd\n",
    "import matplotlib.pyplot as plt\n",
    "import ds_functions as ds\n",
    "from sklearn.model_selection import StratifiedKFold\n",
    "\n",
    "data: pd.DataFrame = pd.read_csv('original.csv', sep=';')\n",
    "data"
   ]
  },
  {
   "cell_type": "markdown",
   "metadata": {},
   "source": [
    "## 3.0. Training Models\n",
    "\n",
    "---"
   ]
  },
  {
   "cell_type": "markdown",
   "metadata": {},
   "source": [
    "### Training Models\n",
    "\n",
    "---"
   ]
  },
  {
   "cell_type": "markdown",
   "metadata": {},
   "source": [
    "#### StratifiedKFold function\n",
    "After loading the data, in data dataframe, we need to separate the target variable which is the DEATH_EVENT from the rest of the data, since it plays a different role in the training procedure. Through the application of the pop method, we get the class variable, and simultaneously removing it from the dataframe. So, y will keep the ndarray with the target variable for each record and X the ndarray containing the records themselves"
   ]
  },
  {
   "cell_type": "code",
   "execution_count": 2,
   "metadata": {},
   "outputs": [],
   "source": [
    "target = 'DEATH_EVENT'\n",
    "positive = True\n",
    "negative = False\n",
    "values = {'Original': [len(data[data[target] == positive]), len(data[data[target] == negative])]}\n",
    "\n",
    "y: np.ndarray = data.pop(target).values\n",
    "X: np.ndarray = data.values\n",
    "labels: np.ndarray = pd.unique(y)"
   ]
  },
  {
   "cell_type": "code",
   "execution_count": 3,
   "metadata": {
    "scrolled": false
   },
   "outputs": [
    {
     "data": {
      "image/png": "[encoded data removed]",
      "text/plain": [
       "<Figure size 1800x600 with 1 Axes>"
      ]
     },
     "metadata": {
      "needs_background": "dark"
     },
     "output_type": "display_data"
    }
   ],
   "source": [
    "np.random.seed(1)\n",
    "skf = StratifiedKFold(n_splits=10, shuffle=True)\n",
    "skf.get_n_splits(X, y)\n",
    "\n",
    "splits=[]\n",
    "\n",
    "for train_index, test_index in skf.split(X, y):\n",
    "    splits.append({'X_train': X[train_index], 'X_test': X[test_index],\n",
    "                  'y_train': y[train_index], 'y_test': y[test_index]})\n",
    "\n",
    "values['Train'] = [len(np.delete(y[train_index], np.argwhere(y[train_index]==negative))), len(np.delete(y[train_index], np.argwhere(y[train_index]==positive)))]\n",
    "values['Test'] = [len(np.delete(y[test_index], np.argwhere(y[test_index]==negative))), len(np.delete(y[test_index], np.argwhere(y[test_index]==positive)))]\n",
    "\n",
    "plt.figure(figsize=(12,4))\n",
    "ds.multiple_bar_chart([positive, negative], values, title='Data distribution per split', showXTickLabels=True)\n",
    "plt.show()"
   ]
  },
  {
   "cell_type": "markdown",
   "metadata": {},
   "source": [
    "We have just plotted the chart of one split because the splits have identical distribution which will make the bar charts equal."
   ]
  },
  {
   "cell_type": "markdown",
   "metadata": {},
   "source": [
    "## 3.1. Naive Bayes\n",
    "\n",
    "---"
   ]
  },
  {
   "cell_type": "code",
   "execution_count": 4,
   "metadata": {
    "scrolled": true
   },
   "outputs": [
    {
     "data": {
      "image/png": "[encoded data removed]",
      "text/plain": [
       "<Figure size 1200x600 with 2 Axes>"
      ]
     },
     "metadata": {
      "needs_background": "dark"
     },
     "output_type": "display_data"
    }
   ],
   "source": [
    "import sklearn.metrics as metrics\n",
    "from sklearn.naive_bayes import GaussianNB, MultinomialNB, BernoulliNB\n",
    "\n",
    "totalYTrn = np.array(())\n",
    "totalPrd_trn = np.array(())\n",
    "totalYTst = np.array(())\n",
    "totalPrd_tst = np.array(())\n",
    "\n",
    "clf = GaussianNB()\n",
    "for split in splits:\n",
    "    clf.fit(split['X_train'], split['y_train'])\n",
    "    \n",
    "    prd_trn = clf.predict(split['X_train'])\n",
    "    totalYTrn = np.concatenate((totalYTrn, split['y_train']))\n",
    "    totalPrd_trn = np.concatenate((totalPrd_trn, prd_trn))\n",
    "    \n",
    "    prd_tst = clf.predict(split['X_test'])\n",
    "    totalYTst = np.concatenate((totalYTst, split['y_test']))\n",
    "    totalPrd_tst = np.concatenate((totalPrd_tst, prd_tst))\n",
    "    \n",
    "ds.plot_evaluation_results(labels, totalYTrn, totalPrd_trn, totalYTst, totalPrd_tst, showXTickLabels=True)"
   ]
  },
  {
   "cell_type": "code",
   "execution_count": 9,
   "metadata": {
    "scrolled": false
   },
   "outputs": [
    {
     "name": "stdout",
     "output_type": "stream",
     "text": [
      "Mean values:\n",
      "GaussianNB: 0.793\n",
      "MultinomialNB: 0.642\n",
      "BernoulliNB: 0.679\n",
      "95% cofidence interval for accuracy:\n",
      "GaussianNB: [0.743,0.843]\n",
      "MultinomialNB: [0.605,0.68]\n",
      "BernoulliNB: [0.67,0.688]\n",
      "99% cofidence interval for accuracy:\n",
      "GaussianNB: [0.717,0.87]\n",
      "MultinomialNB: [0.585,0.7]\n",
      "BernoulliNB: [0.666,0.692]\n"
     ]
    },
    {
     "data": {
      "image/png": "[encoded data removed]",
      "text/plain": [
       "<Figure size 600x450 with 1 Axes>"
      ]
     },
     "metadata": {
      "needs_background": "dark"
     },
     "output_type": "display_data"
    }
   ],
   "source": [
    "estimators = {'GaussianNB': GaussianNB(),\n",
    "              'MultinomialNB': MultinomialNB(),\n",
    "              'BernoulliNB': BernoulliNB()}\n",
    "\n",
    "xvalues = [est for est in estimators]\n",
    "yvalues = [np.zeros(10) for _ in estimators]\n",
    "\n",
    "for spli in range(len(splits)):\n",
    "    split = splits[spli]\n",
    "    for i in range(len(xvalues)):\n",
    "        clf = xvalues[i]\n",
    "        estimators[clf].fit(split['X_train'], split['y_train'])\n",
    "        prdY = estimators[clf].predict(split['X_test'])\n",
    "        yvalues[i][spli] = metrics.accuracy_score(split['y_test'], prdY)\n",
    "\n",
    "estimator_names = ('GaussianNB', 'MultinomialNB', 'BernoulliNB')\n",
    "means = [np.mean(accs) for accs in yvalues]\n",
    "stds = [np.std(accs) for accs in yvalues]\n",
    "confidences = (0.95, 0.99)\n",
    "t_st = (1.812, 2.764)\n",
    "\n",
    "print(\"Mean values:\")\n",
    "for est in range(len(estimators)):\n",
    "    print(f'{estimator_names[est]}: {round(means[est], 3)}')\n",
    "\n",
    "for c in range(len(confidences)):\n",
    "    conf = confidences[c]\n",
    "    print(f'{int(conf*100)}% cofidence interval for accuracy:')\n",
    "    for est in range(len(estimators)):\n",
    "        minAcc = means[est] - t_st[c] * stds[est] / (10**0.5)\n",
    "        maxAcc = means[est] + t_st[c] * stds[est] / (10**0.5)\n",
    "        print(f'{estimator_names[est]}: [{round(minAcc, 3)},{round(maxAcc, 3)}]')\n",
    "\n",
    "plt.figure()\n",
    "ds.bar_chart(xvalues, means, title='Comparison of Naive Bayes Models', ylabel='accuracy', percentage=True)\n",
    "plt.show()"
   ]
  },
  {
   "cell_type": "markdown",
   "metadata": {},
   "source": [
    "### Summary\n",
    "\n",
    "---\n",
    "\n",
    "***Which distribution is more adequate to model our data?***\n",
    "\n",
    "For most of the splits, the Gaussian distribution models better our data.\n",
    "\n",
    "***Is the accuracy achieved good enough?***\n",
    "\n",
    "The accuracy is better than the one of the classifier that considers every record is negative. However, this doesn't mean the classifier is good enough. We still consider it is not very good.\n",
    "\n",
    "***What is the largest kind of errors?***\n",
    "\n",
    "False negatives."
   ]
  }
 ],
 "metadata": {
  "kernelspec": {
   "display_name": "Python 3",
   "language": "python",
   "name": "python3"
  },
  "language_info": {
   "codemirror_mode": {
    "name": "ipython",
    "version": 3
   },
   "file_extension": ".py",
   "mimetype": "text/x-python",
   "name": "python",
   "nbconvert_exporter": "python",
   "pygments_lexer": "ipython3",
   "version": "3.6.9"
  }
 },
 "nbformat": 4,
 "nbformat_minor": 4
}
