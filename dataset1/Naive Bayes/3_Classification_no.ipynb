{
 "cells": [
  {
   "cell_type": "markdown",
   "metadata": {},
   "source": [
    "# 3. Classification\n",
    "\n",
    "---"
   ]
  },
  {
   "cell_type": "markdown",
   "metadata": {},
   "source": [
    "### Setup"
   ]
  },
  {
   "cell_type": "code",
   "execution_count": 1,
   "metadata": {},
   "outputs": [
    {
     "data": {
      "text/html": [
       "<div>\n",
       "<style scoped>\n",
       "    .dataframe tbody tr th:only-of-type {\n",
       "        vertical-align: middle;\n",
       "    }\n",
       "\n",
       "    .dataframe tbody tr th {\n",
       "        vertical-align: top;\n",
       "    }\n",
       "\n",
       "    .dataframe thead th {\n",
       "        text-align: right;\n",
       "    }\n",
       "</style>\n",
       "<table border=\"1\" class=\"dataframe\">\n",
       "  <thead>\n",
       "    <tr style=\"text-align: right;\">\n",
       "      <th></th>\n",
       "      <th>age</th>\n",
       "      <th>creatinine_phosphokinase</th>\n",
       "      <th>ejection_fraction</th>\n",
       "      <th>platelets</th>\n",
       "      <th>serum_creatinine</th>\n",
       "      <th>serum_sodium</th>\n",
       "      <th>time</th>\n",
       "      <th>anaemia</th>\n",
       "      <th>diabetes</th>\n",
       "      <th>high_blood_pressure</th>\n",
       "      <th>sex</th>\n",
       "      <th>smoking</th>\n",
       "      <th>DEATH_EVENT</th>\n",
       "    </tr>\n",
       "  </thead>\n",
       "  <tbody>\n",
       "    <tr>\n",
       "      <th>0</th>\n",
       "      <td>75.0</td>\n",
       "      <td>582.0</td>\n",
       "      <td>20.0</td>\n",
       "      <td>265000.0</td>\n",
       "      <td>1.9</td>\n",
       "      <td>130.0</td>\n",
       "      <td>4.0</td>\n",
       "      <td>False</td>\n",
       "      <td>False</td>\n",
       "      <td>True</td>\n",
       "      <td>True</td>\n",
       "      <td>False</td>\n",
       "      <td>True</td>\n",
       "    </tr>\n",
       "    <tr>\n",
       "      <th>1</th>\n",
       "      <td>65.0</td>\n",
       "      <td>146.0</td>\n",
       "      <td>20.0</td>\n",
       "      <td>162000.0</td>\n",
       "      <td>1.3</td>\n",
       "      <td>129.0</td>\n",
       "      <td>7.0</td>\n",
       "      <td>False</td>\n",
       "      <td>False</td>\n",
       "      <td>False</td>\n",
       "      <td>True</td>\n",
       "      <td>True</td>\n",
       "      <td>True</td>\n",
       "    </tr>\n",
       "    <tr>\n",
       "      <th>2</th>\n",
       "      <td>50.0</td>\n",
       "      <td>111.0</td>\n",
       "      <td>20.0</td>\n",
       "      <td>210000.0</td>\n",
       "      <td>1.9</td>\n",
       "      <td>137.0</td>\n",
       "      <td>7.0</td>\n",
       "      <td>True</td>\n",
       "      <td>False</td>\n",
       "      <td>False</td>\n",
       "      <td>True</td>\n",
       "      <td>False</td>\n",
       "      <td>True</td>\n",
       "    </tr>\n",
       "    <tr>\n",
       "      <th>3</th>\n",
       "      <td>90.0</td>\n",
       "      <td>47.0</td>\n",
       "      <td>40.0</td>\n",
       "      <td>204000.0</td>\n",
       "      <td>2.1</td>\n",
       "      <td>132.0</td>\n",
       "      <td>8.0</td>\n",
       "      <td>True</td>\n",
       "      <td>False</td>\n",
       "      <td>True</td>\n",
       "      <td>True</td>\n",
       "      <td>True</td>\n",
       "      <td>True</td>\n",
       "    </tr>\n",
       "    <tr>\n",
       "      <th>4</th>\n",
       "      <td>75.0</td>\n",
       "      <td>246.0</td>\n",
       "      <td>15.0</td>\n",
       "      <td>127000.0</td>\n",
       "      <td>1.2</td>\n",
       "      <td>137.0</td>\n",
       "      <td>10.0</td>\n",
       "      <td>True</td>\n",
       "      <td>False</td>\n",
       "      <td>False</td>\n",
       "      <td>True</td>\n",
       "      <td>False</td>\n",
       "      <td>True</td>\n",
       "    </tr>\n",
       "    <tr>\n",
       "      <th>...</th>\n",
       "      <td>...</td>\n",
       "      <td>...</td>\n",
       "      <td>...</td>\n",
       "      <td>...</td>\n",
       "      <td>...</td>\n",
       "      <td>...</td>\n",
       "      <td>...</td>\n",
       "      <td>...</td>\n",
       "      <td>...</td>\n",
       "      <td>...</td>\n",
       "      <td>...</td>\n",
       "      <td>...</td>\n",
       "      <td>...</td>\n",
       "    </tr>\n",
       "    <tr>\n",
       "      <th>219</th>\n",
       "      <td>60.0</td>\n",
       "      <td>320.0</td>\n",
       "      <td>35.0</td>\n",
       "      <td>133000.0</td>\n",
       "      <td>1.4</td>\n",
       "      <td>139.0</td>\n",
       "      <td>258.0</td>\n",
       "      <td>False</td>\n",
       "      <td>False</td>\n",
       "      <td>False</td>\n",
       "      <td>True</td>\n",
       "      <td>False</td>\n",
       "      <td>False</td>\n",
       "    </tr>\n",
       "    <tr>\n",
       "      <th>220</th>\n",
       "      <td>52.0</td>\n",
       "      <td>190.0</td>\n",
       "      <td>38.0</td>\n",
       "      <td>382000.0</td>\n",
       "      <td>1.0</td>\n",
       "      <td>140.0</td>\n",
       "      <td>258.0</td>\n",
       "      <td>False</td>\n",
       "      <td>True</td>\n",
       "      <td>False</td>\n",
       "      <td>True</td>\n",
       "      <td>True</td>\n",
       "      <td>False</td>\n",
       "    </tr>\n",
       "    <tr>\n",
       "      <th>221</th>\n",
       "      <td>63.0</td>\n",
       "      <td>103.0</td>\n",
       "      <td>35.0</td>\n",
       "      <td>179000.0</td>\n",
       "      <td>0.9</td>\n",
       "      <td>136.0</td>\n",
       "      <td>270.0</td>\n",
       "      <td>True</td>\n",
       "      <td>True</td>\n",
       "      <td>False</td>\n",
       "      <td>True</td>\n",
       "      <td>True</td>\n",
       "      <td>False</td>\n",
       "    </tr>\n",
       "    <tr>\n",
       "      <th>222</th>\n",
       "      <td>62.0</td>\n",
       "      <td>61.0</td>\n",
       "      <td>38.0</td>\n",
       "      <td>155000.0</td>\n",
       "      <td>1.1</td>\n",
       "      <td>143.0</td>\n",
       "      <td>270.0</td>\n",
       "      <td>False</td>\n",
       "      <td>True</td>\n",
       "      <td>True</td>\n",
       "      <td>True</td>\n",
       "      <td>True</td>\n",
       "      <td>False</td>\n",
       "    </tr>\n",
       "    <tr>\n",
       "      <th>223</th>\n",
       "      <td>50.0</td>\n",
       "      <td>196.0</td>\n",
       "      <td>45.0</td>\n",
       "      <td>395000.0</td>\n",
       "      <td>1.6</td>\n",
       "      <td>136.0</td>\n",
       "      <td>285.0</td>\n",
       "      <td>False</td>\n",
       "      <td>False</td>\n",
       "      <td>False</td>\n",
       "      <td>True</td>\n",
       "      <td>True</td>\n",
       "      <td>False</td>\n",
       "    </tr>\n",
       "  </tbody>\n",
       "</table>\n",
       "<p>224 rows × 13 columns</p>\n",
       "</div>"
      ],
      "text/plain": [
       "      age  creatinine_phosphokinase  ejection_fraction  platelets  \\\n",
       "0    75.0                     582.0               20.0   265000.0   \n",
       "1    65.0                     146.0               20.0   162000.0   \n",
       "2    50.0                     111.0               20.0   210000.0   \n",
       "3    90.0                      47.0               40.0   204000.0   \n",
       "4    75.0                     246.0               15.0   127000.0   \n",
       "..    ...                       ...                ...        ...   \n",
       "219  60.0                     320.0               35.0   133000.0   \n",
       "220  52.0                     190.0               38.0   382000.0   \n",
       "221  63.0                     103.0               35.0   179000.0   \n",
       "222  62.0                      61.0               38.0   155000.0   \n",
       "223  50.0                     196.0               45.0   395000.0   \n",
       "\n",
       "     serum_creatinine  serum_sodium   time  anaemia  diabetes  \\\n",
       "0                 1.9         130.0    4.0    False     False   \n",
       "1                 1.3         129.0    7.0    False     False   \n",
       "2                 1.9         137.0    7.0     True     False   \n",
       "3                 2.1         132.0    8.0     True     False   \n",
       "4                 1.2         137.0   10.0     True     False   \n",
       "..                ...           ...    ...      ...       ...   \n",
       "219               1.4         139.0  258.0    False     False   \n",
       "220               1.0         140.0  258.0    False      True   \n",
       "221               0.9         136.0  270.0     True      True   \n",
       "222               1.1         143.0  270.0    False      True   \n",
       "223               1.6         136.0  285.0    False     False   \n",
       "\n",
       "     high_blood_pressure   sex  smoking  DEATH_EVENT  \n",
       "0                   True  True    False         True  \n",
       "1                  False  True     True         True  \n",
       "2                  False  True    False         True  \n",
       "3                   True  True     True         True  \n",
       "4                  False  True    False         True  \n",
       "..                   ...   ...      ...          ...  \n",
       "219                False  True    False        False  \n",
       "220                False  True     True        False  \n",
       "221                False  True     True        False  \n",
       "222                 True  True     True        False  \n",
       "223                False  True     True        False  \n",
       "\n",
       "[224 rows x 13 columns]"
      ]
     },
     "execution_count": 1,
     "metadata": {},
     "output_type": "execute_result"
    }
   ],
   "source": [
    "import sys\n",
    "sys.path.insert(1, '../../utils')\n",
    "\n",
    "import numpy as np\n",
    "import pandas as pd\n",
    "import matplotlib.pyplot as plt\n",
    "import ds_functions as ds\n",
    "from sklearn.model_selection import StratifiedKFold\n",
    "\n",
    "data: pd.DataFrame = pd.read_csv('prepared_no.csv', sep=';')\n",
    "data"
   ]
  },
  {
   "cell_type": "markdown",
   "metadata": {},
   "source": [
    "## 3.0. Training Models\n",
    "\n",
    "---"
   ]
  },
  {
   "cell_type": "markdown",
   "metadata": {},
   "source": [
    "### Training Models\n",
    "\n",
    "---"
   ]
  },
  {
   "cell_type": "markdown",
   "metadata": {},
   "source": [
    "#### StratifiedKFold function\n",
    "After loading the data, in data dataframe, we need to separate the target variable which is the DEATH_EVENT from the rest of the data, since it plays a different role in the training procedure. Through the application of the pop method, we get the class variable, and simultaneously removing it from the dataframe. So, y will keep the ndarray with the target variable for each record and X the ndarray containing the records themselves"
   ]
  },
  {
   "cell_type": "code",
   "execution_count": 2,
   "metadata": {},
   "outputs": [],
   "source": [
    "target = 'DEATH_EVENT'\n",
    "positive = True\n",
    "negative = False\n",
    "values = {'Original': [len(data[data[target] == positive]), len(data[data[target] == negative])]}\n",
    "\n",
    "y: np.ndarray = data.pop(target).values\n",
    "X: np.ndarray = data.values\n",
    "labels: np.ndarray = pd.unique(y)"
   ]
  },
  {
   "cell_type": "code",
   "execution_count": 3,
   "metadata": {
    "scrolled": false
   },
   "outputs": [
    {
     "data": {
      "image/png": "[encoded data removed]",
      "text/plain": [
       "<Figure size 1800x600 with 1 Axes>"
      ]
     },
     "metadata": {
      "needs_background": "dark"
     },
     "output_type": "display_data"
    }
   ],
   "source": [
    "np.random.seed(1)\n",
    "skf = StratifiedKFold(n_splits=10, shuffle=True)\n",
    "skf.get_n_splits(X, y)\n",
    "\n",
    "splits=[]\n",
    "\n",
    "for train_index, test_index in skf.split(X, y):\n",
    "    splits.append({'X_train': X[train_index], 'X_test': X[test_index],\n",
    "                  'y_train': y[train_index], 'y_test': y[test_index]})\n",
    "\n",
    "values['Train'] = [len(np.delete(y[train_index], np.argwhere(y[train_index]==negative))), len(np.delete(y[train_index], np.argwhere(y[train_index]==positive)))]\n",
    "values['Test'] = [len(np.delete(y[test_index], np.argwhere(y[test_index]==negative))), len(np.delete(y[test_index], np.argwhere(y[test_index]==positive)))]\n",
    "\n",
    "plt.figure(figsize=(12,4))\n",
    "ds.multiple_bar_chart([positive, negative], values, title='Data distribution per split', showXTickLabels=True)\n",
    "plt.show()"
   ]
  },
  {
   "cell_type": "markdown",
   "metadata": {},
   "source": [
    "We have just plotted the chart of one split because the splits have identical distribution which will make the bar charts equal."
   ]
  },
  {
   "cell_type": "markdown",
   "metadata": {},
   "source": [
    "## 3.1. Naive Bayes\n",
    "\n",
    "---"
   ]
  },
  {
   "cell_type": "code",
   "execution_count": 4,
   "metadata": {
    "scrolled": true
   },
   "outputs": [
    {
     "data": {
      "image/png": "[encoded data removed]",
      "text/plain": [
       "<Figure size 1200x600 with 2 Axes>"
      ]
     },
     "metadata": {
      "needs_background": "dark"
     },
     "output_type": "display_data"
    }
   ],
   "source": [
    "import sklearn.metrics as metrics\n",
    "from sklearn.naive_bayes import GaussianNB, MultinomialNB, BernoulliNB\n",
    "\n",
    "totalYTrn = np.array(())\n",
    "totalPrd_trn = np.array(())\n",
    "totalYTst = np.array(())\n",
    "totalPrd_tst = np.array(())\n",
    "\n",
    "clf = GaussianNB()\n",
    "for split in splits:\n",
    "    clf.fit(split['X_train'], split['y_train'])\n",
    "    \n",
    "    prd_trn = clf.predict(split['X_train'])\n",
    "    totalYTrn = np.concatenate((totalYTrn, split['y_train']))\n",
    "    totalPrd_trn = np.concatenate((totalPrd_trn, prd_trn))\n",
    "    \n",
    "    prd_tst = clf.predict(split['X_test'])\n",
    "    totalYTst = np.concatenate((totalYTst, split['y_test']))\n",
    "    totalPrd_tst = np.concatenate((totalPrd_tst, prd_tst))\n",
    "    \n",
    "ds.plot_evaluation_results(labels, totalYTrn, totalPrd_trn, totalYTst, totalPrd_tst, showXTickLabels=True)"
   ]
  },
  {
   "cell_type": "code",
   "execution_count": 5,
   "metadata": {
    "scrolled": false
   },
   "outputs": [
    {
     "name": "stdout",
     "output_type": "stream",
     "text": [
      "Mean values:\n",
      "GaussianNB: 0.849\n",
      "MultinomialNB: 0.76\n",
      "BernoulliNB: 0.728\n",
      "95% cofidence interval for accuracy:\n",
      "GaussianNB: [0.823,0.874]\n",
      "MultinomialNB: [0.711,0.808]\n",
      "BernoulliNB: [0.721,0.734]\n",
      "99% cofidence interval for accuracy:\n",
      "GaussianNB: [0.81,0.887]\n",
      "MultinomialNB: [0.686,0.834]\n",
      "BernoulliNB: [0.717,0.738]\n"
     ]
    },
    {
     "data": {
      "image/png": "[encoded data removed]",
      "text/plain": [
       "<Figure size 600x450 with 1 Axes>"
      ]
     },
     "metadata": {
      "needs_background": "dark"
     },
     "output_type": "display_data"
    }
   ],
   "source": [
    "estimators = {'GaussianNB': GaussianNB(),\n",
    "              'MultinomialNB': MultinomialNB(),\n",
    "              'BernoulliNB': BernoulliNB()}\n",
    "\n",
    "xvalues = [est for est in estimators]\n",
    "yvalues = [np.zeros(10) for _ in estimators]\n",
    "\n",
    "for spli in range(len(splits)):\n",
    "    split = splits[spli]\n",
    "    for i in range(len(xvalues)):\n",
    "        clf = xvalues[i]\n",
    "        estimators[clf].fit(split['X_train'], split['y_train'])\n",
    "        prdY = estimators[clf].predict(split['X_test'])\n",
    "        yvalues[i][spli] = metrics.accuracy_score(split['y_test'], prdY)\n",
    "\n",
    "estimator_names = ('GaussianNB', 'MultinomialNB', 'BernoulliNB')\n",
    "means = [np.mean(accs) for accs in yvalues]\n",
    "stds = [np.std(accs) for accs in yvalues]\n",
    "confidences = (0.95, 0.99)\n",
    "t_st = (1.812, 2.764)\n",
    "\n",
    "print(\"Mean values:\")\n",
    "for est in range(len(estimators)):\n",
    "    print(f'{estimator_names[est]}: {round(means[est], 3)}')\n",
    "\n",
    "for c in range(len(confidences)):\n",
    "    conf = confidences[c]\n",
    "    print(f'{int(conf*100)}% cofidence interval for accuracy:')\n",
    "    for est in range(len(estimators)):\n",
    "        minAcc = means[est] - t_st[c] * stds[est] / (10**0.5)\n",
    "        maxAcc = means[est] + t_st[c] * stds[est] / (10**0.5)\n",
    "        print(f'{estimator_names[est]}: [{round(minAcc, 3)},{round(maxAcc, 3)}]')\n",
    "\n",
    "\n",
    "plt.figure()\n",
    "ds.bar_chart(xvalues, means, title='Comparison of Naive Bayes Models', ylabel='accuracy', percentage=True)\n",
    "plt.show()"
   ]
  },
  {
   "cell_type": "markdown",
   "metadata": {},
   "source": [
    "### Summary\n",
    "\n",
    "---\n",
    "\n",
    "***Which distribution is more adequate to model our data?***\n",
    "\n",
    "For most of the splits, the Gaussian distribution models better our data.\n",
    "\n",
    "***Is the accuracy achieved good enough?***\n",
    "\n",
    "The accuracy is better than the one of the classifier that considers every record is negative. However, this doesn't mean the classifier is good enough. We still consider it is not very good.\n",
    "\n",
    "***What is the largest kind of errors?***\n",
    "\n",
    "False negatives."
   ]
  }
 ],
 "metadata": {
  "kernelspec": {
   "display_name": "Python 3",
   "language": "python",
   "name": "python3"
  },
  "language_info": {
   "codemirror_mode": {
    "name": "ipython",
    "version": 3
   },
   "file_extension": ".py",
   "mimetype": "text/x-python",
   "name": "python",
   "nbconvert_exporter": "python",
   "pygments_lexer": "ipython3",
   "version": "3.8.6"
  }
 },
 "nbformat": 4,
 "nbformat_minor": 4
}
