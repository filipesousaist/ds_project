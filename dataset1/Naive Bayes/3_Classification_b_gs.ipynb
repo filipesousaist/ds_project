{
 "cells": [
  {
   "cell_type": "markdown",
   "metadata": {},
   "source": [
    "# 3. Classification\n",
    "\n",
    "---"
   ]
  },
  {
   "cell_type": "markdown",
   "metadata": {},
   "source": [
    "### Setup"
   ]
  },
  {
   "cell_type": "code",
   "execution_count": 1,
   "metadata": {},
   "outputs": [
    {
     "data": {
      "text/html": [
       "<div>\n",
       "<style scoped>\n",
       "    .dataframe tbody tr th:only-of-type {\n",
       "        vertical-align: middle;\n",
       "    }\n",
       "\n",
       "    .dataframe tbody tr th {\n",
       "        vertical-align: top;\n",
       "    }\n",
       "\n",
       "    .dataframe thead th {\n",
       "        text-align: right;\n",
       "    }\n",
       "</style>\n",
       "<table border=\"1\" class=\"dataframe\">\n",
       "  <thead>\n",
       "    <tr style=\"text-align: right;\">\n",
       "      <th></th>\n",
       "      <th>sum(ejection_fraction,age)</th>\n",
       "      <th>sum(platelets,age)</th>\n",
       "      <th>sum(serum_sodium,age)</th>\n",
       "      <th>diff(serum_sodium,creatinine_phosphokinase)</th>\n",
       "      <th>diff(serum_sodium,platelets)</th>\n",
       "      <th>diff(time,serum_creatinine)</th>\n",
       "      <th>prod(ejection_fraction,creatinine_phosphokinase)</th>\n",
       "      <th>prod(platelets,creatinine_phosphokinase)</th>\n",
       "      <th>prod(time,creatinine_phosphokinase)</th>\n",
       "      <th>ejection_fraction</th>\n",
       "      <th>DEATH_EVENT</th>\n",
       "    </tr>\n",
       "  </thead>\n",
       "  <tbody>\n",
       "    <tr>\n",
       "      <th>0</th>\n",
       "      <td>0.754011</td>\n",
       "      <td>1.105216</td>\n",
       "      <td>0.853755</td>\n",
       "      <td>-0.253598</td>\n",
       "      <td>-0.251461</td>\n",
       "      <td>-0.866667</td>\n",
       "      <td>0.055411</td>\n",
       "      <td>0.220825</td>\n",
       "      <td>0.000000</td>\n",
       "      <td>0.117647</td>\n",
       "      <td>True</td>\n",
       "    </tr>\n",
       "    <tr>\n",
       "      <th>1</th>\n",
       "      <td>0.572193</td>\n",
       "      <td>0.585693</td>\n",
       "      <td>0.628458</td>\n",
       "      <td>0.074937</td>\n",
       "      <td>0.042766</td>\n",
       "      <td>-0.455991</td>\n",
       "      <td>0.011644</td>\n",
       "      <td>0.012980</td>\n",
       "      <td>0.001057</td>\n",
       "      <td>0.117647</td>\n",
       "      <td>True</td>\n",
       "    </tr>\n",
       "    <tr>\n",
       "      <th>2</th>\n",
       "      <td>0.299465</td>\n",
       "      <td>0.470343</td>\n",
       "      <td>0.703557</td>\n",
       "      <td>0.452627</td>\n",
       "      <td>0.233215</td>\n",
       "      <td>-0.855991</td>\n",
       "      <td>0.008131</td>\n",
       "      <td>0.019941</td>\n",
       "      <td>0.000738</td>\n",
       "      <td>0.117647</td>\n",
       "      <td>True</td>\n",
       "    </tr>\n",
       "    <tr>\n",
       "      <th>3</th>\n",
       "      <td>1.418895</td>\n",
       "      <td>1.177943</td>\n",
       "      <td>1.213439</td>\n",
       "      <td>0.289843</td>\n",
       "      <td>0.035495</td>\n",
       "      <td>-0.985765</td>\n",
       "      <td>0.007395</td>\n",
       "      <td>0.003900</td>\n",
       "      <td>0.000206</td>\n",
       "      <td>0.509804</td>\n",
       "      <td>True</td>\n",
       "    </tr>\n",
       "    <tr>\n",
       "      <th>4</th>\n",
       "      <td>0.655971</td>\n",
       "      <td>0.652757</td>\n",
       "      <td>1.158103</td>\n",
       "      <td>0.337439</td>\n",
       "      <td>0.505346</td>\n",
       "      <td>-0.378648</td>\n",
       "      <td>0.003614</td>\n",
       "      <td>0.003021</td>\n",
       "      <td>0.003935</td>\n",
       "      <td>0.019608</td>\n",
       "      <td>True</td>\n",
       "    </tr>\n",
       "    <tr>\n",
       "      <th>...</th>\n",
       "      <td>...</td>\n",
       "      <td>...</td>\n",
       "      <td>...</td>\n",
       "      <td>...</td>\n",
       "      <td>...</td>\n",
       "      <td>...</td>\n",
       "      <td>...</td>\n",
       "      <td>...</td>\n",
       "      <td>...</td>\n",
       "      <td>...</td>\n",
       "      <td>...</td>\n",
       "    </tr>\n",
       "    <tr>\n",
       "      <th>321</th>\n",
       "      <td>1.311083</td>\n",
       "      <td>1.174068</td>\n",
       "      <td>1.255938</td>\n",
       "      <td>-0.147448</td>\n",
       "      <td>0.081870</td>\n",
       "      <td>-0.338471</td>\n",
       "      <td>0.264890</td>\n",
       "      <td>0.187766</td>\n",
       "      <td>0.160626</td>\n",
       "      <td>0.470588</td>\n",
       "      <td>True</td>\n",
       "    </tr>\n",
       "    <tr>\n",
       "      <th>322</th>\n",
       "      <td>0.939838</td>\n",
       "      <td>0.875522</td>\n",
       "      <td>1.109904</td>\n",
       "      <td>0.168815</td>\n",
       "      <td>0.234381</td>\n",
       "      <td>-0.284634</td>\n",
       "      <td>0.142812</td>\n",
       "      <td>0.118467</td>\n",
       "      <td>0.055539</td>\n",
       "      <td>0.377280</td>\n",
       "      <td>True</td>\n",
       "    </tr>\n",
       "    <tr>\n",
       "      <th>323</th>\n",
       "      <td>0.748921</td>\n",
       "      <td>0.737224</td>\n",
       "      <td>0.978326</td>\n",
       "      <td>0.379655</td>\n",
       "      <td>0.241103</td>\n",
       "      <td>-0.387530</td>\n",
       "      <td>0.049772</td>\n",
       "      <td>0.047897</td>\n",
       "      <td>0.058010</td>\n",
       "      <td>0.310530</td>\n",
       "      <td>True</td>\n",
       "    </tr>\n",
       "    <tr>\n",
       "      <th>324</th>\n",
       "      <td>0.618408</td>\n",
       "      <td>0.845326</td>\n",
       "      <td>1.039736</td>\n",
       "      <td>0.428501</td>\n",
       "      <td>0.194410</td>\n",
       "      <td>-0.176395</td>\n",
       "      <td>0.041185</td>\n",
       "      <td>0.086429</td>\n",
       "      <td>0.008419</td>\n",
       "      <td>0.206559</td>\n",
       "      <td>True</td>\n",
       "    </tr>\n",
       "    <tr>\n",
       "      <th>325</th>\n",
       "      <td>1.439375</td>\n",
       "      <td>0.957259</td>\n",
       "      <td>1.041132</td>\n",
       "      <td>0.401708</td>\n",
       "      <td>0.083873</td>\n",
       "      <td>-0.570169</td>\n",
       "      <td>0.137710</td>\n",
       "      <td>0.067497</td>\n",
       "      <td>0.007638</td>\n",
       "      <td>0.945585</td>\n",
       "      <td>True</td>\n",
       "    </tr>\n",
       "  </tbody>\n",
       "</table>\n",
       "<p>326 rows × 11 columns</p>\n",
       "</div>"
      ],
      "text/plain": [
       "     sum(ejection_fraction,age)  sum(platelets,age)  sum(serum_sodium,age)  \\\n",
       "0                      0.754011            1.105216               0.853755   \n",
       "1                      0.572193            0.585693               0.628458   \n",
       "2                      0.299465            0.470343               0.703557   \n",
       "3                      1.418895            1.177943               1.213439   \n",
       "4                      0.655971            0.652757               1.158103   \n",
       "..                          ...                 ...                    ...   \n",
       "321                    1.311083            1.174068               1.255938   \n",
       "322                    0.939838            0.875522               1.109904   \n",
       "323                    0.748921            0.737224               0.978326   \n",
       "324                    0.618408            0.845326               1.039736   \n",
       "325                    1.439375            0.957259               1.041132   \n",
       "\n",
       "     diff(serum_sodium,creatinine_phosphokinase)  \\\n",
       "0                                      -0.253598   \n",
       "1                                       0.074937   \n",
       "2                                       0.452627   \n",
       "3                                       0.289843   \n",
       "4                                       0.337439   \n",
       "..                                           ...   \n",
       "321                                    -0.147448   \n",
       "322                                     0.168815   \n",
       "323                                     0.379655   \n",
       "324                                     0.428501   \n",
       "325                                     0.401708   \n",
       "\n",
       "     diff(serum_sodium,platelets)  diff(time,serum_creatinine)  \\\n",
       "0                       -0.251461                    -0.866667   \n",
       "1                        0.042766                    -0.455991   \n",
       "2                        0.233215                    -0.855991   \n",
       "3                        0.035495                    -0.985765   \n",
       "4                        0.505346                    -0.378648   \n",
       "..                            ...                          ...   \n",
       "321                      0.081870                    -0.338471   \n",
       "322                      0.234381                    -0.284634   \n",
       "323                      0.241103                    -0.387530   \n",
       "324                      0.194410                    -0.176395   \n",
       "325                      0.083873                    -0.570169   \n",
       "\n",
       "     prod(ejection_fraction,creatinine_phosphokinase)  \\\n",
       "0                                            0.055411   \n",
       "1                                            0.011644   \n",
       "2                                            0.008131   \n",
       "3                                            0.007395   \n",
       "4                                            0.003614   \n",
       "..                                                ...   \n",
       "321                                          0.264890   \n",
       "322                                          0.142812   \n",
       "323                                          0.049772   \n",
       "324                                          0.041185   \n",
       "325                                          0.137710   \n",
       "\n",
       "     prod(platelets,creatinine_phosphokinase)  \\\n",
       "0                                    0.220825   \n",
       "1                                    0.012980   \n",
       "2                                    0.019941   \n",
       "3                                    0.003900   \n",
       "4                                    0.003021   \n",
       "..                                        ...   \n",
       "321                                  0.187766   \n",
       "322                                  0.118467   \n",
       "323                                  0.047897   \n",
       "324                                  0.086429   \n",
       "325                                  0.067497   \n",
       "\n",
       "     prod(time,creatinine_phosphokinase)  ejection_fraction  DEATH_EVENT  \n",
       "0                               0.000000           0.117647         True  \n",
       "1                               0.001057           0.117647         True  \n",
       "2                               0.000738           0.117647         True  \n",
       "3                               0.000206           0.509804         True  \n",
       "4                               0.003935           0.019608         True  \n",
       "..                                   ...                ...          ...  \n",
       "321                             0.160626           0.470588         True  \n",
       "322                             0.055539           0.377280         True  \n",
       "323                             0.058010           0.310530         True  \n",
       "324                             0.008419           0.206559         True  \n",
       "325                             0.007638           0.945585         True  \n",
       "\n",
       "[326 rows x 11 columns]"
      ]
     },
     "execution_count": 1,
     "metadata": {},
     "output_type": "execute_result"
    }
   ],
   "source": [
    "import sys\n",
    "sys.path.insert(1, '../../utils')\n",
    "\n",
    "import numpy as np\n",
    "import pandas as pd\n",
    "import matplotlib.pyplot as plt\n",
    "import ds_functions as ds\n",
    "from sklearn.model_selection import StratifiedKFold\n",
    "\n",
    "data: pd.DataFrame = pd.read_csv('prepared_b_gs.csv', sep=';')\n",
    "data"
   ]
  },
  {
   "cell_type": "markdown",
   "metadata": {},
   "source": [
    "## 3.0. Training Models\n",
    "\n",
    "---"
   ]
  },
  {
   "cell_type": "markdown",
   "metadata": {},
   "source": [
    "### Training Models\n",
    "\n",
    "---"
   ]
  },
  {
   "cell_type": "markdown",
   "metadata": {},
   "source": [
    "#### StratifiedKFold function\n",
    "After loading the data, in data dataframe, we need to separate the target variable which is the DEATH_EVENT from the rest of the data, since it plays a different role in the training procedure. Through the application of the pop method, we get the class variable, and simultaneously removing it from the dataframe. So, y will keep the ndarray with the target variable for each record and X the ndarray containing the records themselves"
   ]
  },
  {
   "cell_type": "code",
   "execution_count": 2,
   "metadata": {},
   "outputs": [],
   "source": [
    "target = 'DEATH_EVENT'\n",
    "positive = True\n",
    "negative = False\n",
    "values = {'Original': [len(data[data[target] == positive]), len(data[data[target] == negative])]}\n",
    "\n",
    "y: np.ndarray = data.pop(target).values\n",
    "X: np.ndarray = data.values\n",
    "labels: np.ndarray = pd.unique(y)"
   ]
  },
  {
   "cell_type": "code",
   "execution_count": 3,
   "metadata": {
    "scrolled": false
   },
   "outputs": [
    {
     "data": {
      "image/png": "[encoded data removed]",
      "text/plain": [
       "<Figure size 1800x600 with 1 Axes>"
      ]
     },
     "metadata": {
      "needs_background": "dark"
     },
     "output_type": "display_data"
    }
   ],
   "source": [
    "np.random.seed(1)\n",
    "skf = StratifiedKFold(n_splits=10, shuffle=True)\n",
    "skf.get_n_splits(X, y)\n",
    "\n",
    "splits=[]\n",
    "\n",
    "for train_index, test_index in skf.split(X, y):\n",
    "    splits.append({'X_train': X[train_index], 'X_test': X[test_index],\n",
    "                  'y_train': y[train_index], 'y_test': y[test_index]})\n",
    "\n",
    "values['Train'] = [len(np.delete(y[train_index], np.argwhere(y[train_index]==negative))), len(np.delete(y[train_index], np.argwhere(y[train_index]==positive)))]\n",
    "values['Test'] = [len(np.delete(y[test_index], np.argwhere(y[test_index]==negative))), len(np.delete(y[test_index], np.argwhere(y[test_index]==positive)))]\n",
    "\n",
    "plt.figure(figsize=(12,4))\n",
    "ds.multiple_bar_chart([positive, negative], values, title='Data distribution per split', showXTickLabels=True)\n",
    "plt.show()"
   ]
  },
  {
   "cell_type": "markdown",
   "metadata": {},
   "source": [
    "We have just plotted the chart of one split because the splits have identical distribution which will make the bar charts equal."
   ]
  },
  {
   "cell_type": "markdown",
   "metadata": {},
   "source": [
    "## 3.1. Naive Bayes\n",
    "\n",
    "---"
   ]
  },
  {
   "cell_type": "code",
   "execution_count": 4,
   "metadata": {
    "scrolled": true
   },
   "outputs": [
    {
     "data": {
      "image/png": "[encoded data removed]",
      "text/plain": [
       "<Figure size 1200x600 with 2 Axes>"
      ]
     },
     "metadata": {
      "needs_background": "dark"
     },
     "output_type": "display_data"
    }
   ],
   "source": [
    "import sklearn.metrics as metrics\n",
    "from sklearn.naive_bayes import GaussianNB, MultinomialNB, BernoulliNB\n",
    "\n",
    "totalYTrn = np.array(())\n",
    "totalPrd_trn = np.array(())\n",
    "totalYTst = np.array(())\n",
    "totalPrd_tst = np.array(())\n",
    "\n",
    "clf = GaussianNB()\n",
    "for split in splits:\n",
    "    clf.fit(split['X_train'], split['y_train'])\n",
    "    \n",
    "    prd_trn = clf.predict(split['X_train'])\n",
    "    totalYTrn = np.concatenate((totalYTrn, split['y_train']))\n",
    "    totalPrd_trn = np.concatenate((totalPrd_trn, prd_trn))\n",
    "    \n",
    "    prd_tst = clf.predict(split['X_test'])\n",
    "    totalYTst = np.concatenate((totalYTst, split['y_test']))\n",
    "    totalPrd_tst = np.concatenate((totalPrd_tst, prd_tst))\n",
    "    \n",
    "ds.plot_evaluation_results(labels, totalYTrn, totalPrd_trn, totalYTst, totalPrd_tst, showXTickLabels=True)"
   ]
  },
  {
   "cell_type": "code",
   "execution_count": 5,
   "metadata": {
    "scrolled": false
   },
   "outputs": [
    {
     "name": "stdout",
     "output_type": "stream",
     "text": [
      "Mean values:\n",
      "GaussianNB: 0.849\n",
      "BernoulliNB: 0.81\n",
      "95% cofidence interval for accuracy:\n",
      "GaussianNB: [0.816,0.883]\n",
      "BernoulliNB: [0.773,0.847]\n",
      "99% cofidence interval for accuracy:\n",
      "GaussianNB: [0.799,0.9]\n",
      "BernoulliNB: [0.754,0.866]\n"
     ]
    },
    {
     "data": {
      "image/png": "[encoded data removed]",
      "text/plain": [
       "<Figure size 600x450 with 1 Axes>"
      ]
     },
     "metadata": {
      "needs_background": "dark"
     },
     "output_type": "display_data"
    }
   ],
   "source": [
    "estimators = {'GaussianNB': GaussianNB(),\n",
    "              #'MultinomialNB': MultinomialNB(),\n",
    "              'BernoulliNB': BernoulliNB()}\n",
    "\n",
    "xvalues = [est for est in estimators]\n",
    "yvalues = [np.zeros(10) for _ in estimators]\n",
    "\n",
    "for spli in range(len(splits)):\n",
    "    split = splits[spli]\n",
    "    for i in range(len(xvalues)):\n",
    "        clf = xvalues[i]\n",
    "        estimators[clf].fit(split['X_train'], split['y_train'])\n",
    "        prdY = estimators[clf].predict(split['X_test'])\n",
    "        yvalues[i][spli] = metrics.accuracy_score(split['y_test'], prdY)\n",
    "\n",
    "estimator_names = ('GaussianNB','BernoulliNB')# 'MultinomialNB', 'BernoulliNB')\n",
    "means = [np.mean(accs) for accs in yvalues]\n",
    "stds = [np.std(accs) for accs in yvalues]\n",
    "confidences = (0.95, 0.99)\n",
    "t_st = (1.812, 2.764)\n",
    "\n",
    "print(\"Mean values:\")\n",
    "for est in range(len(estimators)):\n",
    "    print(f'{estimator_names[est]}: {round(means[est], 3)}')\n",
    "\n",
    "for c in range(len(confidences)):\n",
    "    conf = confidences[c]\n",
    "    print(f'{int(conf*100)}% cofidence interval for accuracy:')\n",
    "    for est in range(len(estimators)):\n",
    "        minAcc = means[est] - t_st[c] * stds[est] / (10**0.5)\n",
    "        maxAcc = means[est] + t_st[c] * stds[est] / (10**0.5)\n",
    "        print(f'{estimator_names[est]}: [{round(minAcc, 3)},{round(maxAcc, 3)}]')\n",
    "\n",
    "\n",
    "plt.figure()\n",
    "ds.bar_chart(xvalues, means, title='Comparison of Naive Bayes Models', ylabel='accuracy', percentage=True)\n",
    "plt.show()"
   ]
  },
  {
   "cell_type": "markdown",
   "metadata": {},
   "source": [
    "### Summary\n",
    "\n",
    "---\n",
    "\n",
    "***Which distribution is more adequate to model our data?***\n",
    "\n",
    "For most of the splits, the Gaussian distribution models better our data.\n",
    "\n",
    "***Is the accuracy achieved good enough?***\n",
    "\n",
    "The accuracy is better than the one of the classifier that considers every record is negative. However, this doesn't mean the classifier is good enough. We still consider it is not very good.\n",
    "\n",
    "***What is the largest kind of errors?***\n",
    "\n",
    "False negatives."
   ]
  }
 ],
 "metadata": {
  "kernelspec": {
   "display_name": "Python 3",
   "language": "python",
   "name": "python3"
  },
  "language_info": {
   "codemirror_mode": {
    "name": "ipython",
    "version": 3
   },
   "file_extension": ".py",
   "mimetype": "text/x-python",
   "name": "python",
   "nbconvert_exporter": "python",
   "pygments_lexer": "ipython3",
   "version": "3.8.6"
  }
 },
 "nbformat": 4,
 "nbformat_minor": 4
}
