{
 "cells": [
  {
   "cell_type": "markdown",
   "metadata": {},
   "source": [
    "# 3. Classification\n",
    "\n",
    "---"
   ]
  },
  {
   "cell_type": "markdown",
   "metadata": {},
   "source": [
    "### Setup"
   ]
  },
  {
   "cell_type": "code",
   "execution_count": 1,
   "metadata": {},
   "outputs": [
    {
     "data": {
      "text/html": [
       "<div>\n",
       "<style scoped>\n",
       "    .dataframe tbody tr th:only-of-type {\n",
       "        vertical-align: middle;\n",
       "    }\n",
       "\n",
       "    .dataframe tbody tr th {\n",
       "        vertical-align: top;\n",
       "    }\n",
       "\n",
       "    .dataframe thead th {\n",
       "        text-align: right;\n",
       "    }\n",
       "</style>\n",
       "<table border=\"1\" class=\"dataframe\">\n",
       "  <thead>\n",
       "    <tr style=\"text-align: right;\">\n",
       "      <th></th>\n",
       "      <th>sum(time,ejection_fraction)</th>\n",
       "      <th>diff(ejection_fraction,age)</th>\n",
       "      <th>diff(serum_sodium,platelets)</th>\n",
       "      <th>diff(time,serum_sodium)</th>\n",
       "      <th>prod(time,creatinine_phosphokinase)</th>\n",
       "      <th>time</th>\n",
       "      <th>DEATH_EVENT</th>\n",
       "    </tr>\n",
       "  </thead>\n",
       "  <tbody>\n",
       "    <tr>\n",
       "      <th>0</th>\n",
       "      <td>0.117647</td>\n",
       "      <td>-0.518717</td>\n",
       "      <td>-0.251461</td>\n",
       "      <td>-0.217391</td>\n",
       "      <td>0.000000</td>\n",
       "      <td>0.000000</td>\n",
       "      <td>True</td>\n",
       "    </tr>\n",
       "    <tr>\n",
       "      <th>1</th>\n",
       "      <td>0.128323</td>\n",
       "      <td>-0.336898</td>\n",
       "      <td>0.042766</td>\n",
       "      <td>-0.163237</td>\n",
       "      <td>0.001057</td>\n",
       "      <td>0.010676</td>\n",
       "      <td>True</td>\n",
       "    </tr>\n",
       "    <tr>\n",
       "      <th>2</th>\n",
       "      <td>0.128323</td>\n",
       "      <td>-0.064171</td>\n",
       "      <td>0.233215</td>\n",
       "      <td>-0.511063</td>\n",
       "      <td>0.000738</td>\n",
       "      <td>0.010676</td>\n",
       "      <td>True</td>\n",
       "    </tr>\n",
       "    <tr>\n",
       "      <th>3</th>\n",
       "      <td>0.524039</td>\n",
       "      <td>-0.399287</td>\n",
       "      <td>0.035495</td>\n",
       "      <td>-0.290113</td>\n",
       "      <td>0.000206</td>\n",
       "      <td>0.014235</td>\n",
       "      <td>True</td>\n",
       "    </tr>\n",
       "    <tr>\n",
       "      <th>4</th>\n",
       "      <td>0.040960</td>\n",
       "      <td>-0.616756</td>\n",
       "      <td>0.505346</td>\n",
       "      <td>-0.500387</td>\n",
       "      <td>0.003935</td>\n",
       "      <td>0.021352</td>\n",
       "      <td>True</td>\n",
       "    </tr>\n",
       "    <tr>\n",
       "      <th>...</th>\n",
       "      <td>...</td>\n",
       "      <td>...</td>\n",
       "      <td>...</td>\n",
       "      <td>...</td>\n",
       "      <td>...</td>\n",
       "      <td>...</td>\n",
       "      <td>...</td>\n",
       "    </tr>\n",
       "    <tr>\n",
       "      <th>219</th>\n",
       "      <td>1.315679</td>\n",
       "      <td>0.048128</td>\n",
       "      <td>0.572630</td>\n",
       "      <td>0.295219</td>\n",
       "      <td>0.223665</td>\n",
       "      <td>0.903915</td>\n",
       "      <td>False</td>\n",
       "    </tr>\n",
       "    <tr>\n",
       "      <th>220</th>\n",
       "      <td>1.374503</td>\n",
       "      <td>0.252406</td>\n",
       "      <td>-0.200285</td>\n",
       "      <td>0.251741</td>\n",
       "      <td>0.123401</td>\n",
       "      <td>0.903915</td>\n",
       "      <td>False</td>\n",
       "    </tr>\n",
       "    <tr>\n",
       "      <th>221</th>\n",
       "      <td>1.358384</td>\n",
       "      <td>-0.006417</td>\n",
       "      <td>0.291376</td>\n",
       "      <td>0.468358</td>\n",
       "      <td>0.058962</td>\n",
       "      <td>0.946619</td>\n",
       "      <td>False</td>\n",
       "    </tr>\n",
       "    <tr>\n",
       "      <th>222</th>\n",
       "      <td>1.417207</td>\n",
       "      <td>0.070588</td>\n",
       "      <td>0.674412</td>\n",
       "      <td>0.164011</td>\n",
       "      <td>0.025039</td>\n",
       "      <td>0.946619</td>\n",
       "      <td>False</td>\n",
       "    </tr>\n",
       "    <tr>\n",
       "      <th>223</th>\n",
       "      <td>1.607843</td>\n",
       "      <td>0.426025</td>\n",
       "      <td>-0.416821</td>\n",
       "      <td>0.521739</td>\n",
       "      <td>0.141638</td>\n",
       "      <td>1.000000</td>\n",
       "      <td>False</td>\n",
       "    </tr>\n",
       "  </tbody>\n",
       "</table>\n",
       "<p>224 rows × 7 columns</p>\n",
       "</div>"
      ],
      "text/plain": [
       "     sum(time,ejection_fraction)  diff(ejection_fraction,age)  \\\n",
       "0                       0.117647                    -0.518717   \n",
       "1                       0.128323                    -0.336898   \n",
       "2                       0.128323                    -0.064171   \n",
       "3                       0.524039                    -0.399287   \n",
       "4                       0.040960                    -0.616756   \n",
       "..                           ...                          ...   \n",
       "219                     1.315679                     0.048128   \n",
       "220                     1.374503                     0.252406   \n",
       "221                     1.358384                    -0.006417   \n",
       "222                     1.417207                     0.070588   \n",
       "223                     1.607843                     0.426025   \n",
       "\n",
       "     diff(serum_sodium,platelets)  diff(time,serum_sodium)  \\\n",
       "0                       -0.251461                -0.217391   \n",
       "1                        0.042766                -0.163237   \n",
       "2                        0.233215                -0.511063   \n",
       "3                        0.035495                -0.290113   \n",
       "4                        0.505346                -0.500387   \n",
       "..                            ...                      ...   \n",
       "219                      0.572630                 0.295219   \n",
       "220                     -0.200285                 0.251741   \n",
       "221                      0.291376                 0.468358   \n",
       "222                      0.674412                 0.164011   \n",
       "223                     -0.416821                 0.521739   \n",
       "\n",
       "     prod(time,creatinine_phosphokinase)      time  DEATH_EVENT  \n",
       "0                               0.000000  0.000000         True  \n",
       "1                               0.001057  0.010676         True  \n",
       "2                               0.000738  0.010676         True  \n",
       "3                               0.000206  0.014235         True  \n",
       "4                               0.003935  0.021352         True  \n",
       "..                                   ...       ...          ...  \n",
       "219                             0.223665  0.903915        False  \n",
       "220                             0.123401  0.903915        False  \n",
       "221                             0.058962  0.946619        False  \n",
       "222                             0.025039  0.946619        False  \n",
       "223                             0.141638  1.000000        False  \n",
       "\n",
       "[224 rows x 7 columns]"
      ]
     },
     "execution_count": 1,
     "metadata": {},
     "output_type": "execute_result"
    }
   ],
   "source": [
    "import sys\n",
    "sys.path.insert(1, '../../utils')\n",
    "\n",
    "import numpy as np\n",
    "import pandas as pd\n",
    "import matplotlib.pyplot as plt\n",
    "import ds_functions as ds\n",
    "from sklearn.model_selection import StratifiedKFold\n",
    "\n",
    "data: pd.DataFrame = pd.read_csv('prepared_gs.csv', sep=';')\n",
    "data"
   ]
  },
  {
   "cell_type": "markdown",
   "metadata": {},
   "source": [
    "## 3.0. Training Models\n",
    "\n",
    "---"
   ]
  },
  {
   "cell_type": "markdown",
   "metadata": {},
   "source": [
    "### Training Models\n",
    "\n",
    "---"
   ]
  },
  {
   "cell_type": "markdown",
   "metadata": {},
   "source": [
    "#### StratifiedKFold function\n",
    "After loading the data, in data dataframe, we need to separate the target variable which is the DEATH_EVENT from the rest of the data, since it plays a different role in the training procedure. Through the application of the pop method, we get the class variable, and simultaneously removing it from the dataframe. So, y will keep the ndarray with the target variable for each record and X the ndarray containing the records themselves"
   ]
  },
  {
   "cell_type": "code",
   "execution_count": 2,
   "metadata": {},
   "outputs": [],
   "source": [
    "target = 'DEATH_EVENT'\n",
    "positive = True\n",
    "negative = False\n",
    "values = {'Original': [len(data[data[target] == positive]), len(data[data[target] == negative])]}\n",
    "\n",
    "y: np.ndarray = data.pop(target).values\n",
    "X: np.ndarray = data.values\n",
    "labels: np.ndarray = pd.unique(y)"
   ]
  },
  {
   "cell_type": "code",
   "execution_count": 3,
   "metadata": {
    "scrolled": false
   },
   "outputs": [
    {
     "data": {
      "image/png": "[encoded data removed]",
      "text/plain": [
       "<Figure size 1800x600 with 1 Axes>"
      ]
     },
     "metadata": {
      "needs_background": "dark"
     },
     "output_type": "display_data"
    }
   ],
   "source": [
    "np.random.seed(1)\n",
    "skf = StratifiedKFold(n_splits=10, shuffle=True)\n",
    "skf.get_n_splits(X, y)\n",
    "\n",
    "splits=[]\n",
    "\n",
    "for train_index, test_index in skf.split(X, y):\n",
    "    splits.append({'X_train': X[train_index], 'X_test': X[test_index],\n",
    "                  'y_train': y[train_index], 'y_test': y[test_index]})\n",
    "\n",
    "values['Train'] = [len(np.delete(y[train_index], np.argwhere(y[train_index]==negative))), len(np.delete(y[train_index], np.argwhere(y[train_index]==positive)))]\n",
    "values['Test'] = [len(np.delete(y[test_index], np.argwhere(y[test_index]==negative))), len(np.delete(y[test_index], np.argwhere(y[test_index]==positive)))]\n",
    "\n",
    "plt.figure(figsize=(12,4))\n",
    "ds.multiple_bar_chart([positive, negative], values, title='Data distribution per split', showXTickLabels=True)\n",
    "plt.show()"
   ]
  },
  {
   "cell_type": "markdown",
   "metadata": {},
   "source": [
    "We have just plotted the chart of one split because the splits have identical distribution which will make the bar charts equal."
   ]
  },
  {
   "cell_type": "markdown",
   "metadata": {},
   "source": [
    "## 3.1. Naive Bayes\n",
    "\n",
    "---"
   ]
  },
  {
   "cell_type": "code",
   "execution_count": 4,
   "metadata": {
    "scrolled": true
   },
   "outputs": [
    {
     "data": {
      "image/png": "[encoded data removed]",
      "text/plain": [
       "<Figure size 1200x600 with 2 Axes>"
      ]
     },
     "metadata": {
      "needs_background": "dark"
     },
     "output_type": "display_data"
    }
   ],
   "source": [
    "import sklearn.metrics as metrics\n",
    "from sklearn.naive_bayes import GaussianNB, MultinomialNB, BernoulliNB\n",
    "\n",
    "totalYTrn = np.array(())\n",
    "totalPrd_trn = np.array(())\n",
    "totalYTst = np.array(())\n",
    "totalPrd_tst = np.array(())\n",
    "\n",
    "clf = GaussianNB()\n",
    "for split in splits:\n",
    "    clf.fit(split['X_train'], split['y_train'])\n",
    "    \n",
    "    prd_trn = clf.predict(split['X_train'])\n",
    "    totalYTrn = np.concatenate((totalYTrn, split['y_train']))\n",
    "    totalPrd_trn = np.concatenate((totalPrd_trn, prd_trn))\n",
    "    \n",
    "    prd_tst = clf.predict(split['X_test'])\n",
    "    totalYTst = np.concatenate((totalYTst, split['y_test']))\n",
    "    totalPrd_tst = np.concatenate((totalPrd_tst, prd_tst))\n",
    "    \n",
    "ds.plot_evaluation_results(labels, totalYTrn, totalPrd_trn, totalYTst, totalPrd_tst, showXTickLabels=True)"
   ]
  },
  {
   "cell_type": "code",
   "execution_count": 5,
   "metadata": {
    "scrolled": false
   },
   "outputs": [
    {
     "name": "stdout",
     "output_type": "stream",
     "text": [
      "Mean values:\n",
      "GaussianNB: 0.809\n",
      "BernoulliNB: 0.795\n",
      "95% cofidence interval for accuracy:\n",
      "GaussianNB: [0.766,0.852]\n",
      "BernoulliNB: [0.736,0.853]\n",
      "99% cofidence interval for accuracy:\n",
      "GaussianNB: [0.744,0.874]\n",
      "BernoulliNB: [0.705,0.884]\n"
     ]
    },
    {
     "data": {
      "image/png": "[encoded data removed]",
      "text/plain": [
       "<Figure size 600x450 with 1 Axes>"
      ]
     },
     "metadata": {
      "needs_background": "dark"
     },
     "output_type": "display_data"
    }
   ],
   "source": [
    "estimators = {'GaussianNB': GaussianNB(),\n",
    "              #'MultinomialNB': MultinomialNB(),\n",
    "              'BernoulliNB': BernoulliNB()}\n",
    "\n",
    "xvalues = [est for est in estimators]\n",
    "yvalues = [np.zeros(10) for _ in estimators]\n",
    "\n",
    "for spli in range(len(splits)):\n",
    "    split = splits[spli]\n",
    "    for i in range(len(xvalues)):\n",
    "        clf = xvalues[i]\n",
    "        estimators[clf].fit(split['X_train'], split['y_train'])\n",
    "        prdY = estimators[clf].predict(split['X_test'])\n",
    "        yvalues[i][spli] = metrics.accuracy_score(split['y_test'], prdY)\n",
    "\n",
    "estimator_names = ('GaussianNB','BernoulliNB')# 'MultinomialNB', 'BernoulliNB')\n",
    "means = [np.mean(accs) for accs in yvalues]\n",
    "stds = [np.std(accs) for accs in yvalues]\n",
    "confidences = (0.95, 0.99)\n",
    "t_st = (1.812, 2.764)\n",
    "\n",
    "print(\"Mean values:\")\n",
    "for est in range(len(estimators)):\n",
    "    print(f'{estimator_names[est]}: {round(means[est], 3)}')\n",
    "\n",
    "for c in range(len(confidences)):\n",
    "    conf = confidences[c]\n",
    "    print(f'{int(conf*100)}% cofidence interval for accuracy:')\n",
    "    for est in range(len(estimators)):\n",
    "        minAcc = means[est] - t_st[c] * stds[est] / (10**0.5)\n",
    "        maxAcc = means[est] + t_st[c] * stds[est] / (10**0.5)\n",
    "        print(f'{estimator_names[est]}: [{round(minAcc, 3)},{round(maxAcc, 3)}]')\n",
    "\n",
    "\n",
    "plt.figure()\n",
    "ds.bar_chart(xvalues, means, title='Comparison of Naive Bayes Models', ylabel='accuracy', percentage=True)\n",
    "plt.show()"
   ]
  },
  {
   "cell_type": "markdown",
   "metadata": {},
   "source": [
    "### Summary\n",
    "\n",
    "---\n",
    "\n",
    "***Which distribution is more adequate to model our data?***\n",
    "\n",
    "For most of the splits, the Gaussian distribution models better our data.\n",
    "\n",
    "***Is the accuracy achieved good enough?***\n",
    "\n",
    "The accuracy is better than the one of the classifier that considers every record is negative. However, this doesn't mean the classifier is good enough. We still consider it is not very good.\n",
    "\n",
    "***What is the largest kind of errors?***\n",
    "\n",
    "False negatives."
   ]
  }
 ],
 "metadata": {
  "kernelspec": {
   "display_name": "Python 3",
   "language": "python",
   "name": "python3"
  },
  "language_info": {
   "codemirror_mode": {
    "name": "ipython",
    "version": 3
   },
   "file_extension": ".py",
   "mimetype": "text/x-python",
   "name": "python",
   "nbconvert_exporter": "python",
   "pygments_lexer": "ipython3",
   "version": "3.6.9"
  }
 },
 "nbformat": 4,
 "nbformat_minor": 4
}
