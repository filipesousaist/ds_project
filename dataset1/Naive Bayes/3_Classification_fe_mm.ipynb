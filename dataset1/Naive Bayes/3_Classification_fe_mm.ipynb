{
 "cells": [
  {
   "cell_type": "markdown",
   "metadata": {},
   "source": [
    "# 3. Classification\n",
    "\n",
    "---"
   ]
  },
  {
   "cell_type": "markdown",
   "metadata": {},
   "source": [
    "### Setup"
   ]
  },
  {
   "cell_type": "code",
   "execution_count": 1,
   "metadata": {},
   "outputs": [
    {
     "data": {
      "text/html": [
       "<div>\n",
       "<style scoped>\n",
       "    .dataframe tbody tr th:only-of-type {\n",
       "        vertical-align: middle;\n",
       "    }\n",
       "\n",
       "    .dataframe tbody tr th {\n",
       "        vertical-align: top;\n",
       "    }\n",
       "\n",
       "    .dataframe thead th {\n",
       "        text-align: right;\n",
       "    }\n",
       "</style>\n",
       "<table border=\"1\" class=\"dataframe\">\n",
       "  <thead>\n",
       "    <tr style=\"text-align: right;\">\n",
       "      <th></th>\n",
       "      <th>PC1</th>\n",
       "      <th>PC2</th>\n",
       "      <th>PC3</th>\n",
       "      <th>PC4</th>\n",
       "      <th>PC5</th>\n",
       "      <th>PC6</th>\n",
       "      <th>DEATH_EVENT</th>\n",
       "    </tr>\n",
       "  </thead>\n",
       "  <tbody>\n",
       "    <tr>\n",
       "      <th>0</th>\n",
       "      <td>-0.386806</td>\n",
       "      <td>0.132888</td>\n",
       "      <td>1.113094</td>\n",
       "      <td>0.258488</td>\n",
       "      <td>-0.883219</td>\n",
       "      <td>0.178658</td>\n",
       "      <td>True</td>\n",
       "    </tr>\n",
       "    <tr>\n",
       "      <th>1</th>\n",
       "      <td>-1.223635</td>\n",
       "      <td>-0.016211</td>\n",
       "      <td>0.372428</td>\n",
       "      <td>0.598185</td>\n",
       "      <td>-0.029665</td>\n",
       "      <td>0.204519</td>\n",
       "      <td>True</td>\n",
       "    </tr>\n",
       "    <tr>\n",
       "      <th>2</th>\n",
       "      <td>-0.339759</td>\n",
       "      <td>-0.845957</td>\n",
       "      <td>0.220118</td>\n",
       "      <td>0.853777</td>\n",
       "      <td>-0.694779</td>\n",
       "      <td>0.074886</td>\n",
       "      <td>True</td>\n",
       "    </tr>\n",
       "    <tr>\n",
       "      <th>3</th>\n",
       "      <td>-0.670154</td>\n",
       "      <td>-0.645812</td>\n",
       "      <td>1.412075</td>\n",
       "      <td>1.103830</td>\n",
       "      <td>-0.120308</td>\n",
       "      <td>0.236295</td>\n",
       "      <td>True</td>\n",
       "    </tr>\n",
       "    <tr>\n",
       "      <th>4</th>\n",
       "      <td>-0.339051</td>\n",
       "      <td>-0.844500</td>\n",
       "      <td>0.245781</td>\n",
       "      <td>0.847866</td>\n",
       "      <td>-0.680057</td>\n",
       "      <td>0.126776</td>\n",
       "      <td>True</td>\n",
       "    </tr>\n",
       "    <tr>\n",
       "      <th>...</th>\n",
       "      <td>...</td>\n",
       "      <td>...</td>\n",
       "      <td>...</td>\n",
       "      <td>...</td>\n",
       "      <td>...</td>\n",
       "      <td>...</td>\n",
       "      <td>...</td>\n",
       "    </tr>\n",
       "    <tr>\n",
       "      <th>219</th>\n",
       "      <td>-0.645332</td>\n",
       "      <td>-0.011413</td>\n",
       "      <td>-0.011405</td>\n",
       "      <td>0.291050</td>\n",
       "      <td>-0.712983</td>\n",
       "      <td>-0.630667</td>\n",
       "      <td>False</td>\n",
       "    </tr>\n",
       "    <tr>\n",
       "      <th>220</th>\n",
       "      <td>-0.881591</td>\n",
       "      <td>0.622525</td>\n",
       "      <td>0.054314</td>\n",
       "      <td>1.249937</td>\n",
       "      <td>0.157781</td>\n",
       "      <td>-0.838963</td>\n",
       "      <td>False</td>\n",
       "    </tr>\n",
       "    <tr>\n",
       "      <th>221</th>\n",
       "      <td>-0.609995</td>\n",
       "      <td>-0.152801</td>\n",
       "      <td>0.104803</td>\n",
       "      <td>1.819778</td>\n",
       "      <td>0.133086</td>\n",
       "      <td>-0.737778</td>\n",
       "      <td>False</td>\n",
       "    </tr>\n",
       "    <tr>\n",
       "      <th>222</th>\n",
       "      <td>-0.671123</td>\n",
       "      <td>0.768323</td>\n",
       "      <td>0.975595</td>\n",
       "      <td>1.261258</td>\n",
       "      <td>0.006177</td>\n",
       "      <td>-0.845406</td>\n",
       "      <td>False</td>\n",
       "    </tr>\n",
       "    <tr>\n",
       "      <th>223</th>\n",
       "      <td>-1.200327</td>\n",
       "      <td>0.039379</td>\n",
       "      <td>0.182605</td>\n",
       "      <td>0.537964</td>\n",
       "      <td>0.082583</td>\n",
       "      <td>-0.820351</td>\n",
       "      <td>False</td>\n",
       "    </tr>\n",
       "  </tbody>\n",
       "</table>\n",
       "<p>224 rows × 7 columns</p>\n",
       "</div>"
      ],
      "text/plain": [
       "          PC1       PC2       PC3       PC4       PC5       PC6  DEATH_EVENT\n",
       "0   -0.386806  0.132888  1.113094  0.258488 -0.883219  0.178658         True\n",
       "1   -1.223635 -0.016211  0.372428  0.598185 -0.029665  0.204519         True\n",
       "2   -0.339759 -0.845957  0.220118  0.853777 -0.694779  0.074886         True\n",
       "3   -0.670154 -0.645812  1.412075  1.103830 -0.120308  0.236295         True\n",
       "4   -0.339051 -0.844500  0.245781  0.847866 -0.680057  0.126776         True\n",
       "..        ...       ...       ...       ...       ...       ...          ...\n",
       "219 -0.645332 -0.011413 -0.011405  0.291050 -0.712983 -0.630667        False\n",
       "220 -0.881591  0.622525  0.054314  1.249937  0.157781 -0.838963        False\n",
       "221 -0.609995 -0.152801  0.104803  1.819778  0.133086 -0.737778        False\n",
       "222 -0.671123  0.768323  0.975595  1.261258  0.006177 -0.845406        False\n",
       "223 -1.200327  0.039379  0.182605  0.537964  0.082583 -0.820351        False\n",
       "\n",
       "[224 rows x 7 columns]"
      ]
     },
     "execution_count": 1,
     "metadata": {},
     "output_type": "execute_result"
    }
   ],
   "source": [
    "import sys\n",
    "sys.path.insert(1, '../../utils')\n",
    "\n",
    "import numpy as np\n",
    "import pandas as pd\n",
    "import matplotlib.pyplot as plt\n",
    "import ds_functions as ds\n",
    "from sklearn.model_selection import StratifiedKFold\n",
    "\n",
    "data: pd.DataFrame = pd.read_csv('prepared_fe_mm.csv', sep=';')\n",
    "data"
   ]
  },
  {
   "cell_type": "markdown",
   "metadata": {},
   "source": [
    "## 3.0. Training Models\n",
    "\n",
    "---"
   ]
  },
  {
   "cell_type": "markdown",
   "metadata": {},
   "source": [
    "### Training Models\n",
    "\n",
    "---"
   ]
  },
  {
   "cell_type": "markdown",
   "metadata": {},
   "source": [
    "#### StratifiedKFold function\n",
    "After loading the data, in data dataframe, we need to separate the target variable which is the DEATH_EVENT from the rest of the data, since it plays a different role in the training procedure. Through the application of the pop method, we get the class variable, and simultaneously removing it from the dataframe. So, y will keep the ndarray with the target variable for each record and X the ndarray containing the records themselves"
   ]
  },
  {
   "cell_type": "code",
   "execution_count": 2,
   "metadata": {},
   "outputs": [],
   "source": [
    "target = 'DEATH_EVENT'\n",
    "positive = True\n",
    "negative = False\n",
    "values = {'Original': [len(data[data[target] == positive]), len(data[data[target] == negative])]}\n",
    "\n",
    "y: np.ndarray = data.pop(target).values\n",
    "X: np.ndarray = data.values\n",
    "labels: np.ndarray = pd.unique(y)"
   ]
  },
  {
   "cell_type": "code",
   "execution_count": 3,
   "metadata": {
    "scrolled": false
   },
   "outputs": [
    {
     "data": {
      "image/png": "[encoded data removed]",
      "text/plain": [
       "<Figure size 1800x600 with 1 Axes>"
      ]
     },
     "metadata": {
      "needs_background": "dark"
     },
     "output_type": "display_data"
    }
   ],
   "source": [
    "np.random.seed(1)\n",
    "skf = StratifiedKFold(n_splits=10, shuffle=True)\n",
    "skf.get_n_splits(X, y)\n",
    "\n",
    "splits=[]\n",
    "\n",
    "for train_index, test_index in skf.split(X, y):\n",
    "    splits.append({'X_train': X[train_index], 'X_test': X[test_index],\n",
    "                  'y_train': y[train_index], 'y_test': y[test_index]})\n",
    "\n",
    "values['Train'] = [len(np.delete(y[train_index], np.argwhere(y[train_index]==negative))), len(np.delete(y[train_index], np.argwhere(y[train_index]==positive)))]\n",
    "values['Test'] = [len(np.delete(y[test_index], np.argwhere(y[test_index]==negative))), len(np.delete(y[test_index], np.argwhere(y[test_index]==positive)))]\n",
    "\n",
    "plt.figure(figsize=(12,4))\n",
    "ds.multiple_bar_chart([positive, negative], values, title='Data distribution per split', showXTickLabels=True)\n",
    "plt.show()"
   ]
  },
  {
   "cell_type": "markdown",
   "metadata": {},
   "source": [
    "We have just plotted the chart of one split because the splits have identical distribution which will make the bar charts equal."
   ]
  },
  {
   "cell_type": "markdown",
   "metadata": {},
   "source": [
    "## 3.1. Naive Bayes\n",
    "\n",
    "---"
   ]
  },
  {
   "cell_type": "code",
   "execution_count": 4,
   "metadata": {
    "scrolled": true
   },
   "outputs": [
    {
     "data": {
      "image/png": "[encoded data removed]",
      "text/plain": [
       "<Figure size 1200x600 with 2 Axes>"
      ]
     },
     "metadata": {
      "needs_background": "dark"
     },
     "output_type": "display_data"
    }
   ],
   "source": [
    "import sklearn.metrics as metrics\n",
    "from sklearn.naive_bayes import GaussianNB, MultinomialNB, BernoulliNB\n",
    "\n",
    "totalYTrn = np.array(())\n",
    "totalPrd_trn = np.array(())\n",
    "totalYTst = np.array(())\n",
    "totalPrd_tst = np.array(())\n",
    "\n",
    "clf = GaussianNB()\n",
    "for split in splits:\n",
    "    clf.fit(split['X_train'], split['y_train'])\n",
    "    \n",
    "    prd_trn = clf.predict(split['X_train'])\n",
    "    totalYTrn = np.concatenate((totalYTrn, split['y_train']))\n",
    "    totalPrd_trn = np.concatenate((totalPrd_trn, prd_trn))\n",
    "    \n",
    "    prd_tst = clf.predict(split['X_test'])\n",
    "    totalYTst = np.concatenate((totalYTst, split['y_test']))\n",
    "    totalPrd_tst = np.concatenate((totalPrd_tst, prd_tst))\n",
    "    \n",
    "ds.plot_evaluation_results(labels, totalYTrn, totalPrd_trn, totalYTst, totalPrd_tst, showXTickLabels=True)"
   ]
  },
  {
   "cell_type": "code",
   "execution_count": 5,
   "metadata": {
    "scrolled": false
   },
   "outputs": [
    {
     "name": "stdout",
     "output_type": "stream",
     "text": [
      "Mean values:\n",
      "GaussianNB: 0.827\n",
      "BernoulliNB: 0.791\n",
      "95% cofidence interval for accuracy:\n",
      "GaussianNB: [0.795,0.859]\n",
      "BernoulliNB: [0.749,0.833]\n",
      "99% cofidence interval for accuracy:\n",
      "GaussianNB: [0.778,0.875]\n",
      "BernoulliNB: [0.727,0.855]\n"
     ]
    },
    {
     "data": {
      "image/png": "[encoded data removed]",
      "text/plain": [
       "<Figure size 600x450 with 1 Axes>"
      ]
     },
     "metadata": {
      "needs_background": "dark"
     },
     "output_type": "display_data"
    }
   ],
   "source": [
    "estimators = {'GaussianNB': GaussianNB(),\n",
    "              #'MultinomialNB': MultinomialNB(),\n",
    "              'BernoulliNB': BernoulliNB()}\n",
    "\n",
    "xvalues = [est for est in estimators]\n",
    "yvalues = [np.zeros(10) for _ in estimators]\n",
    "\n",
    "for spli in range(len(splits)):\n",
    "    split = splits[spli]\n",
    "    for i in range(len(xvalues)):\n",
    "        clf = xvalues[i]\n",
    "        estimators[clf].fit(split['X_train'], split['y_train'])\n",
    "        prdY = estimators[clf].predict(split['X_test'])\n",
    "        yvalues[i][spli] = metrics.accuracy_score(split['y_test'], prdY)\n",
    "\n",
    "estimator_names = ('GaussianNB','BernoulliNB')# 'MultinomialNB', 'BernoulliNB')\n",
    "means = [np.mean(accs) for accs in yvalues]\n",
    "stds = [np.std(accs) for accs in yvalues]\n",
    "confidences = (0.95, 0.99)\n",
    "t_st = (1.812, 2.764)\n",
    "\n",
    "print(\"Mean values:\")\n",
    "for est in range(len(estimators)):\n",
    "    print(f'{estimator_names[est]}: {round(means[est], 3)}')\n",
    "\n",
    "for c in range(len(confidences)):\n",
    "    conf = confidences[c]\n",
    "    print(f'{int(conf*100)}% cofidence interval for accuracy:')\n",
    "    for est in range(len(estimators)):\n",
    "        minAcc = means[est] - t_st[c] * stds[est] / (10**0.5)\n",
    "        maxAcc = means[est] + t_st[c] * stds[est] / (10**0.5)\n",
    "        print(f'{estimator_names[est]}: [{round(minAcc, 3)},{round(maxAcc, 3)}]')\n",
    "\n",
    "\n",
    "plt.figure()\n",
    "ds.bar_chart(xvalues, means, title='Comparison of Naive Bayes Models', ylabel='accuracy', percentage=True)\n",
    "plt.show()"
   ]
  },
  {
   "cell_type": "markdown",
   "metadata": {},
   "source": [
    "### Summary\n",
    "\n",
    "---\n",
    "\n",
    "***Which distribution is more adequate to model our data?***\n",
    "\n",
    "For most of the splits, the Gaussian distribution models better our data.\n",
    "\n",
    "***Is the accuracy achieved good enough?***\n",
    "\n",
    "The accuracy is better than the one of the classifier that considers every record is negative. However, this doesn't mean the classifier is good enough. We still consider it is not very good.\n",
    "\n",
    "***What is the largest kind of errors?***\n",
    "\n",
    "False negatives."
   ]
  }
 ],
 "metadata": {
  "kernelspec": {
   "display_name": "Python 3",
   "language": "python",
   "name": "python3"
  },
  "language_info": {
   "codemirror_mode": {
    "name": "ipython",
    "version": 3
   },
   "file_extension": ".py",
   "mimetype": "text/x-python",
   "name": "python",
   "nbconvert_exporter": "python",
   "pygments_lexer": "ipython3",
   "version": "3.8.6"
  }
 },
 "nbformat": 4,
 "nbformat_minor": 4
}
