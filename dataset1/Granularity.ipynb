{
 "cells": [
  {
   "cell_type": "markdown",
   "metadata": {},
   "source": [
    "## 1.2. Data Granularity\n"
   ]
  },
  {
   "cell_type": "code",
   "execution_count": 6,
   "metadata": {},
   "outputs": [
    {
     "name": "stdout",
     "output_type": "stream",
     "text": [
      "      age  anaemia  creatinine_phosphokinase  diabetes  ejection_fraction  \\\n",
      "0    75.0        0                       582         0                 20   \n",
      "1    55.0        0                      7861         0                 38   \n",
      "2    65.0        0                       146         0                 20   \n",
      "3    50.0        1                       111         0                 20   \n",
      "4    65.0        1                       160         1                 20   \n",
      "..    ...      ...                       ...       ...                ...   \n",
      "294  62.0        0                        61         1                 38   \n",
      "295  55.0        0                      1820         0                 38   \n",
      "296  45.0        0                      2060         1                 60   \n",
      "297  45.0        0                      2413         0                 38   \n",
      "298  50.0        0                       196         0                 45   \n",
      "\n",
      "     high_blood_pressure  platelets  serum_creatinine  serum_sodium  sex  \\\n",
      "0                      1  265000.00               1.9           130    1   \n",
      "1                      0  263358.03               1.1           136    1   \n",
      "2                      0  162000.00               1.3           129    1   \n",
      "3                      0  210000.00               1.9           137    1   \n",
      "4                      0  327000.00               2.7           116    0   \n",
      "..                   ...        ...               ...           ...  ...   \n",
      "294                    1  155000.00               1.1           143    1   \n",
      "295                    0  270000.00               1.2           139    0   \n",
      "296                    0  742000.00               0.8           138    0   \n",
      "297                    0  140000.00               1.4           140    1   \n",
      "298                    0  395000.00               1.6           136    1   \n",
      "\n",
      "     smoking  time  DEATH_EVENT  \n",
      "0          0     4            1  \n",
      "1          0     6            1  \n",
      "2          1     7            1  \n",
      "3          0     7            1  \n",
      "4          0     8            1  \n",
      "..       ...   ...          ...  \n",
      "294        1   270            0  \n",
      "295        0   271            0  \n",
      "296        0   278            0  \n",
      "297        1   280            0  \n",
      "298        1   285            0  \n",
      "\n",
      "[299 rows x 13 columns]\n"
     ]
    }
   ],
   "source": [
    "import sys\n",
    "sys.path.insert(1, '../utils')\n",
    "import pandas as pd\n",
    "import matplotlib.pyplot as plt\n",
    "import ds_functions as ds \n",
    "\n",
    "data = pd.read_csv('heart_failure_clinical_records_dataset.csv')\n",
    "\n",
    "values = {'nr records': data.shape[0], 'nr variables': data.shape[1]}\n",
    "\n",
    "print(data)"
   ]
  },
  {
   "cell_type": "code",
   "execution_count": null,
   "metadata": {},
   "outputs": [],
   "source": []
  }
 ],
 "metadata": {
  "kernelspec": {
   "display_name": "Python 3",
   "language": "python",
   "name": "python3"
  },
  "language_info": {
   "codemirror_mode": {
    "name": "ipython",
    "version": 3
   },
   "file_extension": ".py",
   "mimetype": "text/x-python",
   "name": "python",
   "nbconvert_exporter": "python",
   "pygments_lexer": "ipython3",
   "version": "3.8.5"
  }
 },
 "nbformat": 4,
 "nbformat_minor": 4
}
