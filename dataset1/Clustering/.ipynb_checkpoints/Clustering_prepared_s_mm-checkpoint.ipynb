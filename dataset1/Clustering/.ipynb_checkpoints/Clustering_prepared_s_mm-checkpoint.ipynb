{
 "cells": [
  {
   "cell_type": "markdown",
   "metadata": {},
   "source": [
    "# 4. Clustering\n",
    "---"
   ]
  },
  {
   "cell_type": "code",
   "execution_count": 1,
   "metadata": {},
   "outputs": [
    {
     "name": "stdout",
     "output_type": "stream",
     "text": [
      "Index(['age', 'creatinine_phosphokinase', 'ejection_fraction', 'platelets',\n",
      "       'serum_creatinine', 'serum_sodium', 'time', 'anaemia', 'diabetes',\n",
      "       'high_blood_pressure', 'sex', 'smoking'],\n",
      "      dtype='object')\n"
     ]
    }
   ],
   "source": [
    "import sys\n",
    "sys.path.insert(1, '../../utils')\n",
    "\n",
    "import pandas as pd\n",
    "import matplotlib.pyplot as plt\n",
    "import ds_functions as ds\n",
    "\n",
    "data: pd.DataFrame = pd.read_csv('data/prepared_s_zs.csv', sep=';')\n",
    "data.pop('DEATH_EVENT')\n",
    "\n",
    "v1 = 0 #age\n",
    "v2 = 3 #platelets\n",
    "\n",
    "print(data.columns)\n",
    "\n",
    "N_CLUSTERS = [2, 3, 5, 7, 9, 11, 13, 15, 17, 19, 21, 23, 25, 27, 29]\n",
    "rows, cols = ds.choose_grid(len(N_CLUSTERS))"
   ]
  },
  {
   "cell_type": "markdown",
   "metadata": {},
   "source": [
    "## K-means\n",
    "---"
   ]
  },
  {
   "cell_type": "code",
   "execution_count": null,
   "metadata": {},
   "outputs": [],
   "source": [
    "from sklearn.cluster import KMeans\n",
    "from sklearn.metrics import silhouette_score\n",
    "\n",
    "mse: list = []\n",
    "sc: list = []\n",
    "fig, axs = plt.subplots(rows, cols, figsize=(cols*5, rows*5), squeeze=False)\n",
    "i, j = 0, 0\n",
    "for n in range(len(N_CLUSTERS)):\n",
    "    k = N_CLUSTERS[n]\n",
    "    estimator = KMeans(n_clusters=k)\n",
    "    estimator.fit(data)\n",
    "    mse.append(estimator.inertia_)\n",
    "    sc.append(silhouette_score(data, estimator.labels_))\n",
    "    ds.plot_clusters(data, v2, v1, estimator.labels_.astype(float), estimator.cluster_centers_, k,\n",
    "                     f'KMeans k={k}', ax=axs[i,j])\n",
    "    i, j = (i + 1, 0) if (n+1) % cols == 0 else (i, j + 1)\n",
    "plt.show()"
   ]
  },
  {
   "cell_type": "code",
   "execution_count": null,
   "metadata": {},
   "outputs": [],
   "source": [
    "fig, ax = plt.subplots(1, 2, figsize=(6, 3), squeeze=False)\n",
    "ds.plot_line(N_CLUSTERS, mse, title='KMeans MSE', xlabel='k', ylabel='MSE', ax=ax[0, 0])\n",
    "ds.plot_line(N_CLUSTERS, sc, title='KMeans SC', xlabel='k', ylabel='SC', ax=ax[0, 1], percentage=True)\n",
    "plt.show()"
   ]
  },
  {
   "cell_type": "markdown",
   "metadata": {},
   "source": [
    "## EM (Expectation-Maximization)\n",
    "---"
   ]
  },
  {
   "cell_type": "code",
   "execution_count": null,
   "metadata": {},
   "outputs": [],
   "source": [
    "from sklearn.mixture import GaussianMixture\n",
    "\n",
    "mse: list = []\n",
    "sc: list = []\n",
    "_, axs = plt.subplots(rows, cols, figsize=(cols*5, rows*5), squeeze=False)\n",
    "i, j = 0, 0\n",
    "for n in range(len(N_CLUSTERS)):\n",
    "    k = N_CLUSTERS[n]\n",
    "    estimator = GaussianMixture(n_components=k)\n",
    "    estimator.fit(data)\n",
    "    labels = estimator.predict(data)\n",
    "    mse.append(ds.compute_mse(data.values, labels, estimator.means_))\n",
    "    sc.append(silhouette_score(data, labels))\n",
    "    ds.plot_clusters(data, v2, v1, labels.astype(float), estimator.means_, k,\n",
    "                     f'EM k={k}', ax=axs[i,j])\n",
    "    i, j = (i + 1, 0) if (n+1) % cols == 0 else (i, j + 1)\n",
    "plt.show()\n"
   ]
  },
  {
   "cell_type": "code",
   "execution_count": null,
   "metadata": {},
   "outputs": [],
   "source": [
    "fig, ax = plt.subplots(1, 2, figsize=(6, 3), squeeze=False)\n",
    "ds.plot_line(N_CLUSTERS, mse, title='EM MSE', xlabel='k', ylabel='MSE', ax=ax[0, 0])\n",
    "ds.plot_line(N_CLUSTERS, sc, title='EM SC', xlabel='k', ylabel='SC', ax=ax[0, 1])\n",
    "plt.show()"
   ]
  },
  {
   "cell_type": "markdown",
   "metadata": {},
   "source": [
    "## Density Based\n",
    "---"
   ]
  },
  {
   "cell_type": "markdown",
   "metadata": {},
   "source": [
    "### EPS - studying the maximum distance impact\n"
   ]
  },
  {
   "cell_type": "code",
   "execution_count": null,
   "metadata": {},
   "outputs": [],
   "source": [
    "from sklearn.cluster import DBSCAN\n",
    "\n",
    "EPS = [0.25, 0.5, 1, 1.25, 1.5, 2, 2.25, 2.5, 3, 3.5,] #QUESTION: too big values????????\n",
    "mse: list = []\n",
    "sc: list = []\n",
    "rows, cols = ds.choose_grid(len(EPS))\n",
    "_, axs = plt.subplots(rows, cols, figsize=(cols*5, rows*5), squeeze=False)\n",
    "i, j = 0, 0\n",
    "\n",
    "for n in range(len(EPS)):\n",
    "    estimator = DBSCAN(eps=EPS[n], min_samples=2)\n",
    "    estimator.fit(data)\n",
    "    labels = estimator.labels_\n",
    "    k = len(set(labels)) - (1 if -1 in labels else 0)\n",
    "    if k > 1:\n",
    "        centers = ds.compute_centroids(data, labels)\n",
    "        mse.append(ds.compute_mse(data.values, labels, centers))\n",
    "        sc.append(silhouette_score(data, labels))\n",
    "        ds.plot_clusters(data, v2, v1, labels.astype(float), estimator.components_, k,\n",
    "                         f'DBSCAN eps={EPS[n]} k={k}', ax=axs[i,j])\n",
    "        i, j = (i + 1, 0) if (n+1) % cols == 0 else (i, j + 1)\n",
    "    else:\n",
    "        mse.append(0)\n",
    "        sc.append(0)\n",
    "\n",
    "plt.show()"
   ]
  },
  {
   "cell_type": "code",
   "execution_count": null,
   "metadata": {},
   "outputs": [],
   "source": [
    "fig, ax = plt.subplots(1, 2, figsize=(6, 3), squeeze=False)\n",
    "ds.plot_line(EPS, mse, title='DBSCAN MSE', xlabel='eps', ylabel='MSE', ax=ax[0, 0])\n",
    "ds.plot_line(EPS, sc, title='DBSCAN SC', xlabel='eps', ylabel='SC', ax=ax[0, 1])\n",
    "plt.show()"
   ]
  },
  {
   "cell_type": "markdown",
   "metadata": {},
   "source": [
    "### Metric"
   ]
  },
  {
   "cell_type": "code",
   "execution_count": null,
   "metadata": {},
   "outputs": [],
   "source": [
    "import numpy as np\n",
    "from scipy.spatial.distance import pdist, squareform\n",
    "\n",
    "METRICS = ['euclidean', 'cityblock', 'chebyshev', 'cosine', 'jaccard']\n",
    "distances = []\n",
    "for m in METRICS:\n",
    "    dist = np.mean(np.mean(squareform(pdist(data.values, metric=m))))\n",
    "    distances.append(dist)\n",
    "\n",
    "print('AVG distances among records', distances)\n",
    "#QUESTION: how to choose eps? \n",
    "distances[0] *= 0.6\n",
    "distances[1] = 3.0\n",
    "distances[2] *= 0.6\n",
    "distances[3] *= 0.1\n",
    "distances[4] *= 0.15\n",
    "print('CHOSEN EPS', distances)"
   ]
  },
  {
   "cell_type": "code",
   "execution_count": null,
   "metadata": {},
   "outputs": [],
   "source": [
    "mse: list = []\n",
    "sc: list = []\n",
    "rows, cols = ds.choose_grid(len(METRICS))\n",
    "_, axs = plt.subplots(rows, cols, figsize=(cols*5, rows*5), squeeze=False)\n",
    "i, j = 0, 0\n",
    "for n in range(len(METRICS)):\n",
    "    estimator = DBSCAN(eps=distances[n], min_samples=2, metric=METRICS[n])\n",
    "    estimator.fit(data)\n",
    "    labels = estimator.labels_\n",
    "    k = len(set(labels)) - (1 if -1 in labels else 0)\n",
    "    if k > 1:\n",
    "        centers = ds.compute_centroids(data, labels)\n",
    "        mse.append(ds.compute_mse(data.values, labels, centers))\n",
    "        sc.append(silhouette_score(data, labels))\n",
    "        ds.plot_clusters(data, v2, v1, labels.astype(float), estimator.components_, k,\n",
    "                         f'DBSCAN metric={METRICS[n]} eps={distances[n]:.2f} k={k}', ax=axs[i,j])\n",
    "    else:\n",
    "        mse.append(0)\n",
    "        sc.append(0)\n",
    "    i, j = (i + 1, 0) if (n+1) % cols == 0 else (i, j + 1)\n",
    "plt.show()\n"
   ]
  },
  {
   "cell_type": "code",
   "execution_count": null,
   "metadata": {},
   "outputs": [],
   "source": [
    "fig, ax = plt.subplots(1, 2, figsize=(6, 3), squeeze=False)\n",
    "ds.bar_chart(METRICS, mse, title='DBSCAN MSE', xlabel='metric', ylabel='MSE', ax=ax[0, 0])\n",
    "ds.bar_chart(METRICS, sc, title='DBSCAN SC', xlabel='metric', ylabel='SC', ax=ax[0, 1])\n",
    "plt.show()"
   ]
  },
  {
   "cell_type": "markdown",
   "metadata": {},
   "source": [
    "## Hierarchical\n",
    "---"
   ]
  },
  {
   "cell_type": "code",
   "execution_count": null,
   "metadata": {},
   "outputs": [],
   "source": [
    "from sklearn.cluster import AgglomerativeClustering\n",
    "\n",
    "mse: list = []\n",
    "sc: list = []\n",
    "rows, cols = ds.choose_grid(len(N_CLUSTERS))\n",
    "_, axs = plt.subplots(rows, cols, figsize=(cols*5, rows*5), squeeze=False)\n",
    "i, j = 0, 0\n",
    "for n in range(len(N_CLUSTERS)):\n",
    "    k = N_CLUSTERS[n]\n",
    "    estimator = AgglomerativeClustering(n_clusters=k)\n",
    "    estimator.fit(data)\n",
    "    labels = estimator.labels_\n",
    "    centers = ds.compute_centroids(data, labels)\n",
    "    mse.append(ds.compute_mse(data.values, labels, centers))\n",
    "    sc.append(silhouette_score(data, labels))\n",
    "    ds.plot_clusters(data, v2, v1, labels, centers, k,\n",
    "                     f'Hierarchical k={k}', ax=axs[i,j])\n",
    "    i, j = (i + 1, 0) if (n+1) % cols == 0 else (i, j + 1)\n",
    "plt.show()"
   ]
  },
  {
   "cell_type": "code",
   "execution_count": null,
   "metadata": {},
   "outputs": [],
   "source": [
    "fig, ax = plt.subplots(1, 2, figsize=(6, 3), squeeze=False)\n",
    "ds.plot_line(N_CLUSTERS, mse, title='Hierarchical MSE', xlabel='k', ylabel='MSE', ax=ax[0, 0])\n",
    "ds.plot_line(N_CLUSTERS, sc, title='Hierarchical SC', xlabel='k', ylabel='SC', ax=ax[0, 1], percentage=True)\n",
    "plt.show()"
   ]
  },
  {
   "cell_type": "code",
   "execution_count": null,
   "metadata": {},
   "outputs": [],
   "source": [
    "METRICS = ['euclidean', 'cityblock', 'chebyshev', 'cosine', 'jaccard']\n",
    "LINKS = ['complete', 'average']\n",
    "k = 3\n",
    "values_mse = {}\n",
    "values_sc = {}\n",
    "rows = len(METRICS)\n",
    "cols = len(LINKS)\n",
    "_, axs = plt.subplots(rows, cols, figsize=(cols*5, rows*5), squeeze=False)\n",
    "for i in range(len(METRICS)):\n",
    "    mse: list = []\n",
    "    sc: list = []\n",
    "    m = METRICS[i]\n",
    "    for j in range(len(LINKS)):\n",
    "        link = LINKS[j]\n",
    "        estimator = AgglomerativeClustering(n_clusters=k, linkage=link, affinity=m )\n",
    "        estimator.fit(data)\n",
    "        labels = estimator.labels_\n",
    "        centers = ds.compute_centroids(data, labels)\n",
    "        mse.append(ds.compute_mse(data.values, labels, centers))\n",
    "        sc.append(silhouette_score(data, labels))\n",
    "        ds.plot_clusters(data, v2, v1, labels, centers, k,\n",
    "                         f'Hierarchical k={k} metric={m} link={link}', ax=axs[i,j])\n",
    "    values_mse[m] = mse\n",
    "    values_sc[m] = sc\n",
    "plt.show()\n"
   ]
  },
  {
   "cell_type": "code",
   "execution_count": null,
   "metadata": {},
   "outputs": [],
   "source": [
    "_, ax = plt.subplots(1, 2, figsize=(6, 3), squeeze=False)\n",
    "ds.multiple_bar_chart(LINKS, values_mse, title=f'Hierarchical MSE', xlabel='metric', ylabel='MSE', ax=ax[0, 0])\n",
    "ds.multiple_bar_chart(LINKS, values_sc, title=f'Hierarchical SC', xlabel='metric', ylabel='SC', ax=ax[0, 1])\n",
    "plt.show()"
   ]
  },
  {
   "cell_type": "markdown",
   "metadata": {},
   "source": [
    "## Conclusions\n",
    "---"
   ]
  },
  {
   "cell_type": "markdown",
   "metadata": {},
   "source": [
    "- The same as prepared.csv"
   ]
  }
 ],
 "metadata": {
  "kernelspec": {
   "display_name": "Python 3",
   "language": "python",
   "name": "python3"
  },
  "language_info": {
   "codemirror_mode": {
    "name": "ipython",
    "version": 3
   },
   "file_extension": ".py",
   "mimetype": "text/x-python",
   "name": "python",
   "nbconvert_exporter": "python",
   "pygments_lexer": "ipython3",
   "version": "3.6.9"
  }
 },
 "nbformat": 4,
 "nbformat_minor": 4
}
