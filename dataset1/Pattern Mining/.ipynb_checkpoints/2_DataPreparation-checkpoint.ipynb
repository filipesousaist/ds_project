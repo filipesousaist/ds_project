{
 "cells": [
  {
   "cell_type": "markdown",
   "metadata": {},
   "source": [
    "# 2. Data preparation\n",
    "\n",
    "---"
   ]
  },
  {
   "cell_type": "markdown",
   "metadata": {},
   "source": [
    "### Setup"
   ]
  },
  {
   "cell_type": "code",
   "execution_count": 1,
   "metadata": {},
   "outputs": [
    {
     "data": {
      "text/html": [
       "<div>\n",
       "<style scoped>\n",
       "    .dataframe tbody tr th:only-of-type {\n",
       "        vertical-align: middle;\n",
       "    }\n",
       "\n",
       "    .dataframe tbody tr th {\n",
       "        vertical-align: top;\n",
       "    }\n",
       "\n",
       "    .dataframe thead th {\n",
       "        text-align: right;\n",
       "    }\n",
       "</style>\n",
       "<table border=\"1\" class=\"dataframe\">\n",
       "  <thead>\n",
       "    <tr style=\"text-align: right;\">\n",
       "      <th></th>\n",
       "      <th>age</th>\n",
       "      <th>creatinine_phosphokinase</th>\n",
       "      <th>ejection_fraction</th>\n",
       "      <th>platelets</th>\n",
       "      <th>serum_creatinine</th>\n",
       "      <th>serum_sodium</th>\n",
       "      <th>time</th>\n",
       "    </tr>\n",
       "  </thead>\n",
       "  <tbody>\n",
       "    <tr>\n",
       "      <th>count</th>\n",
       "      <td>299.000000</td>\n",
       "      <td>299.000000</td>\n",
       "      <td>299.000000</td>\n",
       "      <td>299.000000</td>\n",
       "      <td>299.00000</td>\n",
       "      <td>299.000000</td>\n",
       "      <td>299.000000</td>\n",
       "    </tr>\n",
       "    <tr>\n",
       "      <th>mean</th>\n",
       "      <td>60.833893</td>\n",
       "      <td>581.839465</td>\n",
       "      <td>38.083612</td>\n",
       "      <td>263358.029264</td>\n",
       "      <td>1.39388</td>\n",
       "      <td>136.625418</td>\n",
       "      <td>130.260870</td>\n",
       "    </tr>\n",
       "    <tr>\n",
       "      <th>std</th>\n",
       "      <td>11.894809</td>\n",
       "      <td>970.287881</td>\n",
       "      <td>11.834841</td>\n",
       "      <td>97804.236869</td>\n",
       "      <td>1.03451</td>\n",
       "      <td>4.412477</td>\n",
       "      <td>77.614208</td>\n",
       "    </tr>\n",
       "    <tr>\n",
       "      <th>min</th>\n",
       "      <td>40.000000</td>\n",
       "      <td>23.000000</td>\n",
       "      <td>14.000000</td>\n",
       "      <td>25100.000000</td>\n",
       "      <td>0.50000</td>\n",
       "      <td>113.000000</td>\n",
       "      <td>4.000000</td>\n",
       "    </tr>\n",
       "    <tr>\n",
       "      <th>25%</th>\n",
       "      <td>51.000000</td>\n",
       "      <td>116.500000</td>\n",
       "      <td>30.000000</td>\n",
       "      <td>212500.000000</td>\n",
       "      <td>0.90000</td>\n",
       "      <td>134.000000</td>\n",
       "      <td>73.000000</td>\n",
       "    </tr>\n",
       "    <tr>\n",
       "      <th>50%</th>\n",
       "      <td>60.000000</td>\n",
       "      <td>250.000000</td>\n",
       "      <td>38.000000</td>\n",
       "      <td>262000.000000</td>\n",
       "      <td>1.10000</td>\n",
       "      <td>137.000000</td>\n",
       "      <td>115.000000</td>\n",
       "    </tr>\n",
       "    <tr>\n",
       "      <th>75%</th>\n",
       "      <td>70.000000</td>\n",
       "      <td>582.000000</td>\n",
       "      <td>45.000000</td>\n",
       "      <td>303500.000000</td>\n",
       "      <td>1.40000</td>\n",
       "      <td>140.000000</td>\n",
       "      <td>203.000000</td>\n",
       "    </tr>\n",
       "    <tr>\n",
       "      <th>max</th>\n",
       "      <td>95.000000</td>\n",
       "      <td>7861.000000</td>\n",
       "      <td>80.000000</td>\n",
       "      <td>850000.000000</td>\n",
       "      <td>9.40000</td>\n",
       "      <td>148.000000</td>\n",
       "      <td>285.000000</td>\n",
       "    </tr>\n",
       "  </tbody>\n",
       "</table>\n",
       "</div>"
      ],
      "text/plain": [
       "              age  creatinine_phosphokinase  ejection_fraction      platelets  \\\n",
       "count  299.000000                299.000000         299.000000     299.000000   \n",
       "mean    60.833893                581.839465          38.083612  263358.029264   \n",
       "std     11.894809                970.287881          11.834841   97804.236869   \n",
       "min     40.000000                 23.000000          14.000000   25100.000000   \n",
       "25%     51.000000                116.500000          30.000000  212500.000000   \n",
       "50%     60.000000                250.000000          38.000000  262000.000000   \n",
       "75%     70.000000                582.000000          45.000000  303500.000000   \n",
       "max     95.000000               7861.000000          80.000000  850000.000000   \n",
       "\n",
       "       serum_creatinine  serum_sodium        time  \n",
       "count         299.00000    299.000000  299.000000  \n",
       "mean            1.39388    136.625418  130.260870  \n",
       "std             1.03451      4.412477   77.614208  \n",
       "min             0.50000    113.000000    4.000000  \n",
       "25%             0.90000    134.000000   73.000000  \n",
       "50%             1.10000    137.000000  115.000000  \n",
       "75%             1.40000    140.000000  203.000000  \n",
       "max             9.40000    148.000000  285.000000  "
      ]
     },
     "execution_count": 1,
     "metadata": {},
     "output_type": "execute_result"
    }
   ],
   "source": [
    "import sys\n",
    "sys.path.insert(1, '../../utils')\n",
    "\n",
    "import pandas as pd\n",
    "\n",
    "original: pd.DataFrame = pd.read_csv('../heart_failure_clinical_records_dataset_after_profiling.csv', sep=';')\n",
    "\n",
    "cols_nr = original.select_dtypes(include='number')\n",
    "cols_sb = original.select_dtypes(include='bool')\n",
    "\n",
    "original.describe()"
   ]
  },
  {
   "cell_type": "markdown",
   "metadata": {},
   "source": [
    "## 2.0. Data preparation\n",
    "\n",
    "---"
   ]
  },
  {
   "cell_type": "markdown",
   "metadata": {},
   "source": [
    "### Discretization\n",
    "\n",
    "---"
   ]
  },
  {
   "cell_type": "code",
   "execution_count": 2,
   "metadata": {
    "scrolled": false
   },
   "outputs": [
    {
     "name": "stdout",
     "output_type": "stream",
     "text": [
      "Before discretization:\n",
      "\n",
      "age                          47\n",
      "anaemia                       2\n",
      "creatinine_phosphokinase    208\n",
      "diabetes                      2\n",
      "ejection_fraction            17\n",
      "high_blood_pressure           2\n",
      "platelets                   176\n",
      "serum_creatinine             40\n",
      "serum_sodium                 27\n",
      "sex                           2\n",
      "smoking                       2\n",
      "time                        148\n",
      "DEATH_EVENT                   2\n",
      "dtype: int64\n"
     ]
    }
   ],
   "source": [
    "import numpy as np\n",
    "from sklearn.preprocessing import KBinsDiscretizer\n",
    "\n",
    "print(\"Before discretization:\\n\\n\" + str(original.nunique()))\n",
    "\n",
    "data_num = original.select_dtypes('number')\n",
    "data_bool = original.select_dtypes('bool')\n",
    "\n",
    "data_num_np = data_num.to_numpy()\n",
    "data_bool_np = data_bool.to_numpy()\n",
    "\n",
    "bins1 = [25, 25, 10, 25, 25, 25, 25]\n",
    "bins2 = [10, 10, 5, 10, 10, 10, 10]"
   ]
  },
  {
   "cell_type": "code",
   "execution_count": 3,
   "metadata": {},
   "outputs": [],
   "source": [
    "def discretize(bins):\n",
    "    new_data_by_var = [pd.DataFrame() for _ in range(len(bins))]\n",
    "\n",
    "    for var in range(len(bins)):\n",
    "        curr_data = data_num_np[:,var]\n",
    "        bin_size = 1 / bins[var]\n",
    "\n",
    "        quantiles = [np.quantile(curr_data, bin_size, interpolation='lower')]\n",
    "        for step in range(2, bins[var]):\n",
    "            q = np.quantile(curr_data, bin_size * step, interpolation='lower')\n",
    "            if quantiles[-1] != q:\n",
    "                quantiles.append(q)\n",
    "        new_data = new_data_by_var[var]\n",
    "        name = data_num.columns[var]\n",
    "\n",
    "        def addBoolColumn(index, name, cond):\n",
    "            new_data.insert(index, name, [cond(v) for v in curr_data])\n",
    "\n",
    "        def rm_flt(num):\n",
    "            return str(int(num)) if num == int(num) else str(num)\n",
    "\n",
    "        addBoolColumn(0, name + \"<\" + rm_flt(quantiles[0]), lambda x: x < quantiles[0])\n",
    "\n",
    "        for q in range(len(quantiles) - 1):\n",
    "            new_name = rm_flt(quantiles[q]) + \"<=\" + name + \"<\" + rm_flt(quantiles[q + 1])\n",
    "            test = lambda x : quantiles[q] <= x < quantiles[q + 1]\n",
    "            addBoolColumn(q + 1, new_name, test)\n",
    "\n",
    "        addBoolColumn(len(quantiles), \n",
    "            name + \">=\" + rm_flt(quantiles[-1]), lambda x: x >= quantiles[-1])\n",
    "    \n",
    "    return new_data_by_var"
   ]
  },
  {
   "cell_type": "code",
   "execution_count": 10,
   "metadata": {},
   "outputs": [],
   "source": [
    "def sep_true_false():\n",
    "    new_data_bool = [data_bool.copy(deep=True), pd.DataFrame()]\n",
    "    for v in range(len(data_bool.columns)):\n",
    "        var = data_bool.columns[v]\n",
    "        curr_data = data_bool_np[:,v]\n",
    "        \n",
    "        if var == 'sex':\n",
    "            new_data_bool[0] = new_data_bool[0].rename(columns = {'sex': 'sex_M'})\n",
    "            name = 'sex_F'\n",
    "        else:\n",
    "            name = 'no_' + var\n",
    "        \n",
    "        new_data_bool[1].insert(v, name, [not val for val in curr_data])\n",
    "    return new_data_bool\n",
    "\n",
    "def add_m_f():\n",
    "    new_data_bool = [data_bool.copy(deep=True), pd.DataFrame()]\n",
    "    new_data_bool[0] = new_data_bool[0].rename(columns = {'sex': 'sex_M'})\n",
    "    new_data_bool[1].insert(0, 'sex_F', [not val for val in data_bool['sex']])\n",
    "    return new_data_bool"
   ]
  },
  {
   "cell_type": "code",
   "execution_count": 11,
   "metadata": {},
   "outputs": [
    {
     "name": "stdout",
     "output_type": "stream",
     "text": [
      "\n",
      "\n",
      "After discretization:\n",
      "\n",
      "age<42                 2\n",
      "42<=age<45             2\n",
      "45<=age<50             2\n",
      "50<=age<53             2\n",
      "53<=age<55             2\n",
      "                      ..\n",
      "high_blood_pressure    2\n",
      "sex_M                  2\n",
      "smoking                2\n",
      "DEATH_EVENT            2\n",
      "sex_F                  2\n",
      "Length: 133, dtype: int64\n"
     ]
    }
   ],
   "source": [
    "new_data_bool = add_m_f()\n",
    "\n",
    "discretized1 = pd.concat(discretize(bins1) + new_data_bool, axis = 1)\n",
    "discretized2 = pd.concat(discretize(bins2) + new_data_bool, axis = 1)\n",
    "\n",
    "print(\"\\n\\nAfter discretization:\\n\\n\" + str(discretized1.nunique()))"
   ]
  },
  {
   "cell_type": "code",
   "execution_count": 14,
   "metadata": {},
   "outputs": [
    {
     "name": "stdout",
     "output_type": "stream",
     "text": [
      "0      False\n",
      "1      False\n",
      "2      False\n",
      "3      False\n",
      "4       True\n",
      "       ...  \n",
      "294    False\n",
      "295     True\n",
      "296     True\n",
      "297    False\n",
      "298    False\n",
      "Name: sex_F, Length: 299, dtype: bool\n",
      "0       True\n",
      "1       True\n",
      "2       True\n",
      "3       True\n",
      "4      False\n",
      "       ...  \n",
      "294     True\n",
      "295    False\n",
      "296    False\n",
      "297     True\n",
      "298     True\n",
      "Name: sex_M, Length: 299, dtype: bool\n"
     ]
    }
   ],
   "source": [
    "print(discretized1['sex_F'])\n",
    "print(discretized1['sex_M'])"
   ]
  },
  {
   "cell_type": "code",
   "execution_count": 15,
   "metadata": {},
   "outputs": [],
   "source": [
    "# Finally, export prepared data to csv\n",
    "discretized1.to_csv('data/prepared_d1.csv', sep=';', index=False)\n",
    "discretized2.to_csv('data/prepared_d2.csv', sep=';', index=False)"
   ]
  },
  {
   "cell_type": "markdown",
   "metadata": {},
   "source": [
    "### Feature Selection\n",
    "\n",
    "---"
   ]
  },
  {
   "cell_type": "markdown",
   "metadata": {},
   "source": [
    "#### Unsupervised Selection"
   ]
  },
  {
   "cell_type": "markdown",
   "metadata": {},
   "source": [
    "By definition, unsupervised selection only aims for eliminating redundancies among the\n",
    "variables, getting the smallest set possible."
   ]
  },
  {
   "cell_type": "code",
   "execution_count": 7,
   "metadata": {},
   "outputs": [
    {
     "name": "stdout",
     "output_type": "stream",
     "text": [
      "     age<42  42<=age<45  45<=age<50  50<=age<53  53<=age<55  55<=age<58  \\\n",
      "0     False       False       False       False       False       False   \n",
      "1     False       False       False       False       False        True   \n",
      "2     False       False       False       False       False       False   \n",
      "3     False       False       False        True       False       False   \n",
      "4     False       False       False       False       False       False   \n",
      "..      ...         ...         ...         ...         ...         ...   \n",
      "294   False       False       False       False       False       False   \n",
      "295   False       False       False       False       False        True   \n",
      "296   False       False        True       False       False       False   \n",
      "297   False       False        True       False       False       False   \n",
      "298   False       False       False        True       False       False   \n",
      "\n",
      "     58<=age<60  60<=age<61  61<=age<63  63<=age<65  ...  205<=time<210  \\\n",
      "0         False       False       False       False  ...          False   \n",
      "1         False       False       False       False  ...          False   \n",
      "2         False       False       False       False  ...          False   \n",
      "3         False       False       False       False  ...          False   \n",
      "4         False       False       False       False  ...          False   \n",
      "..          ...         ...         ...         ...  ...            ...   \n",
      "294       False       False        True       False  ...          False   \n",
      "295       False       False       False       False  ...          False   \n",
      "296       False       False       False       False  ...          False   \n",
      "297       False       False       False       False  ...          False   \n",
      "298       False       False       False       False  ...          False   \n",
      "\n",
      "     210<=time<214  214<=time<235  235<=time<245  245<=time<250  time>=250  \\\n",
      "0            False          False          False          False      False   \n",
      "1            False          False          False          False      False   \n",
      "2            False          False          False          False      False   \n",
      "3            False          False          False          False      False   \n",
      "4            False          False          False          False      False   \n",
      "..             ...            ...            ...            ...        ...   \n",
      "294          False          False          False          False       True   \n",
      "295          False          False          False          False       True   \n",
      "296          False          False          False          False       True   \n",
      "297          False          False          False          False       True   \n",
      "298          False          False          False          False       True   \n",
      "\n",
      "     diabetes  high_blood_pressure  sex_M  DEATH_EVENT  \n",
      "0       False                 True   True         True  \n",
      "1       False                False   True         True  \n",
      "2       False                False   True         True  \n",
      "3       False                False   True         True  \n",
      "4        True                False  False         True  \n",
      "..        ...                  ...    ...          ...  \n",
      "294      True                 True   True        False  \n",
      "295     False                False  False        False  \n",
      "296      True                False  False        False  \n",
      "297     False                False   True        False  \n",
      "298     False                False   True        False  \n",
      "\n",
      "[299 rows x 103 columns]\n"
     ]
    }
   ],
   "source": [
    "import seaborn as sns\n",
    "\n",
    "df = discretized1\n",
    "\n",
    "copy = df.copy(deep=True)\n",
    "copy = copy.drop('DEATH_EVENT', axis = 1)\n",
    "corrs = copy.corr()\n",
    "\n",
    "removed = []\n",
    "\n",
    "for x in corrs:\n",
    "    for y in corrs:\n",
    "        if x == y:\n",
    "            break\n",
    "        corr = corrs[x][y]\n",
    "        if abs(corr) >= 0.2 and x not in removed and y not in removed:\n",
    "            copy = copy.drop(x, axis=1)\n",
    "            removed.append(x)\n",
    "            break\n",
    "\n",
    "copy['DEATH_EVENT'] = df['DEATH_EVENT']\n",
    "\n",
    "data_dict_unsupervised = copy.copy(deep=True)\n",
    "print(data_dict_unsupervised)"
   ]
  },
  {
   "cell_type": "code",
   "execution_count": 8,
   "metadata": {},
   "outputs": [],
   "source": [
    "data_dict_unsupervised.to_csv('data/prepared_d_s.csv', sep=';', index=False)"
   ]
  },
  {
   "cell_type": "markdown",
   "metadata": {},
   "source": [
    "### Summary\n",
    "\n",
    "---\n",
    "\n",
    "***Are all variables in the same scale? If not, how does scaling impact the results?***\n",
    "\n",
    "\n",
    "\n",
    "***Is the dataset unbalanced? If yes, what is the best balancing technique to apply?***\n",
    "\n"
   ]
  }
 ],
 "metadata": {
  "kernelspec": {
   "display_name": "Python 3",
   "language": "python",
   "name": "python3"
  },
  "language_info": {
   "codemirror_mode": {
    "name": "ipython",
    "version": 3
   },
   "file_extension": ".py",
   "mimetype": "text/x-python",
   "name": "python",
   "nbconvert_exporter": "python",
   "pygments_lexer": "ipython3",
   "version": "3.6.9"
  }
 },
 "nbformat": 4,
 "nbformat_minor": 4
}
